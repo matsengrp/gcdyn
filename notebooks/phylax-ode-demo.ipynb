{
 "cells": [
  {
   "cell_type": "code",
   "execution_count": 87,
   "metadata": {},
   "outputs": [],
   "source": [
    "import numpy as onp\n",
    "import jax\n",
    "import jax.numpy as jnp\n",
    "import diffrax as dx\n",
    "import equinox as eqx\n",
    "import matplotlib.pyplot as plt\n",
    "import jax.tree_util as jtu\n",
    "from jaxtyping import Array, Int, Float\n",
    "from typing import Tuple\n",
    "import ete3\n",
    "\n",
    "import phylax.message as msg\n",
    "from gcdyn import bdms, mutators, poisson"
   ]
  },
  {
   "cell_type": "code",
   "execution_count": 86,
   "metadata": {},
   "outputs": [],
   "source": [
    "class MTBDmessenger(msg.Messenger):\n",
    "    fr\"\"\"A callable Pytree that computes the message received at a node, given its features\n",
    "    and the representations of its children.\n",
    "\n",
    "    Multi-type birth-death process with sampling and fossilization. Assume\n",
    "    :math:`d\\in\\mathbb{N}_0` types.\n",
    "\n",
    "    Args:\n",
    "        λ: Birth rates for each of :math:`d` states.\n",
    "        μ: Death rates for each of :math:`d` states.\n",
    "        Γ: :math:`d \\times d` transition rate matrix, modeling mutation between states.\n",
    "           It should have zero entries on the diagonal, and non-negative entries elsewhere.\n",
    "        σ: Sampling probability :math:`\\in [0, 1]`.\n",
    "        ρ: Fossilization probability :math:`\\in [0, 1]`.\n",
    "    \"\"\"\n",
    "    λ: Float[Array, \" d\"]\n",
    "    μ: Float[Array, \" d\"]\n",
    "    Γ: Float[Array, \"d d\"]\n",
    "    σ: Float\n",
    "    ρ: Float\n",
    "    def __init__(self, λ, μ, Γ, σ, ρ):\n",
    "        self.null_value = 0.0\n",
    "        self.λ = λ\n",
    "        self.μ = μ\n",
    "        self.Γ = Γ\n",
    "        self.σ = σ\n",
    "        self.ρ = ρ\n",
    "\n",
    "    def __call__(self, child_representations: ???, parent_features: Tuple[int, float, float]) -> ???:\n",
    "        parent_type = parent_features[0]\n",
    "        parent_branch_len = parent_features[1]\n",
    "        parent_time = parent_features[2]\n",
    "        child_pqs = child_representations[:, 1:3]\n",
    "        child_branch_lens = child_representations[:, 2]\n",
    "        child_times = child_representations[:, 3]\n",
    "        \n",
    "        branch_propagator = self.g(parent_time, parent_time + parent_branch_len, child_representations, (self.λ, self.μ, self.Γ, self.σ))\n",
    "\n",
    "\n",
    "    @staticmethod\n",
    "    @jax.jit\n",
    "    def f(t: Float, pq: Float[Array, \"d 2\"], args):\n",
    "        λ, μ, Γ, σ = args\n",
    "        γ = jnp.sum(Γ, axis=1)\n",
    "        p = pq[:, 0]\n",
    "        q = pq[:, 1]\n",
    "        dpdt = -(λ + μ + γ) * p + μ * (1 - σ) + λ * p ** 2 + Γ @ p\n",
    "        dqdt = -(λ + μ + γ) * q + 2 * λ * q * p\n",
    "        return jnp.stack([dpdt, dqdt], axis=1)\n",
    "    \n",
    "    @eqx.filter_jit\n",
    "    def g(self, t0: Float, t1: Float, pq0: Float[Array, \"d 2\"]):\n",
    "        solution = dx.diffeqsolve(dx.ODETerm(self.f),\n",
    "                                  dx.Dopri5(),\n",
    "                                  args=(self.λ, self.μ, self.Γ, self.σ),\n",
    "                                  y0=pq0,\n",
    "                                  t0=t0, t1=t1, dt0=(t1 - t0) / 10)\n",
    "        return solution.ys[-1]"
   ]
  },
  {
   "cell_type": "code",
   "execution_count": null,
   "metadata": {},
   "outputs": [],
   "source": []
  },
  {
   "cell_type": "code",
   "execution_count": 76,
   "metadata": {},
   "outputs": [],
   "source": [
    "class MTBDmodel(eqx.Module):\n",
    "    \"\"\"TODO: docstring\"\"\"\n",
    "    term: dx.ODETerm\n",
    "    # tree_message_passer: msg.TreeMessagePasser\n",
    "    def __init__(self, tree: ete3.TreeNode,\n",
    "                 λ: Float[Array, \" d\"],\n",
    "                 μ: Float[Array, \" d\"],\n",
    "                 Γ: Float[Array, \"d d\"],\n",
    "                 ρ: Float,\n",
    "                 σ: Float):\n",
    "        self.term = dx.ODETerm(self.f)\n",
    "        # self.tree_message_passer =  msg.TreeMessagePasser(...)\n",
    "\n",
    "# NOTE: need to initialize ps, as Thanasi notes"
   ]
  },
  {
   "cell_type": "code",
   "execution_count": 77,
   "metadata": {},
   "outputs": [],
   "source": [
    "key = jax.random.PRNGKey(0)"
   ]
  },
  {
   "cell_type": "code",
   "execution_count": 78,
   "metadata": {},
   "outputs": [],
   "source": [
    "d = 10\n",
    "λ = jnp.logspace(-1, 1, d)\n",
    "μ = jnp.logspace(-1, 1, d)\n",
    "Γ = jnp.exp(jax.random.normal(key, shape=(d, d))) * (1 - jnp.eye(d))\n",
    "ρ = 0.5\n",
    "σ = 0.1"
   ]
  },
  {
   "cell_type": "code",
   "execution_count": 79,
   "metadata": {},
   "outputs": [],
   "source": [
    "pq0 = jnp.ones((d, 2))"
   ]
  },
  {
   "cell_type": "code",
   "execution_count": 80,
   "metadata": {},
   "outputs": [
    {
     "data": {
      "text/plain": [
       "Array([[8.29602514e-01, 2.43124057e-08],\n",
       "       [8.35744087e-01, 3.35012161e-04],\n",
       "       [8.33196781e-01, 3.22841131e-05],\n",
       "       [8.32552500e-01, 2.38935633e-07],\n",
       "       [8.31213660e-01, 1.81156385e-06],\n",
       "       [8.23096005e-01, 4.05979706e-04],\n",
       "       [8.22503734e-01, 3.01066380e-08],\n",
       "       [8.14995368e-01, 6.10820877e-06],\n",
       "       [8.10508707e-01, 1.01537908e-07],\n",
       "       [8.02975648e-01, 5.90008834e-06]], dtype=float64, weak_type=True)"
      ]
     },
     "execution_count": 80,
     "metadata": {},
     "output_type": "execute_result"
    }
   ],
   "source": [
    "model = MTBDmodel(0, 0, 0, 0, 0, 0)\n",
    "\n",
    "args = (λ, μ, Γ, σ)\n",
    "t0 = 0\n",
    "t1 = 1\n",
    "\n",
    "pq1 = model.g(t0, t1, pq0, args)\n",
    "\n",
    "pq1"
   ]
  },
  {
   "cell_type": "code",
   "execution_count": null,
   "metadata": {},
   "outputs": [],
   "source": [
    "birth_rate = poisson.SigmoidResponse(xscale=3.0, xshift=0.4, yscale=4, yshift=0.0)\n",
    "death_rate = poisson.ConstantResponse(0.8)\n",
    "mutation_rate = poisson.ConstantResponse(1.1)\n",
    "mutator = mutators.GaussianMutator(shift=-0.1, scale=0.1)"
   ]
  },
  {
   "cell_type": "code",
   "execution_count": 7,
   "metadata": {},
   "outputs": [],
   "source": []
  },
  {
   "cell_type": "code",
   "execution_count": 117,
   "metadata": {},
   "outputs": [],
   "source": [
    "d = 10\n",
    "λ = jnp.ones(d)\n",
    "# λ = jnp.logspace(-1, 1, d)\n",
    "μ = 2 * λ\n",
    "# μ = jnp.logspace(-1, 1, d)\n",
    "Γ = jnp.exp(jax.random.normal(key, shape=(d, d))) * (1 - jnp.eye(d))\n",
    "ρ = 0.5\n",
    "σ = 0.1"
   ]
  },
  {
   "cell_type": "code",
   "execution_count": 118,
   "metadata": {},
   "outputs": [],
   "source": [
    "def f(t, p, args):\n",
    "    λ, μ, γ, Γ, σ = args\n",
    "    γ = jnp.sum(Γ, axis=1)\n",
    "    return -(λ + μ + γ) * p + μ * (1 - σ) + λ * p ** 2 + Γ @ p"
   ]
  },
  {
   "attachments": {},
   "cell_type": "markdown",
   "metadata": {},
   "source": [
    "Some times we want to evaluate the solution at (i.e. tree leaves)"
   ]
  },
  {
   "cell_type": "code",
   "execution_count": 119,
   "metadata": {},
   "outputs": [],
   "source": [
    "t = jnp.linspace(0, 10, 100)"
   ]
  },
  {
   "cell_type": "code",
   "execution_count": 120,
   "metadata": {},
   "outputs": [],
   "source": [
    "term = dx.ODETerm(f)\n",
    "solver = dx.Dopri5()\n",
    "p0 = (1 - ρ) * jnp.ones(d)\n",
    "solution = dx.diffeqsolve(term, solver,\n",
    "                          args=(λ, μ, γ, Γ, σ),\n",
    "                          y0=p0,\n",
    "                          t0=t[0], t1=t[-1], dt0=0.1, saveat=dx.SaveAt(ts=t))"
   ]
  },
  {
   "cell_type": "code",
   "execution_count": 121,
   "metadata": {},
   "outputs": [
    {
     "data": {
      "image/png": "[encoded data removed]",
      "text/plain": [
       "<Figure size 800x400 with 1 Axes>"
      ]
     },
     "metadata": {},
     "output_type": "display_data"
    }
   ],
   "source": [
    "# plot solution\n",
    "plt.figure(figsize=(8, 4))\n",
    "plt.plot(t, solution.ys)\n",
    "plt.axhline(1 - ρ, color='k', linestyle='--', label=r'$1-\\rho$')\n",
    "plt.axhline(1 - σ, color='k', linestyle=':', label=r'$1-\\sigma$')\n",
    "plt.legend()\n",
    "plt.xlabel('$t$')\n",
    "plt.ylabel(r'$\\mathbf{p}(t)$')\n",
    "plt.title('ODE solution')\n",
    "plt.show()"
   ]
  },
  {
   "cell_type": "code",
   "execution_count": null,
   "metadata": {},
   "outputs": [],
   "source": []
  }
 ],
 "metadata": {
  "kernelspec": {
   "display_name": "gcdyn",
   "language": "python",
   "name": "python3"
  },
  "language_info": {
   "codemirror_mode": {
    "name": "ipython",
    "version": 3
   },
   "file_extension": ".py",
   "mimetype": "text/x-python",
   "name": "python",
   "nbconvert_exporter": "python",
   "pygments_lexer": "ipython3",
   "version": "3.9.13"
  },
  "orig_nbformat": 4
 },
 "nbformat": 4,
 "nbformat_minor": 2
}
