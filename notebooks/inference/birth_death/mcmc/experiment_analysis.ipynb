{
 "cells": [
  {
   "cell_type": "code",
   "execution_count": null,
   "metadata": {
    "vscode": {
     "languageId": "r"
    }
   },
   "outputs": [],
   "source": [
    "library(tidyverse)\n",
    "library(coda)\n",
    "library(glue)\n",
    "\n",
    "options(repr.plot.width = 15, repr.plot.height = 8)\n",
    "theme_set(theme_gray(base_size = 20))\n"
   ]
  },
  {
   "cell_type": "code",
   "execution_count": null,
   "metadata": {
    "vscode": {
     "languageId": "r"
    }
   },
   "outputs": [],
   "source": [
    "samples <- read_csv(\"experiment_samples.csv\") |>\n",
    "    rename(Iteration = `...1`) |>\n",
    "    pivot_longer(starts_with(\"birth_rate\"),\n",
    "        names_to = \"Parameter\",\n",
    "        values_to = \"Sample\"\n",
    "    ) |>\n",
    "    mutate(tree = factor(tree))\n",
    "\n",
    "truth <- tibble(\n",
    "    Parameter = c(\"birth_rate1\", \"birth_rate2\"),\n",
    "    Truth = c(1, 4)\n",
    ")\n"
   ]
  },
  {
   "cell_type": "code",
   "execution_count": null,
   "metadata": {
    "vscode": {
     "languageId": "r"
    }
   },
   "outputs": [],
   "source": [
    "ggplot(samples, aes(Iteration, Sample, color = tree)) +\n",
    "    geom_line() +\n",
    "    facet_wrap(vars(Parameter)) +\n",
    "    ggtitle(\"Traceplots\")\n"
   ]
  },
  {
   "cell_type": "code",
   "execution_count": null,
   "metadata": {
    "vscode": {
     "languageId": "r"
    }
   },
   "outputs": [],
   "source": [
    "samples |>\n",
    "    group_by(Parameter, tree) |>\n",
    "    summarise(\n",
    "        n = n(),\n",
    "        ESS = effectiveSize(Sample),\n",
    "        quantile_025 = quantile(Sample, 0.025),\n",
    "        median = median(Sample),\n",
    "        quantile_975 = quantile(Sample, 0.975),\n",
    "    ) |>\n",
    "    left_join(truth, by = \"Parameter\") |>\n",
    "    mutate(\n",
    "        `Relative error` = abs((median - Truth) / Truth),\n",
    "        Coverage = quantile_025 <= Truth & Truth <= quantile_975\n",
    "    ) |>\n",
    "    group_by(Parameter) |>\n",
    "    summarise(\n",
    "        n = sum(n),\n",
    "        ESS = sum(ESS) |> round(),\n",
    "        `Relative error` = mean(`Relative error`),\n",
    "        Coverage = glue(\"{100*mean(Coverage)}%\")\n",
    "    )\n"
   ]
  },
  {
   "cell_type": "code",
   "execution_count": null,
   "metadata": {
    "vscode": {
     "languageId": "r"
    }
   },
   "outputs": [],
   "source": [
    "left_join(samples, truth, by = \"Parameter\") |>\n",
    "    ggplot(aes(Sample)) +\n",
    "    stat_function(\n",
    "        aes(fill = \"Prior\"),\n",
    "        fun = dlnorm,\n",
    "        args = list(meanlog = 1.5, sdlog = 1),\n",
    "        geom = \"area\",\n",
    "        alpha = 0.8\n",
    "    ) +\n",
    "    geom_histogram(\n",
    "        aes(y = after_stat(density), fill = \"Posterior\"),\n",
    "        alpha = 0.8\n",
    "    ) +\n",
    "    geom_vline(aes(xintercept = Truth),\n",
    "        color = \"red\",\n",
    "        linewidth = 1.5,\n",
    "        linetype = \"dashed\"\n",
    "    ) +\n",
    "    lims(x = c(0, 6)) +\n",
    "    scale_fill_manual(\n",
    "        name = \"\",\n",
    "        values = c(\"Prior\" = \"grey\", \"Posterior\" = \"steelblue\")\n",
    "    ) +\n",
    "    facet_wrap(vars(Parameter))\n"
   ]
  }
 ],
 "metadata": {
  "kernelspec": {
   "display_name": "R",
   "language": "R",
   "name": "ir"
  },
  "language_info": {
   "codemirror_mode": "r",
   "file_extension": ".r",
   "mimetype": "text/x-r-source",
   "name": "R",
   "pygments_lexer": "r",
   "version": "4.3.0"
  },
  "orig_nbformat": 4
 },
 "nbformat": 4,
 "nbformat_minor": 2
}
