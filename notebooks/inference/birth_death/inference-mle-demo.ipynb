{
 "cells": [
  {
   "attachments": {},
   "cell_type": "markdown",
   "metadata": {},
   "source": [
    "# Demo of `models.py`"
   ]
  },
  {
   "cell_type": "code",
   "execution_count": 9,
   "metadata": {},
   "outputs": [],
   "source": [
    "from gcdyn import models, poisson, utils, mutators\n",
    "import jax.numpy as np\n",
    "from jax.config import config\n",
    "\n",
    "config.update(\"jax_enable_x64\", True)"
   ]
  },
  {
   "attachments": {},
   "cell_type": "markdown",
   "metadata": {},
   "source": [
    "## Set up truth"
   ]
  },
  {
   "cell_type": "code",
   "execution_count": 10,
   "metadata": {},
   "outputs": [],
   "source": [
    "true_parameters = {\n",
    "    \"birth_response\": poisson.SigmoidResponse(1.0, 5.0, 3.0, 1.0),\n",
    "    \"death_response\": poisson.ConstantResponse(1.3),\n",
    "    # \"mutation_response\": poisson.ConstantResponse(1.2),\n",
    "    \"mutation_response\": poisson.ConstantResponse(2),\n",
    "    \"mutator\": mutators.DiscreteMutator(\n",
    "        state_space=(1, 3, 5, 7, 9),\n",
    "        transition_matrix=np.array(\n",
    "            [\n",
    "                [3, 2, 2, 1, 1],\n",
    "                [2, 3, 2, 1, 1],\n",
    "                [1, 2, 3, 2, 1],\n",
    "                [1, 1, 2, 3, 2],\n",
    "                [1, 1, 2, 2, 3],\n",
    "            ]\n",
    "        )\n",
    "        / 9,\n",
    "    ),\n",
    "    \"extant_sampling_probability\": 1,\n",
    "    \"extinct_sampling_probability\": 0,\n",
    "}"
   ]
  },
  {
   "cell_type": "code",
   "execution_count": 11,
   "metadata": {},
   "outputs": [
    {
     "data": {
      "image/png": "[encoded data removed]",
      "text/plain": [
       "<Figure size 640x480 with 1 Axes>"
      ]
     },
     "metadata": {},
     "output_type": "display_data"
    }
   ],
   "source": [
    "utils.plot_responses(true_parameters[\"birth_response\"], x_range=(0, 10))"
   ]
  },
  {
   "attachments": {},
   "cell_type": "markdown",
   "metadata": {},
   "source": [
    "## Simulate some trees"
   ]
  },
  {
   "cell_type": "code",
   "execution_count": 12,
   "metadata": {},
   "outputs": [
    {
     "name": "stdout",
     "output_type": "stream",
     "text": [
      "Sampling trees...\n"
     ]
    },
    {
     "data": {
      "application/vnd.jupyter.widget-view+json": {
       "model_id": "a3ffd652733f4c8787722d3ca4d25586",
       "version_major": 2,
       "version_minor": 0
      },
      "text/plain": [
       "  0%|          | 0/5 [00:00<?, ?it/s]"
      ]
     },
     "metadata": {},
     "output_type": "display_data"
    },
    {
     "name": "stdout",
     "output_type": "stream",
     "text": [
      "Notice: obtained error 'number of survivors 0 is less than min_survivors=1' 8 times.\n",
      "Success: average of 74.0 nodes per tree, over 5 trees.\n",
      "Type 1 exists in 40 nodes\n",
      "Type 3 exists in 37 nodes\n",
      "Type 5 exists in 111 nodes\n",
      "Type 7 exists in 69 nodes\n",
      "Type 9 exists in 113 nodes\n",
      "\n",
      "After pruning: average of 40.4 nodes per tree, and average of 13.4 leaves per tree, over 5 trees.\n",
      "Type 1 exists in 19 nodes\n",
      "Type 3 exists in 3 nodes\n",
      "Type 5 exists in 52 nodes\n",
      "Type 7 exists in 59 nodes\n",
      "Type 9 exists in 69 nodes\n"
     ]
    }
   ],
   "source": [
    "PRESENT_TIME = 2\n",
    "\n",
    "trees = utils.sample_trees(\n",
    "    n=5,\n",
    "    t=PRESENT_TIME,\n",
    "    init_x=1,\n",
    "    **true_parameters,\n",
    "    seed=10,\n",
    "    min_survivors=1,\n",
    "    prune=True,\n",
    ")"
   ]
  },
  {
   "attachments": {},
   "cell_type": "markdown",
   "metadata": {},
   "source": [
    "## Computing likelihood"
   ]
  },
  {
   "cell_type": "code",
   "execution_count": 13,
   "metadata": {},
   "outputs": [
    {
     "data": {
      "text/plain": [
       "Array(-138.23099634, dtype=float64, weak_type=True)"
      ]
     },
     "execution_count": 13,
     "metadata": {},
     "output_type": "execute_result"
    }
   ],
   "source": [
    "models.stadler_full_log_likelihood(\n",
    "    trees=trees,\n",
    "    **true_parameters,\n",
    "    present_time=PRESENT_TIME,\n",
    "    dtmax=0.01,\n",
    ")"
   ]
  },
  {
   "attachments": {},
   "cell_type": "markdown",
   "metadata": {},
   "source": [
    "## Maximum likelihood estimation of rate parameters"
   ]
  },
  {
   "cell_type": "code",
   "execution_count": 14,
   "metadata": {},
   "outputs": [
    {
     "data": {
      "text/plain": [
       "ScipyMinimizeInfo(fun_val=Array(133.66338242, dtype=float64, weak_type=True), success=True, status=0, iter_num=33)"
      ]
     },
     "execution_count": 14,
     "metadata": {},
     "output_type": "execute_result"
    }
   ],
   "source": [
    "# Initialize with the truth\n",
    "\n",
    "model = models.BirthDeathModel(\n",
    "    log_likelihood=models.stadler_appx_log_likelihood,\n",
    "    trees=trees,\n",
    "    optimized_parameters={\n",
    "        \"birth_response\": true_parameters[\"birth_response\"],\n",
    "        \"death_response\": true_parameters[\"death_response\"],\n",
    "    },\n",
    "    fixed_parameters={\n",
    "        \"mutation_response\": true_parameters[\"mutation_response\"],\n",
    "        \"mutator\": true_parameters[\"mutator\"],\n",
    "        \"extant_sampling_probability\": true_parameters[\"extant_sampling_probability\"],\n",
    "        \"extinct_sampling_probability\": true_parameters[\"extinct_sampling_probability\"],\n",
    "        \"present_time\": PRESENT_TIME,\n",
    "    },\n",
    ")\n",
    "\n",
    "model.fit()"
   ]
  },
  {
   "cell_type": "code",
   "execution_count": 15,
   "metadata": {},
   "outputs": [
    {
     "data": {
      "text/plain": [
       "SigmoidResponse(xscale=7.528681085886614, xshift=4.974703374097493, yscale=2.186523657915787, yshift=0.3873370827256319)"
      ]
     },
     "execution_count": 15,
     "metadata": {},
     "output_type": "execute_result"
    }
   ],
   "source": [
    "model.parameters[\"birth_response\"]"
   ]
  },
  {
   "cell_type": "code",
   "execution_count": 16,
   "metadata": {},
   "outputs": [
    {
     "data": {
      "image/png": "[encoded data removed]",
      "text/plain": [
       "<Figure size 640x480 with 1 Axes>"
      ]
     },
     "metadata": {},
     "output_type": "display_data"
    }
   ],
   "source": [
    "utils.plot_responses(\n",
    "    Truth=true_parameters[\"birth_response\"],\n",
    "    Result=model.parameters[\"birth_response\"],\n",
    "    x_range=(0, 10),\n",
    ")"
   ]
  }
 ],
 "metadata": {
  "kernelspec": {
   "display_name": ".venv",
   "language": "python",
   "name": "python3"
  },
  "language_info": {
   "codemirror_mode": {
    "name": "ipython",
    "version": 3
   },
   "file_extension": ".py",
   "mimetype": "text/x-python",
   "name": "python",
   "nbconvert_exporter": "python",
   "pygments_lexer": "ipython3",
   "version": "3.9.16"
  },
  "orig_nbformat": 4
 },
 "nbformat": 4,
 "nbformat_minor": 2
}
