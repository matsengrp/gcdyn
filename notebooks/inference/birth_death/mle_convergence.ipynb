{
 "cells": [
  {
   "attachments": {},
   "cell_type": "markdown",
   "metadata": {},
   "source": [
    "# Assessing MLE convergence"
   ]
  },
  {
   "cell_type": "code",
   "execution_count": null,
   "metadata": {},
   "outputs": [],
   "source": [
    "from gcdyn import models, poisson, utils, mutators\n",
    "import jax.numpy as np\n",
    "from jax.config import config\n",
    "from tqdm import tqdm\n",
    "import itertools\n",
    "import matplotlib.pyplot as plt\n",
    "\n",
    "config.update(\"jax_enable_x64\", True)"
   ]
  },
  {
   "attachments": {},
   "cell_type": "markdown",
   "metadata": {},
   "source": [
    "Let's try fitting models with different initial values for the parameters"
   ]
  },
  {
   "cell_type": "code",
   "execution_count": null,
   "metadata": {},
   "outputs": [],
   "source": [
    "seed = 10\n",
    "\n",
    "# (Deliberately avoiding rate parameters == constant 1, because a lot of bugs hide in this scenario)\n",
    "true_parameters = {\n",
    "    \"birth_response\": poisson.SigmoidResponse(1.0, 5.0, 2.0, 0.5),\n",
    "    \"death_response\": poisson.ConstantResponse(1.3),\n",
    "    \"mutation_response\": poisson.ConstantResponse(1.2),\n",
    "    \"mutator\": mutators.DiscreteMutator(\n",
    "        state_space=(1, 3, 5, 7, 9),\n",
    "        transition_matrix=np.array(\n",
    "            [\n",
    "                [3 / 9, 2 / 9, 2 / 9, 1 / 9, 1 / 9],\n",
    "                [2 / 9, 3 / 9, 2 / 9, 1 / 9, 1 / 9],\n",
    "                [1 / 9, 2 / 9, 3 / 9, 2 / 9, 1 / 9],\n",
    "                [1 / 9, 1 / 9, 2 / 9, 3 / 9, 2 / 9],\n",
    "                [1 / 9, 1 / 9, 2 / 9, 2 / 9, 3 / 9],\n",
    "            ]\n",
    "        ),\n",
    "    ),\n",
    "    \"extant_sampling_probability\": 1,\n",
    "}\n",
    "\n",
    "PRESENT_TIME = 4\n",
    "\n",
    "trees = utils.sample_trees(n=1, t=PRESENT_TIME, init_x=1, **true_parameters, seed=seed)"
   ]
  },
  {
   "cell_type": "code",
   "execution_count": null,
   "metadata": {},
   "outputs": [],
   "source": [
    "magnitudes = []\n",
    "log_liks = []\n",
    "\n",
    "truth = true_parameters[\"birth_response\"]._flatten()[2]\n",
    "search_space = itertools.product(\n",
    "    np.arange(0.0, 5.0), np.arange(0.0, 5.0), np.arange(-5.0, 5.0), np.arange(0.0, 5.0)\n",
    ")\n",
    "\n",
    "model = models.BirthDeathModel(\n",
    "    log_likelihood=models.stadler_appx_log_likelihood,\n",
    "    trees=trees,\n",
    "    optimized_parameters={\n",
    "        \"birth_response\": None,\n",
    "    },\n",
    "    fixed_parameters={\n",
    "        \"death_response\": true_parameters[\"death_response\"],\n",
    "        \"mutation_response\": true_parameters[\"mutation_response\"],\n",
    "        \"mutator\": true_parameters[\"mutator\"],\n",
    "        \"extant_sampling_probability\": true_parameters[\"extant_sampling_probability\"],\n",
    "        \"extinct_sampling_probability\": 1,\n",
    "        \"present_time\": PRESENT_TIME,\n",
    "    },\n",
    ")\n",
    "\n",
    "for xsc, xsh, ysc, ysh in tqdm(list(search_space)):\n",
    "    model.parameters[\"birth_response\"] = poisson.SigmoidResponse(xsc, xsh, ysc, ysh)\n",
    "    model.fit()\n",
    "\n",
    "    result = model.parameters[\"birth_response\"]._flatten()[2]\n",
    "    magnitudes.append(sum((np.array(truth) - np.array(result)) ** 2).item())\n",
    "    log_liks.append(model.log_likelihood().item())"
   ]
  },
  {
   "cell_type": "code",
   "execution_count": null,
   "metadata": {},
   "outputs": [],
   "source": [
    "plt.scatter(np.vstack(magnitudes), np.vstack(log_liks))\n",
    "plt.xlabel(r\"$||\\theta - \\theta\\_init||$\")\n",
    "plt.ylabel(\"log likelihood of result\")\n",
    "plt.show()"
   ]
  }
 ],
 "metadata": {
  "language_info": {
   "name": "python"
  },
  "orig_nbformat": 4
 },
 "nbformat": 4,
 "nbformat_minor": 2
}
