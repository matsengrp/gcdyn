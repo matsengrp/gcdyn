{
 "cells": [
  {
   "cell_type": "code",
   "execution_count": 3,
   "metadata": {},
   "outputs": [],
   "source": [
    "import pickle\n",
    "from gcdyn.models import NeuralNetworkModel\n",
    "from gcdyn.poisson import ConstantResponse\n",
    "import numpy as np\n",
    "import pandas as pd\n",
    "import seaborn as sns\n",
    "import matplotlib.pyplot as plt\n",
    "import random"
   ]
  },
  {
   "attachments": {},
   "cell_type": "markdown",
   "metadata": {},
   "source": [
    "## Train-test split"
   ]
  },
  {
   "cell_type": "code",
   "execution_count": 2,
   "metadata": {},
   "outputs": [],
   "source": [
    "with open(\"merged-simu.pkl\", \"rb\") as f:\n",
    "    samples = pickle.load(f)"
   ]
  },
  {
   "cell_type": "code",
   "execution_count": 12,
   "metadata": {},
   "outputs": [],
   "source": [
    "N = len(samples[\"trees\"])\n",
    "\n",
    "sublist = lambda x, idx: [x[i] for i in idx]\n",
    "\n",
    "train_idx = random.sample(range(N), int(0.8 * N))\n",
    "test_idx = [i for i in range(N) if i not in train_idx]\n",
    "\n",
    "train_samples = {key: sublist(val, train_idx) for key, val in samples.items()}\n",
    "test_samples = {key: sublist(val, test_idx) for key, val in samples.items()}"
   ]
  },
  {
   "attachments": {},
   "cell_type": "markdown",
   "metadata": {},
   "source": [
    "## Train model"
   ]
  },
  {
   "cell_type": "code",
   "execution_count": 13,
   "metadata": {},
   "outputs": [
    {
     "name": "stdout",
     "output_type": "stream",
     "text": [
      "Metal device set to: Apple M1 Pro\n",
      "\n",
      "systemMemory: 16.00 GB\n",
      "maxCacheSize: 5.33 GB\n",
      "\n"
     ]
    }
   ],
   "source": [
    "param_to_predict = [\n",
    "    [ConstantResponse(row[0].xscale)] for row in train_samples[\"responses\"]\n",
    "]\n",
    "\n",
    "model = NeuralNetworkModel(train_samples[\"trees\"], param_to_predict)"
   ]
  },
  {
   "cell_type": "code",
   "execution_count": 14,
   "metadata": {},
   "outputs": [
    {
     "name": "stdout",
     "output_type": "stream",
     "text": [
      "Epoch 1/100\n"
     ]
    },
    {
     "name": "stderr",
     "output_type": "stream",
     "text": [
      "2023-05-02 15:12:16.953067: W tensorflow/tsl/platform/profile_utils/cpu_utils.cc:128] Failed to get CPU frequency: 0 Hz\n"
     ]
    },
    {
     "name": "stdout",
     "output_type": "stream",
     "text": [
      "16/16 [==============================] - 2s 69ms/step - loss: 2.5102\n",
      "Epoch 2/100\n",
      "16/16 [==============================] - 1s 32ms/step - loss: 0.0587\n",
      "Epoch 3/100\n",
      "16/16 [==============================] - 1s 31ms/step - loss: 0.0712\n",
      "Epoch 4/100\n",
      "16/16 [==============================] - 1s 31ms/step - loss: 0.1062\n",
      "Epoch 5/100\n",
      "16/16 [==============================] - 1s 34ms/step - loss: 0.0385\n",
      "Epoch 6/100\n",
      "16/16 [==============================] - 1s 37ms/step - loss: 0.0479\n",
      "Epoch 7/100\n",
      "16/16 [==============================] - 0s 30ms/step - loss: 0.0710\n",
      "Epoch 8/100\n",
      "16/16 [==============================] - 1s 33ms/step - loss: 0.0475\n",
      "Epoch 9/100\n",
      "16/16 [==============================] - 0s 30ms/step - loss: 0.0566\n",
      "Epoch 10/100\n",
      "16/16 [==============================] - 1s 35ms/step - loss: 0.0463\n",
      "Epoch 11/100\n",
      "16/16 [==============================] - 0s 31ms/step - loss: 0.0468\n",
      "Epoch 12/100\n",
      "16/16 [==============================] - 1s 34ms/step - loss: 0.0465\n",
      "Epoch 13/100\n",
      "16/16 [==============================] - 0s 30ms/step - loss: 0.0433\n",
      "Epoch 14/100\n",
      "16/16 [==============================] - 1s 35ms/step - loss: 0.0400\n",
      "Epoch 15/100\n",
      "16/16 [==============================] - 1s 34ms/step - loss: 0.0462\n",
      "Epoch 16/100\n",
      "16/16 [==============================] - 0s 31ms/step - loss: 0.0407\n",
      "Epoch 17/100\n",
      "16/16 [==============================] - 0s 30ms/step - loss: 0.0375\n",
      "Epoch 18/100\n",
      "16/16 [==============================] - 0s 30ms/step - loss: 0.0346\n",
      "Epoch 19/100\n",
      "16/16 [==============================] - 0s 30ms/step - loss: 0.0404\n",
      "Epoch 20/100\n",
      "16/16 [==============================] - 0s 30ms/step - loss: 0.0396\n",
      "Epoch 21/100\n",
      "16/16 [==============================] - 1s 33ms/step - loss: 0.0335\n",
      "Epoch 22/100\n",
      "16/16 [==============================] - 0s 31ms/step - loss: 0.0427\n",
      "Epoch 23/100\n",
      "16/16 [==============================] - 1s 33ms/step - loss: 0.0351\n",
      "Epoch 24/100\n",
      "16/16 [==============================] - 1s 32ms/step - loss: 0.0385\n",
      "Epoch 25/100\n",
      "16/16 [==============================] - 1s 33ms/step - loss: 0.0393\n",
      "Epoch 26/100\n",
      "16/16 [==============================] - 0s 30ms/step - loss: 0.0359\n",
      "Epoch 27/100\n",
      "16/16 [==============================] - 0s 30ms/step - loss: 0.0330\n",
      "Epoch 28/100\n",
      "16/16 [==============================] - 0s 31ms/step - loss: 0.0360\n",
      "Epoch 29/100\n",
      "16/16 [==============================] - 1s 36ms/step - loss: 0.0386\n",
      "Epoch 30/100\n",
      "16/16 [==============================] - 1s 38ms/step - loss: 0.0355\n",
      "Epoch 31/100\n",
      "16/16 [==============================] - 1s 41ms/step - loss: 0.0345\n",
      "Epoch 32/100\n",
      "16/16 [==============================] - 1s 36ms/step - loss: 0.0341\n",
      "Epoch 33/100\n",
      "16/16 [==============================] - 1s 39ms/step - loss: 0.0307\n",
      "Epoch 34/100\n",
      "16/16 [==============================] - 0s 31ms/step - loss: 0.0308\n",
      "Epoch 35/100\n",
      "16/16 [==============================] - 0s 30ms/step - loss: 0.0300\n",
      "Epoch 36/100\n",
      "16/16 [==============================] - 1s 32ms/step - loss: 0.0312\n",
      "Epoch 37/100\n",
      "16/16 [==============================] - 0s 30ms/step - loss: 0.0300\n",
      "Epoch 38/100\n",
      "16/16 [==============================] - 1s 32ms/step - loss: 0.0294\n",
      "Epoch 39/100\n",
      "16/16 [==============================] - 0s 30ms/step - loss: 0.0241\n",
      "Epoch 40/100\n",
      "16/16 [==============================] - 0s 31ms/step - loss: 0.0284\n",
      "Epoch 41/100\n",
      "16/16 [==============================] - 0s 30ms/step - loss: 0.0244\n",
      "Epoch 42/100\n",
      "16/16 [==============================] - 0s 29ms/step - loss: 0.0262\n",
      "Epoch 43/100\n",
      "16/16 [==============================] - 0s 30ms/step - loss: 0.0226\n",
      "Epoch 44/100\n",
      "16/16 [==============================] - 0s 30ms/step - loss: 0.0225\n",
      "Epoch 45/100\n",
      "16/16 [==============================] - 1s 31ms/step - loss: 0.0197\n",
      "Epoch 46/100\n",
      "16/16 [==============================] - 1s 34ms/step - loss: 0.0265\n",
      "Epoch 47/100\n",
      "16/16 [==============================] - 0s 30ms/step - loss: 0.0214\n",
      "Epoch 48/100\n",
      "16/16 [==============================] - 0s 29ms/step - loss: 0.0181\n",
      "Epoch 49/100\n",
      "16/16 [==============================] - 0s 28ms/step - loss: 0.0159\n",
      "Epoch 50/100\n",
      "16/16 [==============================] - 0s 29ms/step - loss: 0.0169\n",
      "Epoch 51/100\n",
      "16/16 [==============================] - 0s 29ms/step - loss: 0.0176\n",
      "Epoch 52/100\n",
      "16/16 [==============================] - 0s 29ms/step - loss: 0.0159\n",
      "Epoch 53/100\n",
      "16/16 [==============================] - 0s 29ms/step - loss: 0.0167\n",
      "Epoch 54/100\n",
      "16/16 [==============================] - 0s 29ms/step - loss: 0.0143\n",
      "Epoch 55/100\n",
      "16/16 [==============================] - 0s 30ms/step - loss: 0.0127\n",
      "Epoch 56/100\n",
      "16/16 [==============================] - 0s 29ms/step - loss: 0.0133\n",
      "Epoch 57/100\n",
      "16/16 [==============================] - 0s 30ms/step - loss: 0.0138\n",
      "Epoch 58/100\n",
      "16/16 [==============================] - 1s 32ms/step - loss: 0.0136\n",
      "Epoch 59/100\n",
      "16/16 [==============================] - 1s 35ms/step - loss: 0.0089\n",
      "Epoch 60/100\n",
      "16/16 [==============================] - 1s 37ms/step - loss: 0.0137\n",
      "Epoch 61/100\n",
      "16/16 [==============================] - 1s 31ms/step - loss: 0.0121\n",
      "Epoch 62/100\n",
      "16/16 [==============================] - 1s 35ms/step - loss: 0.0106\n",
      "Epoch 63/100\n",
      "16/16 [==============================] - 0s 30ms/step - loss: 0.0094\n",
      "Epoch 64/100\n",
      "16/16 [==============================] - 1s 32ms/step - loss: 0.0116\n",
      "Epoch 65/100\n",
      "16/16 [==============================] - 0s 30ms/step - loss: 0.0128\n",
      "Epoch 66/100\n",
      "16/16 [==============================] - 1s 31ms/step - loss: 0.0118\n",
      "Epoch 67/100\n",
      "16/16 [==============================] - 0s 30ms/step - loss: 0.0081\n",
      "Epoch 68/100\n",
      "16/16 [==============================] - 0s 29ms/step - loss: 0.0114\n",
      "Epoch 69/100\n",
      "16/16 [==============================] - 0s 29ms/step - loss: 0.0086\n",
      "Epoch 70/100\n",
      "16/16 [==============================] - 0s 29ms/step - loss: 0.0078\n",
      "Epoch 71/100\n",
      "16/16 [==============================] - 0s 29ms/step - loss: 0.0090\n",
      "Epoch 72/100\n",
      "16/16 [==============================] - 0s 29ms/step - loss: 0.0087\n",
      "Epoch 73/100\n",
      "16/16 [==============================] - 0s 31ms/step - loss: 0.0079\n",
      "Epoch 74/100\n",
      "16/16 [==============================] - 0s 29ms/step - loss: 0.0075\n",
      "Epoch 75/100\n",
      "16/16 [==============================] - 0s 29ms/step - loss: 0.0084\n",
      "Epoch 76/100\n",
      "16/16 [==============================] - 0s 29ms/step - loss: 0.0071\n",
      "Epoch 77/100\n",
      "16/16 [==============================] - 1s 33ms/step - loss: 0.0068\n",
      "Epoch 78/100\n",
      "16/16 [==============================] - 0s 31ms/step - loss: 0.0088\n",
      "Epoch 79/100\n",
      "16/16 [==============================] - 0s 31ms/step - loss: 0.0056\n",
      "Epoch 80/100\n",
      "16/16 [==============================] - 1s 31ms/step - loss: 0.0087\n",
      "Epoch 81/100\n",
      "16/16 [==============================] - 0s 29ms/step - loss: 0.0065\n",
      "Epoch 82/100\n",
      "16/16 [==============================] - 1s 34ms/step - loss: 0.0059\n",
      "Epoch 83/100\n",
      "16/16 [==============================] - 1s 32ms/step - loss: 0.0065\n",
      "Epoch 84/100\n",
      "16/16 [==============================] - 1s 32ms/step - loss: 0.0050\n",
      "Epoch 85/100\n",
      "16/16 [==============================] - 0s 30ms/step - loss: 0.0059\n",
      "Epoch 86/100\n",
      "16/16 [==============================] - 0s 30ms/step - loss: 0.0077\n",
      "Epoch 87/100\n",
      "16/16 [==============================] - 0s 30ms/step - loss: 0.0045\n",
      "Epoch 88/100\n",
      "16/16 [==============================] - 0s 31ms/step - loss: 0.0068\n",
      "Epoch 89/100\n",
      "16/16 [==============================] - 1s 32ms/step - loss: 0.0044\n",
      "Epoch 90/100\n",
      "16/16 [==============================] - 1s 33ms/step - loss: 0.0057\n",
      "Epoch 91/100\n",
      "16/16 [==============================] - 1s 31ms/step - loss: 0.0056\n",
      "Epoch 92/100\n",
      "16/16 [==============================] - 0s 30ms/step - loss: 0.0057\n",
      "Epoch 93/100\n",
      "16/16 [==============================] - 1s 34ms/step - loss: 0.0039\n",
      "Epoch 94/100\n",
      "16/16 [==============================] - 1s 30ms/step - loss: 0.0048\n",
      "Epoch 95/100\n",
      "16/16 [==============================] - 1s 38ms/step - loss: 0.0055\n",
      "Epoch 96/100\n",
      "16/16 [==============================] - 0s 30ms/step - loss: 0.0046\n",
      "Epoch 97/100\n",
      "16/16 [==============================] - 1s 33ms/step - loss: 0.0036\n",
      "Epoch 98/100\n",
      "16/16 [==============================] - 0s 30ms/step - loss: 0.0056\n",
      "Epoch 99/100\n",
      "16/16 [==============================] - 0s 30ms/step - loss: 0.0040\n",
      "Epoch 100/100\n",
      "16/16 [==============================] - 0s 31ms/step - loss: 0.0054\n"
     ]
    }
   ],
   "source": [
    "model.fit(epochs=100)"
   ]
  },
  {
   "attachments": {},
   "cell_type": "markdown",
   "metadata": {},
   "source": [
    "## Distribution of predictions on train set"
   ]
  },
  {
   "cell_type": "code",
   "execution_count": 24,
   "metadata": {},
   "outputs": [],
   "source": [
    "result = model.predict(train_samples[\"trees\"], ladderize_trees=False)"
   ]
  },
  {
   "cell_type": "code",
   "execution_count": 25,
   "metadata": {},
   "outputs": [
    {
     "data": {
      "image/png": "[encoded data removed]",
      "text/plain": [
       "<Figure size 640x480 with 1 Axes>"
      ]
     },
     "metadata": {},
     "output_type": "display_data"
    }
   ],
   "source": [
    "df = pd.DataFrame(\n",
    "    {\n",
    "        \"Predicted\": np.array([row[0].value for row in result]),\n",
    "        \"Truth\": np.array(\n",
    "            [row[0].xscale for row in train_samples[\"responses\"]], dtype=str\n",
    "        ),\n",
    "    }\n",
    ")\n",
    "\n",
    "sns.histplot(df, x=\"Predicted\", hue=\"Truth\", binwidth=0.025)\n",
    "plt.show()"
   ]
  },
  {
   "attachments": {},
   "cell_type": "markdown",
   "metadata": {},
   "source": [
    "## Distribution of predictions on test set"
   ]
  },
  {
   "cell_type": "code",
   "execution_count": 15,
   "metadata": {},
   "outputs": [],
   "source": [
    "result = model.predict(test_samples[\"trees\"])"
   ]
  },
  {
   "cell_type": "code",
   "execution_count": 18,
   "metadata": {},
   "outputs": [
    {
     "data": {
      "image/png": "[encoded data removed]",
      "text/plain": [
       "<Figure size 640x480 with 1 Axes>"
      ]
     },
     "metadata": {},
     "output_type": "display_data"
    }
   ],
   "source": [
    "df = pd.DataFrame(\n",
    "    {\n",
    "        \"Predicted\": np.array([row[0].value for row in result]),\n",
    "        \"Truth\": np.array(\n",
    "            [row[0].xscale for row in test_samples[\"responses\"]], dtype=str\n",
    "        ),\n",
    "    }\n",
    ")\n",
    "\n",
    "sns.histplot(df, x=\"Predicted\", hue=\"Truth\", binwidth=0.025)\n",
    "plt.show()"
   ]
  }
 ],
 "metadata": {
  "kernelspec": {
   "display_name": ".venv",
   "language": "python",
   "name": "python3"
  },
  "language_info": {
   "codemirror_mode": {
    "name": "ipython",
    "version": 3
   },
   "file_extension": ".py",
   "mimetype": "text/x-python",
   "name": "python",
   "nbconvert_exporter": "python",
   "pygments_lexer": "ipython3",
   "version": "3.9.16"
  },
  "orig_nbformat": 4
 },
 "nbformat": 4,
 "nbformat_minor": 2
}
