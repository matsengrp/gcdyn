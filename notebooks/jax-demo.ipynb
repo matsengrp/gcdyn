{
 "cells": [
  {
   "cell_type": "markdown",
   "metadata": {},
   "source": [
    "# Harmonizing `Response`s with JAX"
   ]
  },
  {
   "cell_type": "code",
   "execution_count": 1,
   "metadata": {},
   "outputs": [],
   "source": [
    "from jax import jit\n",
    "from gcdyn import responses, bdms, mutators, model\n",
    "from jaxopt import GradientDescent, ScipyBoundedMinimize\n",
    "from jax.tree_util import register_pytree_node_class\n",
    "import matplotlib.pyplot as plt\n",
    "import numpy as np\n",
    "from ete3.coretype.tree import TreeError\n",
    "\n",
    "responses.init_numpy(use_jax=True)"
   ]
  },
  {
   "cell_type": "code",
   "execution_count": 2,
   "metadata": {},
   "outputs": [],
   "source": [
    "def plot_response(response):\n",
    "    X = np.arange(-10, 10, 0.5)\n",
    "    plt.plot(X, response.f(X))\n",
    "    plt.ylabel(\"Birth rate\")\n",
    "    plt.show()\n",
    "\n",
    "def evolve_trees(num_trees, init_x = 0, **evolve_kwargs):\n",
    "    trees = []\n",
    "    seed = evolve_kwargs.pop(\"seed\", None)\n",
    "\n",
    "    for _ in range(num_trees):\n",
    "        while True:\n",
    "            try:\n",
    "                tree = bdms.TreeNode(x = init_x)\n",
    "                tree.evolve(seed = seed, **evolve_kwargs)\n",
    "                trees.append(tree)\n",
    "                break\n",
    "\n",
    "            except TreeError: # not enough survivors\n",
    "                seed = seed + 1 if seed is not None else None\n",
    "\n",
    "        seed = seed + 1 if seed is not None else None\n",
    "\n",
    "    print(\"Average of\", sum(len(list(tree.traverse())) for tree in trees) / len(trees), \"nodes per tree, over\", len(trees), \"trees\")\n",
    "\n",
    "    return trees"
   ]
  },
  {
   "cell_type": "markdown",
   "metadata": {},
   "source": [
    "## Understanding object flattening"
   ]
  },
  {
   "cell_type": "code",
   "execution_count": 3,
   "metadata": {},
   "outputs": [
    {
     "name": "stdout",
     "output_type": "stream",
     "text": [
      "ConstantResponse(value=-2.0)\n",
      "((-2.0,), ('value',))\n",
      "ConstantResponse(value=-2.0)\n"
     ]
    }
   ],
   "source": [
    "resp = responses.ConstantResponse(-2.)\n",
    "flat = resp.tree_flatten()\n",
    "\n",
    "print(resp)\n",
    "print(flat)\n",
    "print(responses.ConstantResponse().tree_unflatten(flat[1], flat[0]))"
   ]
  },
  {
   "cell_type": "markdown",
   "metadata": {},
   "source": [
    "## Gradient descent"
   ]
  },
  {
   "cell_type": "code",
   "execution_count": 4,
   "metadata": {},
   "outputs": [
    {
     "data": {
      "text/plain": [
       "DeviceArray(49., dtype=float32, weak_type=True)"
      ]
     },
     "execution_count": 4,
     "metadata": {},
     "output_type": "execute_result"
    }
   ],
   "source": [
    "register_pytree_node_class(responses.ConstantResponse)\n",
    "\n",
    "@jit\n",
    "def objective(resp):\n",
    "    x = resp.f(1)\n",
    "    return (x - 5)**2\n",
    "\n",
    "objective(resp)"
   ]
  },
  {
   "cell_type": "code",
   "execution_count": 5,
   "metadata": {},
   "outputs": [
    {
     "data": {
      "text/plain": [
       "OptStep(params=ConstantResponse(value=5.0), state=ProxGradState(iter_num=DeviceArray(1, dtype=int32, weak_type=True), stepsize=DeviceArray(1., dtype=float32, weak_type=True), error=DeviceArray(0., dtype=float32), aux=None, velocity=ConstantResponse(value=5.0), t=DeviceArray(1.618034, dtype=float32, weak_type=True)))"
      ]
     },
     "execution_count": 5,
     "metadata": {},
     "output_type": "execute_result"
    }
   ],
   "source": [
    "optimizer = GradientDescent(fun=objective)\n",
    "optimizer.run(\n",
    "    responses.ConstantResponse(-2.)\n",
    ")"
   ]
  },
  {
   "cell_type": "markdown",
   "metadata": {},
   "source": [
    "## Bounded optimization"
   ]
  },
  {
   "cell_type": "markdown",
   "metadata": {},
   "source": [
    "Note that the bounds used in the optimizer call must be numerical and not `Response` objects, and I don't exactly know why"
   ]
  },
  {
   "cell_type": "code",
   "execution_count": 6,
   "metadata": {},
   "outputs": [
    {
     "data": {
      "text/plain": [
       "OptStep(params=ConstantResponse(value=5.0), state=ScipyMinimizeInfo(fun_val=DeviceArray(0., dtype=float32, weak_type=True), success=True, status=0, iter_num=2))"
      ]
     },
     "execution_count": 6,
     "metadata": {},
     "output_type": "execute_result"
    }
   ],
   "source": [
    "optimizer = ScipyBoundedMinimize(fun=objective)\n",
    "optimizer.run(\n",
    "    responses.ConstantResponse(-2.),\n",
    "    (-10, 10)\n",
    ")"
   ]
  },
  {
   "cell_type": "markdown",
   "metadata": {},
   "source": [
    "## BDMS inference"
   ]
  },
  {
   "cell_type": "code",
   "execution_count": 7,
   "metadata": {},
   "outputs": [],
   "source": [
    "birth_rate = responses.ConstantResponse(0.8)\n",
    "death_rate = responses.ConstantResponse(1)\n",
    "mutation_rate = responses.ConstantResponse(1)\n",
    "sampling_probability = 1\n",
    "\n",
    "mutator = mutators.GaussianMutator(-1, 1)"
   ]
  },
  {
   "cell_type": "code",
   "execution_count": 8,
   "metadata": {},
   "outputs": [
    {
     "name": "stdout",
     "output_type": "stream",
     "text": [
      "Average of 49.0 nodes per tree, over 5 trees\n",
      "\n",
      "               /-11\n",
      "              |\n",
      "              |                  /- /-39\n",
      "              |                 |\n",
      "              |                 |         /-48\n",
      "              |                 |      /-|\n",
      "         /- /-|                 |     |  |         /-56\n",
      "        |     |   /- /- /- /- /-|     |   \\- /- /-|\n",
      "        |     |  |              |   /-|            \\-57\n",
      "        |     |  |              |  |  |\n",
      "        |     |  |              |  |  |      /- /-47\n",
      "        |     |  |              |  |   \\- /-|\n",
      "        |     |  |               \\-|        |   /- /-55\n",
      "        |      \\-|                 |         \\-|\n",
      "      /-|        |                 |            \\-53\n",
      "     |  |        |                 |\n",
      "     |  |        |                  \\- /-54\n",
      "     |  |        |\n",
      "     |  |        |   /-21\n",
      "     |  |         \\-|\n",
      "     |  |            \\-22\n",
      "-- /-|  |\n",
      "     |   \\- /- /-10\n",
      "     |\n",
      "     |      /- /-35\n",
      "     |   /-|\n",
      "     |  |   \\-26\n",
      "     |  |\n",
      "      \\-|   /-13\n",
      "        |  |\n",
      "        |  |      /-19\n",
      "         \\-|   /-|\n",
      "           |  |   \\-20\n",
      "           |  |\n",
      "            \\-|         /-30\n",
      "              |      /-|\n",
      "              |     |   \\-31\n",
      "               \\- /-|\n",
      "                    |   /-32\n",
      "                     \\-|\n",
      "                        \\-33\n"
     ]
    },
    {
     "data": {
      "image/png": "[encoded data removed]",
      "text/plain": [
       "<Figure size 432x288 with 1 Axes>"
      ]
     },
     "metadata": {
      "needs_background": "light"
     },
     "output_type": "display_data"
    }
   ],
   "source": [
    "responses.init_numpy(False) # jax numpy breaks evolve for some reason\n",
    "\n",
    "trees = evolve_trees(5, \n",
    "    t = 5,\n",
    "    birth_rate = birth_rate,\n",
    "    death_rate = death_rate,\n",
    "    mutation_rate = mutation_rate,\n",
    "    mutator = mutator,\n",
    "    seed = 10\n",
    ")\n",
    "\n",
    "for tree in trees:\n",
    "    tree.sample_survivors(p = sampling_probability, seed = 0)\n",
    "\n",
    "print(trees[0])\n",
    "plot_response(birth_rate)"
   ]
  },
  {
   "cell_type": "code",
   "execution_count": 9,
   "metadata": {},
   "outputs": [],
   "source": [
    "responses.init_numpy(True)\n",
    "mod = model.BdmsModel(\n",
    "    trees = trees,\n",
    "    death_rate = death_rate,\n",
    "    mutation_rate = mutation_rate,\n",
    "    mutator = mutator,\n",
    "    sampling_probability = sampling_probability\n",
    ")"
   ]
  },
  {
   "cell_type": "code",
   "execution_count": 10,
   "metadata": {},
   "outputs": [
    {
     "data": {
      "image/png": "[encoded data removed]",
      "text/plain": [
       "<Figure size 432x288 with 1 Axes>"
      ]
     },
     "metadata": {
      "needs_background": "light"
     },
     "output_type": "display_data"
    }
   ],
   "source": [
    "initial_birth_rate = responses.ConstantResponse(0.2)\n",
    "plot_response(initial_birth_rate)"
   ]
  },
  {
   "cell_type": "code",
   "execution_count": 11,
   "metadata": {},
   "outputs": [
    {
     "data": {
      "text/plain": [
       "OptStep(params=ConstantResponse(value=1.0352352857589722), state=ScipyMinimizeInfo(fun_val=DeviceArray(327.35458, dtype=float32, weak_type=True), success=True, status=0, iter_num=5))"
      ]
     },
     "execution_count": 11,
     "metadata": {},
     "output_type": "execute_result"
    }
   ],
   "source": [
    "result = mod.fit(init_value=initial_birth_rate, lower_bounds=-np.inf, upper_bounds=np.inf)\n",
    "\n",
    "result"
   ]
  },
  {
   "cell_type": "code",
   "execution_count": 12,
   "metadata": {},
   "outputs": [
    {
     "data": {
      "image/png": "[encoded data removed]",
      "text/plain": [
       "<Figure size 432x288 with 1 Axes>"
      ]
     },
     "metadata": {
      "needs_background": "light"
     },
     "output_type": "display_data"
    }
   ],
   "source": [
    "plot_response(result.params)"
   ]
  },
  {
   "cell_type": "code",
   "execution_count": 13,
   "metadata": {},
   "outputs": [
    {
     "data": {
      "text/plain": [
       "OptStep(params=ConstantResponse(value=1.0352352857589722), state=ScipyMinimizeInfo(fun_val=DeviceArray(327.35458, dtype=float32, weak_type=True), success=True, status=0, iter_num=5))"
      ]
     },
     "execution_count": 13,
     "metadata": {},
     "output_type": "execute_result"
    }
   ],
   "source": [
    "# JIT works, this runs faster\n",
    "mod.fit(init_value=initial_birth_rate, lower_bounds=-np.inf, upper_bounds=np.inf)"
   ]
  }
 ],
 "metadata": {
  "kernelspec": {
   "display_name": "Python 3.9.15 ('.venv': venv)",
   "language": "python",
   "name": "python3"
  },
  "language_info": {
   "codemirror_mode": {
    "name": "ipython",
    "version": 3
   },
   "file_extension": ".py",
   "mimetype": "text/x-python",
   "name": "python",
   "nbconvert_exporter": "python",
   "pygments_lexer": "ipython3",
   "version": "3.9.15"
  },
  "orig_nbformat": 4,
  "vscode": {
   "interpreter": {
    "hash": "ea3d934265a8e15afda8202ee9472c945ee245e0dfce204eaaaf8ab2c26aca35"
   }
  }
 },
 "nbformat": 4,
 "nbformat_minor": 2
}
