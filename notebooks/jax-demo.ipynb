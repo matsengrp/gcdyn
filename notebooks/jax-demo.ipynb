{
 "cells": [
  {
   "cell_type": "markdown",
   "metadata": {},
   "source": [
    "# Harmonizing `Response`s with JAX"
   ]
  },
  {
   "cell_type": "code",
   "execution_count": 1,
   "metadata": {},
   "outputs": [],
   "source": [
    "from jax import jit\n",
    "from gcdyn import responses, bdms, mutators, model\n",
    "from jaxopt import GradientDescent, ScipyBoundedMinimize\n",
    "from jax.tree_util import register_pytree_node_class\n",
    "\n",
    "responses.init_numpy(use_jax=True)"
   ]
  },
  {
   "cell_type": "markdown",
   "metadata": {},
   "source": [
    "## Understanding object flattening"
   ]
  },
  {
   "cell_type": "code",
   "execution_count": 2,
   "metadata": {},
   "outputs": [
    {
     "name": "stdout",
     "output_type": "stream",
     "text": [
      "ConstantResponse(value=-2.0)\n",
      "((-2.0,), ('value',))\n",
      "ConstantResponse(value=-2.0)\n"
     ]
    }
   ],
   "source": [
    "resp = responses.ConstantResponse(-2.)\n",
    "flat = resp.tree_flatten()\n",
    "\n",
    "print(resp)\n",
    "print(flat)\n",
    "print(responses.ConstantResponse().tree_unflatten(flat[1], flat[0]))"
   ]
  },
  {
   "cell_type": "markdown",
   "metadata": {},
   "source": [
    "## Gradient descent"
   ]
  },
  {
   "cell_type": "code",
   "execution_count": 3,
   "metadata": {},
   "outputs": [
    {
     "data": {
      "text/plain": [
       "DeviceArray(49., dtype=float32, weak_type=True)"
      ]
     },
     "execution_count": 3,
     "metadata": {},
     "output_type": "execute_result"
    }
   ],
   "source": [
    "register_pytree_node_class(responses.ConstantResponse)\n",
    "\n",
    "@jit\n",
    "def objective(resp):\n",
    "    x = resp.f(1)\n",
    "    return (x - 5)**2\n",
    "\n",
    "objective(resp)"
   ]
  },
  {
   "cell_type": "code",
   "execution_count": 4,
   "metadata": {},
   "outputs": [
    {
     "data": {
      "text/plain": [
       "OptStep(params=ConstantResponse(value=5.0), state=ProxGradState(iter_num=DeviceArray(1, dtype=int32, weak_type=True), stepsize=DeviceArray(1., dtype=float32, weak_type=True), error=DeviceArray(0., dtype=float32), aux=None, velocity=ConstantResponse(value=5.0), t=DeviceArray(1.618034, dtype=float32, weak_type=True)))"
      ]
     },
     "execution_count": 4,
     "metadata": {},
     "output_type": "execute_result"
    }
   ],
   "source": [
    "optimizer = GradientDescent(fun=objective)\n",
    "optimizer.run(\n",
    "    responses.ConstantResponse(-2.)\n",
    ")"
   ]
  },
  {
   "cell_type": "markdown",
   "metadata": {},
   "source": [
    "## Bounded optimization"
   ]
  },
  {
   "cell_type": "markdown",
   "metadata": {},
   "source": [
    "Note that the bounds used in the optimizer call must be numerical and not `Response` objects, and I don't exactly know why"
   ]
  },
  {
   "cell_type": "code",
   "execution_count": 5,
   "metadata": {},
   "outputs": [
    {
     "data": {
      "text/plain": [
       "OptStep(params=ConstantResponse(value=5.0), state=ScipyMinimizeInfo(fun_val=DeviceArray(0., dtype=float32, weak_type=True), success=True, status=0, iter_num=2))"
      ]
     },
     "execution_count": 5,
     "metadata": {},
     "output_type": "execute_result"
    }
   ],
   "source": [
    "optimizer = ScipyBoundedMinimize(fun=objective)\n",
    "optimizer.run(\n",
    "    responses.ConstantResponse(-2.),\n",
    "    (-10, 10)\n",
    ")"
   ]
  },
  {
   "cell_type": "markdown",
   "metadata": {},
   "source": [
    "## BDMS inference"
   ]
  },
  {
   "cell_type": "code",
   "execution_count": 6,
   "metadata": {},
   "outputs": [
    {
     "name": "stdout",
     "output_type": "stream",
     "text": [
      "\n",
      "         /- /- /- /- /-43\n",
      "      /-|\n",
      "     |   \\- /- /- /- /- /-31\n",
      "     |\n",
      "     |         /- /- /- /-42\n",
      "-- /-|      /-|\n",
      "     |     |   \\- /- /-47\n",
      "     |   /-|\n",
      "     |  |  |   /- /-49\n",
      "     |  |   \\-|\n",
      "      \\-|      \\- /-40\n",
      "        |\n",
      "        |   /- /- /- /- /- /-48\n",
      "        |  |\n",
      "         \\-|      /- /- /-30\n",
      "           |   /-|\n",
      "            \\-|   \\- /- /-45\n",
      "              |\n",
      "               \\- /- /- /- /- /-38\n"
     ]
    }
   ],
   "source": [
    "tree = bdms.TreeNode()\n",
    "\n",
    "responses.init_numpy(False) # jax numpy breaks evolve for some reason\n",
    "tree.evolve(\n",
    "    t = 6,\n",
    "    birth_rate = responses.SigmoidResponse(4, 0, 1, 0),\n",
    "    death_rate = responses.ConstantResponse(0),\n",
    "    mutation_rate = responses.ConstantResponse(1),\n",
    "    mutator = mutators.GaussianMutator(-1, 1),\n",
    "    seed = 10\n",
    ")\n",
    "tree.sample_survivors(p = 1)\n",
    "\n",
    "print(tree)"
   ]
  },
  {
   "cell_type": "code",
   "execution_count": 7,
   "metadata": {},
   "outputs": [],
   "source": [
    "responses.init_numpy(True)\n",
    "mod = model.BdmsModel(\n",
    "    trees = [tree],\n",
    "    death_rate = responses.ConstantResponse(0),\n",
    "    mutation_rate = responses.ConstantResponse(1),\n",
    "    mutator = mutators.GaussianMutator(-1, 1),\n",
    "    sampling_probability = 1\n",
    ")"
   ]
  },
  {
   "cell_type": "code",
   "execution_count": 8,
   "metadata": {},
   "outputs": [
    {
     "data": {
      "text/plain": [
       "OptStep(params=SigmoidResponse(xscale=8.502071380615234, xshift=-0.02343890629708767, yscale=1.6619614362716675, yshift=0.0), state=ScipyMinimizeInfo(fun_val=DeviceArray(151.65233, dtype=float32, weak_type=True), success=True, status=0, iter_num=16))"
      ]
     },
     "execution_count": 8,
     "metadata": {},
     "output_type": "execute_result"
    }
   ],
   "source": [
    "mod.fit(\n",
    "    init_value=responses.SigmoidResponse(2., 0., 1., 0.)\n",
    ")"
   ]
  },
  {
   "cell_type": "code",
   "execution_count": 9,
   "metadata": {},
   "outputs": [
    {
     "data": {
      "text/plain": [
       "OptStep(params=SigmoidResponse(xscale=8.502071380615234, xshift=-0.02343890629708767, yscale=1.6619614362716675, yshift=0.0), state=ScipyMinimizeInfo(fun_val=DeviceArray(151.65233, dtype=float32, weak_type=True), success=True, status=0, iter_num=16))"
      ]
     },
     "execution_count": 9,
     "metadata": {},
     "output_type": "execute_result"
    }
   ],
   "source": [
    "# JIT works, this runs faster\n",
    "mod.fit(\n",
    "    init_value=responses.SigmoidResponse(2., 0., 1., 0.)\n",
    ")"
   ]
  },
  {
   "cell_type": "markdown",
   "metadata": {},
   "source": [
    "TODO: I think `Responses._param_dict` has no guarantee of the order of the parameters, so I think the init value and optimization bounds might not be specified correctly..."
   ]
  }
 ],
 "metadata": {
  "kernelspec": {
   "display_name": "Python 3.9.15 ('.venv': venv)",
   "language": "python",
   "name": "python3"
  },
  "language_info": {
   "codemirror_mode": {
    "name": "ipython",
    "version": 3
   },
   "file_extension": ".py",
   "mimetype": "text/x-python",
   "name": "python",
   "nbconvert_exporter": "python",
   "pygments_lexer": "ipython3",
   "version": "3.9.15"
  },
  "orig_nbformat": 4,
  "vscode": {
   "interpreter": {
    "hash": "ea3d934265a8e15afda8202ee9472c945ee245e0dfce204eaaaf8ab2c26aca35"
   }
  }
 },
 "nbformat": 4,
 "nbformat_minor": 2
}
