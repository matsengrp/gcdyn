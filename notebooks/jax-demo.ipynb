{
 "cells": [
  {
   "cell_type": "markdown",
   "metadata": {},
   "source": [
    "# Harmonizing `Response`s with JAX"
   ]
  },
  {
   "cell_type": "code",
   "execution_count": 1,
   "metadata": {},
   "outputs": [],
   "source": [
    "from jax import jit\n",
    "from gcdyn import responses, bdms, mutators, model\n",
    "from jaxopt import GradientDescent, ScipyBoundedMinimize\n",
    "from jax.tree_util import register_pytree_node_class\n",
    "import matplotlib.pyplot as plt\n",
    "import numpy as np\n",
    "from ete3.coretype.tree import TreeError\n",
    "\n",
    "responses.init_numpy(use_jax=True)"
   ]
  },
  {
   "cell_type": "code",
   "execution_count": 2,
   "metadata": {},
   "outputs": [],
   "source": [
    "def plot_response(response):\n",
    "    X = np.arange(-10, 10, 0.5)\n",
    "    plt.plot(X, response.f(X))\n",
    "    plt.ylabel(\"Birth rate\")\n",
    "    plt.show()\n",
    "\n",
    "def evolve_trees(num_trees, init_x = 0, **evolve_kwargs):\n",
    "    trees = []\n",
    "    seed = evolve_kwargs.pop(\"seed\", None)\n",
    "\n",
    "    for _ in range(num_trees):\n",
    "        while True:\n",
    "            try:\n",
    "                tree = bdms.TreeNode(x = init_x)\n",
    "                tree.evolve(seed = seed, **evolve_kwargs)\n",
    "                trees.append(tree)\n",
    "                break\n",
    "\n",
    "            except TreeError: # not enough survivors\n",
    "                seed = seed + 1 if seed is not None else None\n",
    "\n",
    "        seed = seed + 1 if seed is not None else None\n",
    "\n",
    "    print(\"Average of\", sum(len(list(tree.traverse())) for tree in trees) / len(trees), \"nodes per tree, over\", len(trees), \"trees\")\n",
    "\n",
    "    return trees"
   ]
  },
  {
   "cell_type": "code",
   "execution_count": 3,
   "metadata": {},
   "outputs": [],
   "source": [
    "birth_rate = responses.SigmoidResponse(1., 0., 2., 0.)\n",
    "death_rate = responses.ConstantResponse(1)\n",
    "mutation_rate = responses.ConstantResponse(1)\n",
    "sampling_probability = 1\n",
    "\n",
    "mutator = mutators.GaussianMutator(-1, 1)"
   ]
  },
  {
   "cell_type": "code",
   "execution_count": 4,
   "metadata": {},
   "outputs": [
    {
     "name": "stdout",
     "output_type": "stream",
     "text": [
      "Average of 299.6666666666667 nodes per tree, over 3 trees\n",
      "\n",
      "            /-5\n",
      "           |\n",
      "           |   /- /-26\n",
      "           |  |\n",
      "           |  |      /- /- /-34\n",
      "           |  |     |\n",
      "           |  |     |            /- /-50\n",
      "           |  |   /-|      /- /-|\n",
      "         /-|  |  |  |     |     |         /-84\n",
      "        |  |  |  |  |     |      \\- /- /-|\n",
      "        |  |  |  |  |     |               \\- /-113\n",
      "        |  |  |  |   \\- /-|\n",
      "        |  |  |  |        |   /-36\n",
      "        |  |  |  |        |  |\n",
      "        |  |  |  |        |  |      /-40\n",
      "        |  |  |  |         \\-|   /-|\n",
      "        |  |  |  |           |  |   \\- /-49\n",
      "        |   \\-|  |           |  |\n",
      "        |     |  |            \\-|      /- /- /- /- /- /-98\n",
      "        |     |  |              |     |\n",
      "        |     |  |              |     |   /-58\n",
      "        |     |  |               \\- /-|  |\n",
      "        |     |  |                    |  |         /-64\n",
      "        |     |  |                    |  |        |\n",
      "        |     |  |                    |  |      /-|   /- /-87\n",
      "        |     |  |                     \\-|     |  |  |\n",
      "        |     |  |                       |     |   \\-|         /- /-86\n",
      "        |     |  |                       |     |     |   /- /-|\n",
      "        |     |  |                       |   /-|      \\-|      \\- /- /- /-90\n",
      "        |     |  |                       |  |  |        |\n",
      "        |     |  |                       |  |  |         \\-74\n",
      "        |     |  |                        \\-|  |\n",
      "        |      \\-|                          |   \\- /- /-97\n",
      "        |        |                          |\n",
      "        |        |                          |   /-71\n",
      "        |        |                           \\-|\n",
      "        |        |                              \\- /- /-83\n",
      "        |        |\n",
      "        |        |         /- /-54\n",
      "        |        |        |\n",
      "-- /- /-|        |        |               /- /-106\n",
      "        |        |        |            /-|\n",
      "        |        |        |           |  |   /- /- /- /-126\n",
      "        |        |        |           |   \\-|\n",
      "        |        |        |           |     |   /-119\n",
      "        |        |        |         /-|      \\-|\n",
      "        |        |        |        |  |         \\-120\n",
      "        |        |   /- /-|        |  |\n",
      "        |        |  |     |        |  |      /- /- /- /- /- /- /-132\n",
      "        |        |  |     |        |  |   /-|\n",
      "        |        |  |     |        |   \\-|   \\-117\n",
      "        |        |  |     |   /- /-|     |\n",
      "        |        |  |     |  |     |      \\-108\n",
      "        |        |  |     |  |     |\n",
      "        |        |  |     |  |     |         /- /- /- /-128\n",
      "        |        |  |     |  |     |      /-|\n",
      "        |        |  |     |  |     |     |   \\-103\n",
      "        |         \\-|      \\-|      \\- /-|\n",
      "        |           |        |           |         /- /-133\n",
      "        |           |        |           |      /-|\n",
      "        |           |        |            \\- /-|   \\- /- /-135\n",
      "        |           |        |                 |\n",
      "        |           |        |                  \\-122\n",
      "        |           |        |\n",
      "        |           |         \\-67\n",
      "        |           |\n",
      "        |           |      /-29\n",
      "        |            \\- /-|\n",
      "        |                  \\-30\n",
      "        |\n",
      "        |   /- /- /-35\n",
      "        |  |\n",
      "        |  |         /-44\n",
      "         \\-|      /-|\n",
      "           |   /-|   \\-45\n",
      "           |  |  |\n",
      "           |  |   \\-43\n",
      "            \\-|\n",
      "              |      /-32\n",
      "              |   /-|\n",
      "               \\-|   \\- /-48\n",
      "                 |\n",
      "                  \\-24\n"
     ]
    },
    {
     "data": {
      "image/png": "[encoded data removed]",
      "text/plain": [
       "<Figure size 432x288 with 1 Axes>"
      ]
     },
     "metadata": {
      "needs_background": "light"
     },
     "output_type": "display_data"
    }
   ],
   "source": [
    "trees = evolve_trees(3, \n",
    "    t = 8,\n",
    "    birth_rate = birth_rate,\n",
    "    death_rate = death_rate,\n",
    "    mutation_rate = mutation_rate,\n",
    "    mutator = mutator,\n",
    "    seed = 10\n",
    ")\n",
    "\n",
    "for tree in trees:\n",
    "    tree.sample_survivors(p = sampling_probability, seed = 0)\n",
    "\n",
    "print(trees[0])\n",
    "plot_response(birth_rate)"
   ]
  },
  {
   "cell_type": "code",
   "execution_count": 5,
   "metadata": {},
   "outputs": [],
   "source": [
    "mod = model.BdmsModel(\n",
    "    trees = trees,\n",
    "    death_rate = death_rate,\n",
    "    mutation_rate = mutation_rate,\n",
    "    mutator = mutator,\n",
    "    sampling_probability = sampling_probability\n",
    ")"
   ]
  },
  {
   "cell_type": "code",
   "execution_count": 6,
   "metadata": {},
   "outputs": [
    {
     "data": {
      "image/png": "[encoded data removed]",
      "text/plain": [
       "<Figure size 432x288 with 1 Axes>"
      ]
     },
     "metadata": {
      "needs_background": "light"
     },
     "output_type": "display_data"
    }
   ],
   "source": [
    "initial_birth_rate = responses.SigmoidResponse(1., 0., 2., 0.)\n",
    "plot_response(initial_birth_rate)"
   ]
  },
  {
   "cell_type": "code",
   "execution_count": 7,
   "metadata": {},
   "outputs": [
    {
     "data": {
      "text/plain": [
       "OptStep(params=SigmoidResponse(xscale=1.2488398629544115, xshift=-0.18206056392823897, yscale=1.9987438693332842, yshift=0.0), state=ScipyMinimizeInfo(fun_val=DeviceArray(1092.76504584, dtype=float64, weak_type=True), success=True, status=0, iter_num=13))"
      ]
     },
     "execution_count": 7,
     "metadata": {},
     "output_type": "execute_result"
    }
   ],
   "source": [
    "result = mod.fit(init_value=initial_birth_rate)\n",
    "\n",
    "result"
   ]
  },
  {
   "cell_type": "code",
   "execution_count": 8,
   "metadata": {},
   "outputs": [
    {
     "data": {
      "image/png": "[encoded data removed]",
      "text/plain": [
       "<Figure size 432x288 with 1 Axes>"
      ]
     },
     "metadata": {
      "needs_background": "light"
     },
     "output_type": "display_data"
    }
   ],
   "source": [
    "plot_response(result.params)"
   ]
  },
  {
   "cell_type": "code",
   "execution_count": 9,
   "metadata": {},
   "outputs": [
    {
     "data": {
      "text/plain": [
       "OptStep(params=SigmoidResponse(xscale=1.2488398629544115, xshift=-0.18206056392823897, yscale=1.9987438693332842, yshift=0.0), state=ScipyMinimizeInfo(fun_val=DeviceArray(1092.76504584, dtype=float64, weak_type=True), success=True, status=0, iter_num=13))"
      ]
     },
     "execution_count": 9,
     "metadata": {},
     "output_type": "execute_result"
    }
   ],
   "source": [
    "# JIT works, this runs faster\n",
    "mod.fit(init_value=initial_birth_rate)"
   ]
  }
 ],
 "metadata": {
  "kernelspec": {
   "display_name": "Python 3.9.15 ('.venv': venv)",
   "language": "python",
   "name": "python3"
  },
  "language_info": {
   "codemirror_mode": {
    "name": "ipython",
    "version": 3
   },
   "file_extension": ".py",
   "mimetype": "text/x-python",
   "name": "python",
   "nbconvert_exporter": "python",
   "pygments_lexer": "ipython3",
   "version": "3.9.15"
  },
  "orig_nbformat": 4,
  "vscode": {
   "interpreter": {
    "hash": "ea3d934265a8e15afda8202ee9472c945ee245e0dfce204eaaaf8ab2c26aca35"
   }
  }
 },
 "nbformat": 4,
 "nbformat_minor": 2
}
