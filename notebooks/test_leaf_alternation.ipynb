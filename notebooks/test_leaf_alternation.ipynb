{
 "cells": [
  {
   "cell_type": "markdown",
   "source": [
    "Label alternating leaves"
   ],
   "metadata": {
    "collapsed": false,
    "pycharm": {
     "name": "#%% md\n"
    }
   }
  },
  {
   "cell_type": "code",
   "execution_count": null,
   "outputs": [],
   "source": [
    "from ete3 import TreeNode, faces, AttrFace, TreeStyle\n",
    "\n",
    "node = TreeNode()\n",
    "\n",
    "\n",
    "def alternating_proliferator(treenode: TreeNode, cell_divisions: int) -> None:\n",
    "    if cell_divisions > 0:\n",
    "        for i in range(2):\n",
    "            child = TreeNode()\n",
    "            child.num = i\n",
    "            treenode.add_child(child)\n",
    "            alternating_proliferator(child, cell_divisions - 1)\n",
    "\n",
    "\n",
    "alternating_proliferator(node, 3)"
   ],
   "metadata": {
    "collapsed": false,
    "pycharm": {
     "name": "#%%\n"
    }
   }
  },
  {
   "cell_type": "markdown",
   "source": [
    "Visualize tree"
   ],
   "metadata": {
    "collapsed": false,
    "pycharm": {
     "name": "#%% md\n"
    }
   }
  },
  {
   "cell_type": "code",
   "execution_count": null,
   "outputs": [],
   "source": [
    "def layout_KD(node):\n",
    "    if node.is_leaf():\n",
    "        faces.add_face_to_node(AttrFace(\"num\"), node, column=0)\n",
    "\n",
    "\n",
    "ts = TreeStyle()\n",
    "ts.layout_fn = layout_KD\n",
    "node.render(\"%%inline\", w=300, tree_style=ts)"
   ],
   "metadata": {
    "collapsed": false,
    "pycharm": {
     "name": "#%%\n"
    }
   }
  },
  {
   "cell_type": "markdown",
   "source": [
    "Check labels of alternating leaves"
   ],
   "metadata": {
    "collapsed": false,
    "pycharm": {
     "name": "#%% md\n"
    }
   }
  },
  {
   "cell_type": "code",
   "execution_count": 3,
   "outputs": [
    {
     "name": "stdout",
     "output_type": "stream",
     "text": [
      "0\n",
      "0\n",
      "0\n",
      "0\n"
     ]
    }
   ],
   "source": [
    "every_other_leaf = node.get_leaves()[::2]\n",
    "for leaf in every_other_leaf:\n",
    "    print(leaf.num)"
   ],
   "metadata": {
    "collapsed": false,
    "pycharm": {
     "name": "#%%\n"
    }
   }
  },
  {
   "cell_type": "markdown",
   "source": [
    "Delete a leaf, re-check labels"
   ],
   "metadata": {
    "collapsed": false,
    "pycharm": {
     "name": "#%% md\n"
    }
   }
  },
  {
   "cell_type": "code",
   "execution_count": 4,
   "outputs": [
    {
     "name": "stdout",
     "output_type": "stream",
     "text": [
      "0\n",
      "1\n",
      "1\n",
      "1\n"
     ]
    }
   ],
   "source": [
    "second_leaf = node.get_leaves()[1]\n",
    "second_leaf.delete(preserve_branch_length=False, prevent_nondicotomic=False)\n",
    "every_other_leaf = node.get_leaves()[::2]\n",
    "for leaf in every_other_leaf:\n",
    "    print(leaf.num)"
   ],
   "metadata": {
    "collapsed": false,
    "pycharm": {
     "name": "#%%\n"
    }
   }
  },
  {
   "cell_type": "code",
   "execution_count": 4,
   "outputs": [],
   "source": [],
   "metadata": {
    "collapsed": false,
    "pycharm": {
     "name": "#%%\n"
    }
   }
  }
 ],
 "metadata": {
  "kernelspec": {
   "display_name": "Python 3",
   "language": "python",
   "name": "python3"
  },
  "language_info": {
   "codemirror_mode": {
    "name": "ipython",
    "version": 2
   },
   "file_extension": ".py",
   "mimetype": "text/x-python",
   "name": "python",
   "nbconvert_exporter": "python",
   "pygments_lexer": "ipython2",
   "version": "2.7.6"
  }
 },
 "nbformat": 4,
 "nbformat_minor": 0
}