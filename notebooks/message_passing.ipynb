{
 "cells": [
  {
   "attachments": {},
   "cell_type": "markdown",
   "metadata": {},
   "source": [
    "# Demo of `jax.jit`-compatable message passing on trees"
   ]
  },
  {
   "cell_type": "code",
   "execution_count": 1,
   "metadata": {},
   "outputs": [
    {
     "name": "stderr",
     "output_type": "stream",
     "text": [
      "/opt/miniconda3/envs/gcdyn/lib/python3.9/site-packages/ete3-3.1.2-py3.7.egg/ete3/evol/parser/codemlparser.py:221: SyntaxWarning: \"is\" with a literal. Did you mean \"==\"?\n",
      "/opt/miniconda3/envs/gcdyn/lib/python3.9/site-packages/ete3-3.1.2-py3.7.egg/ete3/evol/parser/codemlparser.py:221: SyntaxWarning: \"is\" with a literal. Did you mean \"==\"?\n"
     ]
    }
   ],
   "source": [
    "import jax\n",
    "import jax.numpy as jnp\n",
    "jax.tree_util.tree_map\n",
    "import ete3\n",
    "\n",
    "from phylax import treemp\n",
    "import equinox as eqx"
   ]
  },
  {
   "attachments": {},
   "cell_type": "markdown",
   "metadata": {},
   "source": [
    "## Example tree\n",
    "\n",
    "We'll use this tree:\n",
    "```ascii\n",
    "           A\n",
    "          / \\\n",
    "         B   C\n",
    "        /   / \\\n",
    "       D   E   F\n",
    "```"
   ]
  },
  {
   "cell_type": "code",
   "execution_count": 2,
   "metadata": {},
   "outputs": [
    {
     "data": {
      "image/png": "[encoded data removed]",
      "text/plain": [
       "<IPython.core.display.Image object>"
      ]
     },
     "execution_count": 2,
     "metadata": {},
     "output_type": "execute_result"
    }
   ],
   "source": [
    "tree = ete3.Tree(name=\"A\", dist=0, format=2)\n",
    "tree.add_child(name=\"B\", dist=0.7)\n",
    "tree.add_child(name=\"C\", dist=0.4)\n",
    "(tree&'B').add_child(name=\"D\", dist=0.3)\n",
    "(tree&'C').add_child(name=\"E\", dist=0.6)\n",
    "(tree&'C').add_child(name=\"F\", dist=0.6)\n",
    "tree.render(\"%%inline\")"
   ]
  },
  {
   "cell_type": "code",
   "execution_count": 3,
   "metadata": {},
   "outputs": [],
   "source": [
    "from jax.experimental.sparse import BCOO"
   ]
  },
  {
   "cell_type": "code",
   "execution_count": 4,
   "metadata": {},
   "outputs": [],
   "source": [
    "class Messenger(eqx.Module):\n",
    "    def __call__(self, child_representations, parent_features):\n",
    "        return jnp.sum(jnp.asarray(child_representations), axis=0)\n",
    "\n",
    "class Updater(eqx.Module):\n",
    "    def __call__(self, node_features, message):\n",
    "        return node_features + message"
   ]
  },
  {
   "cell_type": "code",
   "execution_count": 5,
   "metadata": {},
   "outputs": [
    {
     "data": {
      "text/plain": [
       "Array([[1.],\n",
       "       [0.],\n",
       "       [1.],\n",
       "       [1.],\n",
       "       [0.],\n",
       "       [0.]], dtype=float32)"
      ]
     },
     "execution_count": 5,
     "metadata": {},
     "output_type": "execute_result"
    }
   ],
   "source": [
    "message_passer = treemp.TreeMessagePasser(tree, (\"dist\",), up_messenger=Messenger(), updater=Updater())\n",
    "\n",
    "representations = message_passer.initialize_representations(tree, lambda node: [1.0] if node.is_leaf() else [0.0])\n",
    "representations\n"
   ]
  },
  {
   "cell_type": "code",
   "execution_count": 6,
   "metadata": {},
   "outputs": [
    {
     "data": {
      "text/plain": [
       "Array([[0.3],\n",
       "       [0.7],\n",
       "       [0.6],\n",
       "       [0.6],\n",
       "       [0.4],\n",
       "       [0. ]], dtype=float32)"
      ]
     },
     "execution_count": 6,
     "metadata": {},
     "output_type": "execute_result"
    }
   ],
   "source": [
    "message_passer.features"
   ]
  },
  {
   "cell_type": "code",
   "execution_count": 7,
   "metadata": {},
   "outputs": [
    {
     "name": "stdout",
     "output_type": "stream",
     "text": [
      "D [1.]\n",
      "B [0.]\n",
      "E [1.]\n",
      "F [1.]\n",
      "C [0.]\n",
      "A [0.]\n"
     ]
    }
   ],
   "source": [
    "message_passer.decorate(representations, tree, \"representation\")\n",
    "\n",
    "for node in tree.traverse(strategy=\"postorder\"):\n",
    "    print(node.name, node.representation)"
   ]
  },
  {
   "cell_type": "code",
   "execution_count": 12,
   "metadata": {},
   "outputs": [
    {
     "data": {
      "text/plain": [
       "Array([[0.3],\n",
       "       [1. ],\n",
       "       [0.6],\n",
       "       [0.6],\n",
       "       [1.6],\n",
       "       [2.6]], dtype=float32)"
      ]
     },
     "execution_count": 12,
     "metadata": {},
     "output_type": "execute_result"
    }
   ],
   "source": [
    "representations, representations_trajectory = message_passer.upward(representations)\n",
    "\n",
    "assert jnp.all(representations == representations_trajectory[-1])\n",
    "\n",
    "representations"
   ]
  },
  {
   "cell_type": "code",
   "execution_count": 9,
   "metadata": {},
   "outputs": [
    {
     "data": {
      "text/plain": [
       "Updater()"
      ]
     },
     "execution_count": 9,
     "metadata": {},
     "output_type": "execute_result"
    }
   ],
   "source": [
    "@jax.jit\n",
    "def foo(passer):\n",
    "    return passer.features[:2].sum()\n",
    "\n",
    "eqx.filter_grad(foo)(message_passer).updater"
   ]
  },
  {
   "cell_type": "code",
   "execution_count": 10,
   "metadata": {},
   "outputs": [
    {
     "data": {
      "text/plain": [
       "Array([[2., 2.],\n",
       "       [2., 2.],\n",
       "       [2., 2.]], dtype=float32)"
      ]
     },
     "execution_count": 10,
     "metadata": {},
     "output_type": "execute_result"
    }
   ],
   "source": [
    "eqx.nn.Pool(1.0, lambda x, y: x + y, 1, 1)(jnp.ones((3, 2)))"
   ]
  },
  {
   "cell_type": "code",
   "execution_count": 11,
   "metadata": {},
   "outputs": [
    {
     "ename": "AttributeError",
     "evalue": "'TreeMessagePasser' object has no attribute '_aggregate'",
     "output_type": "error",
     "traceback": [
      "\u001b[0;31m---------------------------------------------------------------------------\u001b[0m",
      "\u001b[0;31mAttributeError\u001b[0m                            Traceback (most recent call last)",
      "\u001b[1;32m/Users/wsdewitt/github/gcdyn/notebooks/message_passing.ipynb Cell 13\u001b[0m in \u001b[0;36m1\n\u001b[0;32m----> <a href='vscode-notebook-cell:/Users/wsdewitt/github/gcdyn/notebooks/message_passing.ipynb#X13sZmlsZQ%3D%3D?line=0'>1</a>\u001b[0m message_passer\u001b[39m.\u001b[39;49m_aggregate(messages, \u001b[39m5\u001b[39m)\n",
      "\u001b[0;31mAttributeError\u001b[0m: 'TreeMessagePasser' object has no attribute '_aggregate'"
     ]
    }
   ],
   "source": [
    "message_passer._aggregate(messages, 5)\n",
    "# message_passer.aggregator(*messages[message_passer.children[0]])\n",
    "# # message_passer.children[1].todense().astype(bool)"
   ]
  },
  {
   "attachments": {},
   "cell_type": "markdown",
   "metadata": {},
   "source": [
    "## Data\n",
    "\n",
    "We want to pass messages from leaves to root, so we'll store the following node data in post-order:\n",
    "- a feature vector for each node (log-Gaussian noise in this example)\n",
    "- adjacency (including self)"
   ]
  },
  {
   "cell_type": "code",
   "execution_count": 6,
   "metadata": {},
   "outputs": [
    {
     "data": {
      "text/plain": [
       "Array([[0.4181907 , 0.8729431 , 0.17108512],\n",
       "       [1.2530419 , 0.26544216, 0.5251214 ],\n",
       "       [2.6064992 , 0.96423304, 0.1592524 ],\n",
       "       [0.28525436, 0.2786954 , 0.79312176],\n",
       "       [0.7822064 , 1.3670146 , 2.9621491 ],\n",
       "       [1.057348  , 0.65545595, 0.32428485]], dtype=float32)"
      ]
     },
     "metadata": {},
     "output_type": "display_data"
    },
    {
     "data": {
      "text/plain": [
       "Array([[ True, False, False, False, False, False],\n",
       "       [ True,  True, False, False, False, False],\n",
       "       [False, False,  True, False, False, False],\n",
       "       [False, False, False,  True, False, False],\n",
       "       [False, False,  True,  True,  True, False],\n",
       "       [False,  True, False, False,  True,  True]], dtype=bool)"
      ]
     },
     "metadata": {},
     "output_type": "display_data"
    }
   ],
   "source": [
    "post_order_idxs = {node: idx for idx, node in enumerate(tree.traverse(strategy=\"postorder\"))}\n",
    "leaf_idxs = jnp.array([post_order_idxs[node] for node in post_order_idxs if node.is_leaf()])\n",
    "\n",
    "n = len(post_order_idxs)\n",
    "d = 3  # dimension of node features\n",
    "features = jnp.exp(jax.random.normal(jax.random.PRNGKey(seed=0), shape=(n, d)))\n",
    "display(features)\n",
    "\n",
    "adjacency = jnp.zeros((n, n), dtype=bool)\n",
    "for node, idx in post_order_idxs.items():\n",
    "    adjacency = adjacency.at[idx, post_order_idxs[node]].set(True)\n",
    "    for child in node.children:\n",
    "        adjacency = adjacency.at[idx, post_order_idxs[child]].set(True)\n",
    "# children = [jnp.array([post_order_idxs[child] for child in node.children], dtype=int) for node in post_order_idxs]\n",
    "display(adjacency)"
   ]
  },
  {
   "attachments": {},
   "cell_type": "markdown",
   "metadata": {},
   "source": [
    "## Message passing\n",
    "\n",
    "### Message aggregation and feature update functions\n",
    "\n",
    "Example functions to aggregate messages from children and update messages for different kinds of events."
   ]
  },
  {
   "cell_type": "code",
   "execution_count": 4,
   "metadata": {},
   "outputs": [],
   "source": [
    "def aggregate(messages, adjacency):\n",
    "    return jnp.where(adjacency, messages, 1).prod()"
   ]
  },
  {
   "cell_type": "code",
   "execution_count": 5,
   "metadata": {},
   "outputs": [],
   "source": [
    "def update(features, messages, adjacency):\n",
    "    feature_idx = adjacency.sum() - 1  # uses a different feature for each node type (leaf, mutation, birth)\n",
    "    return features[feature_idx] * aggregate(messages, adjacency)"
   ]
  },
  {
   "attachments": {},
   "cell_type": "markdown",
   "metadata": {},
   "source": [
    "### Propagate messages up the tree\n",
    "\n",
    "Initialize messages to log-Gaussian noise at the leaves and 1 at the internal nodes"
   ]
  },
  {
   "cell_type": "code",
   "execution_count": 6,
   "metadata": {},
   "outputs": [
    {
     "data": {
      "text/plain": [
       "Array([6.147751  , 1.        , 0.61716235, 1.4047918 , 1.        ,\n",
       "       1.        ], dtype=float32)"
      ]
     },
     "execution_count": 6,
     "metadata": {},
     "output_type": "execute_result"
    }
   ],
   "source": [
    "messages = jnp.ones(n)\n",
    "messages = messages.at[leaf_idxs].set(jnp.exp(jax.random.normal(jax.random.PRNGKey(seed=0), shape=(len(leaf_idxs),))))\n",
    "messages"
   ]
  },
  {
   "attachments": {},
   "cell_type": "markdown",
   "metadata": {},
   "source": [
    "Propagate function"
   ]
  },
  {
   "cell_type": "code",
   "execution_count": 8,
   "metadata": {},
   "outputs": [],
   "source": [
    "def propagate_messages(messages, node_idx):\n",
    "    messages = messages.at[node_idx].set(update(features[node_idx], messages, adjacency[node_idx]))\n",
    "    return messages, messages"
   ]
  },
  {
   "attachments": {},
   "cell_type": "markdown",
   "metadata": {},
   "source": [
    "Propagate up the tree with [`jax.lax.scan`](https://jax.readthedocs.io/en/latest/_autosummary/jax.lax.scan.html#jax.lax.scan)"
   ]
  },
  {
   "cell_type": "code",
   "execution_count": 11,
   "metadata": {},
   "outputs": [
    {
     "data": {
      "text/plain": [
       "Array([1.8802418e-01, 1.1600808e-03, 2.8485893e+01, 9.3012452e-03,\n",
       "       2.2458050e+00, 1.3183665e-06], dtype=float32)"
      ]
     },
     "execution_count": 11,
     "metadata": {},
     "output_type": "execute_result"
    }
   ],
   "source": [
    "messages, message_trajectory = jax.lax.scan(propagate_messages, messages, jnp.arange(n))\n",
    "assert all(messages == message_trajectory[-1])\n",
    "messages"
   ]
  },
  {
   "cell_type": "code",
   "execution_count": null,
   "metadata": {},
   "outputs": [],
   "source": []
  }
 ],
 "metadata": {
  "kernelspec": {
   "display_name": "gcdyn",
   "language": "python",
   "name": "python3"
  },
  "language_info": {
   "codemirror_mode": {
    "name": "ipython",
    "version": 3
   },
   "file_extension": ".py",
   "mimetype": "text/x-python",
   "name": "python",
   "nbconvert_exporter": "python",
   "pygments_lexer": "ipython3",
   "version": "3.9.13"
  },
  "orig_nbformat": 4
 },
 "nbformat": 4,
 "nbformat_minor": 2
}
