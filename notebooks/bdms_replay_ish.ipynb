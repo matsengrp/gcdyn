{
 "cells": [
  {
   "cell_type": "code",
   "execution_count": 1,
   "id": "d376b043",
   "metadata": {},
   "outputs": [],
   "source": [
    "import pandas as pd\n",
    "import random\n",
    "\n",
    "from gcdyn import bdms, gpmap, mutators, responses, utils"
   ]
  },
  {
   "cell_type": "code",
   "execution_count": 2,
   "id": "f33bf457",
   "metadata": {},
   "outputs": [],
   "source": [
    "MK_RS5NF_mutability_path = \"../gcdyn/data/MK_RS5NF_mutability.csv\"\n",
    "MK_RS5NF_substitution_path = \"../gcdyn/data/MK_RS5NF_substitution.csv\"\n",
    "\n",
    "mutability = pd.read_csv(MK_RS5NF_mutability_path, index_col=0).squeeze(\"columns\")\n",
    "substitution = pd.read_csv(MK_RS5NF_substitution_path, index_col=0)\n",
    "\n",
    "replay_naive = \"GAGGTGCAGCTTCAGGAGTCAGGACCTAGCCTCGTGAAACCTTCTCAGACTCTGTCCCTCACCTGTTCTGTCACTGGCGACTCCATCACCAGTGGTTACTGGAACTGGATCCGGAAATTCCCAGGGAATAAACTTGAGTACATGGGGTACATAAGCTACAGTGGTAGCACTTACTACAATCCATCTCTCAAAAGTCGAATCTCCATCACTCGAGACACATCCAAGAACCAGTACTACCTGCAGTTGAATTCTGTGACTACTGAGGACACAGCCACATATTACTGTGCAAGGGACTTCGATGTCTGGGGCGCAGGGACCACGGTCACCGTCTCCTCAGACATTGTGATGACTCAGTCTCAAAAATTCATGTCCACATCAGTAGGAGACAGGGTCAGCGTCACCTGCAAGGCCAGTCAGAATGTGGGTACTAATGTAGCCTGGTATCAACAGAAACCAGGGCAATCTCCTAAAGCACTGATTTACTCGGCATCCTACAGGTACAGTGGAGTCCCTGATCGCTTCACAGGCAGTGGATCTGGGACAGATTTCACTCTCACCATCAGCAATGTGCAGTCTGAAGACTTGGCAGAGTATTTCTGTCAGCAATATAACAGCTATCCTCTCACGTTCGGCTCGGGGACTAAGCTAGAAATAAAA\""
   ]
  },
  {
   "cell_type": "code",
   "execution_count": 3,
   "id": "187dfa08",
   "metadata": {},
   "outputs": [],
   "source": [
    "chain_2_start_idx = 336\n",
    "replay_seq_to_contexts = lambda seq: utils.padded_fivemer_contexts_of_paired_sequences(\n",
    "        seq, chain_2_start_idx\n",
    "    )"
   ]
  },
  {
   "cell_type": "code",
   "execution_count": 4,
   "id": "2550dd8c",
   "metadata": {},
   "outputs": [],
   "source": [
    "replay_mutator = mutators.ContextMutator(\n",
    "        mutability=mutability,\n",
    "        substitution=substitution,\n",
    "        seq_to_contexts=replay_seq_to_contexts,\n",
    "    )"
   ]
  },
  {
   "cell_type": "code",
   "execution_count": 5,
   "id": "77a4a062",
   "metadata": {},
   "outputs": [],
   "source": [
    "replay_mutation_response = responses.SequenceContextMutationResponse(mutability, replay_seq_to_contexts)"
   ]
  },
  {
   "cell_type": "code",
   "execution_count": 6,
   "id": "a7ea4394",
   "metadata": {},
   "outputs": [],
   "source": [
    "gp_map = gpmap.ConstantGPMap(1.0)"
   ]
  },
  {
   "cell_type": "code",
   "execution_count": 7,
   "id": "2fa98fe8",
   "metadata": {},
   "outputs": [
    {
     "name": "stdout",
     "output_type": "stream",
     "text": [
      "tip count:  509\n"
     ]
    }
   ],
   "source": [
    "def make_replay_ish_tree(base_seed):\n",
    "    tree = bdms.TreeNode()\n",
    "    tree.sequence = replay_naive\n",
    "    tree.x = gp_map(tree.sequence)\n",
    "    for seed in range(1000):\n",
    "        try:\n",
    "            tree.evolve(\n",
    "                20,\n",
    "                birth_rate=responses.ConstantResponse(0.35),\n",
    "                mutator=mutators.SequencePhenotypeMutator(replay_mutator, gp_map),\n",
    "                mutation_rate=replay_mutation_response,\n",
    "                min_survivors=20,\n",
    "                seed=base_seed+seed,\n",
    "            )\n",
    "            return tree\n",
    "        except bdms.TreeError:\n",
    "            print(\"try failed\")\n",
    "            continue\n",
    "\n",
    "tree = make_replay_ish_tree(0)\n",
    "print(\"tip count: \", len(tree))\n",
    "tree.sample_survivors(n = 60)\n",
    "tree.prune()"
   ]
  },
  {
   "cell_type": "code",
   "execution_count": 8,
   "id": "ae13f935",
   "metadata": {},
   "outputs": [
    {
     "name": "stdout",
     "output_type": "stream",
     "text": [
      "\n",
      "                     /-1573\n",
      "                  /-|\n",
      "               /-|   \\-1671\n",
      "              |  |\n",
      "            /-|   \\-1269\n",
      "           |  |\n",
      "           |  |   /-1817\n",
      "           |   \\-|\n",
      "           |     |   /-1331\n",
      "         /-|      \\-|\n",
      "        |  |         \\-1861\n",
      "        |  |\n",
      "        |  |      /-1571\n",
      "        |  |   /-|\n",
      "        |  |  |  |   /-1752\n",
      "        |   \\-|   \\-|\n",
      "        |     |      \\-1382\n",
      "        |     |\n",
      "        |      \\-1113\n",
      "        |\n",
      "        |         /-913\n",
      "        |      /-|\n",
      "        |     |   \\-1822\n",
      "        |     |\n",
      "        |     |      /-1401\n",
      "        |     |     |\n",
      "        |     |     |         /-1785\n",
      "      /-|     |   /-|      /-|\n",
      "     |  |   /-|  |  |     |  |   /-933\n",
      "     |  |  |  |  |  |   /-|   \\-|\n",
      "     |  |  |  |  |  |  |  |      \\-1205\n",
      "     |  |  |  |  |   \\-|  |\n",
      "     |  |  |  |  |     |   \\-1721\n",
      "     |  |  |  |  |     |\n",
      "     |  |  |  |  |      \\-1289\n",
      "     |  |  |   \\-|\n",
      "     |  |  |     |         /-1836\n",
      "     |  |  |     |      /-|\n",
      "     |  |  |     |     |  |   /-1790\n",
      "     |  |  |     |     |   \\-|\n",
      "     |  |  |     |   /-|      \\-1697\n",
      "     |  |  |     |  |  |\n",
      "     |  |  |     |  |  |   /-1851\n",
      "     |  |  |      \\-|   \\-|\n",
      "     |  |  |        |      \\-1197\n",
      "     |   \\-|        |\n",
      "     |     |        |   /-1587\n",
      "     |     |         \\-|\n",
      "     |     |            \\-1681\n",
      "     |     |\n",
      "     |     |         /-1756\n",
      "     |     |      /-|\n",
      "     |     |     |  |   /-1565\n",
      "     |     |     |   \\-|\n",
      "     |     |   /-|      \\-1810\n",
      "     |     |  |  |\n",
      "     |     |  |  |   /-1416\n",
      "     |     |  |   \\-|\n",
      "     |     |  |      \\-1412\n",
      "     |     |  |\n",
      "     |     |  |               /-1585\n",
      "     |     |  |            /-|\n",
      "     |      \\-|         /-|   \\-1609\n",
      "     |        |        |  |\n",
      "-- /-|        |      /-|   \\-1762\n",
      "     |        |     |  |\n",
      "     |        |     |  |   /-1679\n",
      "     |        |   /-|   \\-|\n",
      "     |        |  |  |      \\-1429\n",
      "     |        |  |  |\n",
      "     |        |  |  |   /-1744\n",
      "     |         \\-|   \\-|\n",
      "     |           |      \\-1530\n",
      "     |           |\n",
      "     |           |   /-1670\n",
      "     |            \\-|\n",
      "     |              |   /-1374\n",
      "     |               \\-|\n",
      "     |                  \\-1147\n",
      "     |\n",
      "     |         /-1709\n",
      "     |        |\n",
      "     |        |            /-1307\n",
      "     |        |         /-|\n",
      "     |      /-|      /-|   \\-1788\n",
      "     |     |  |     |  |\n",
      "     |     |  |   /-|   \\-1548\n",
      "     |     |  |  |  |\n",
      "     |     |   \\-|   \\-1462\n",
      "     |     |     |\n",
      "     |   /-|      \\-1684\n",
      "     |  |  |\n",
      "     |  |  |         /-1664\n",
      "     |  |  |      /-|\n",
      "     |  |  |     |   \\-1231\n",
      "     |  |  |   /-|\n",
      "     |  |  |  |  |   /-1863\n",
      "     |  |   \\-|   \\-|\n",
      "     |  |     |      \\-1807\n",
      "     |  |     |\n",
      "     |  |      \\-1359\n",
      "      \\-|\n",
      "        |               /-1328\n",
      "        |            /-|\n",
      "        |         /-|   \\-1579\n",
      "        |        |  |\n",
      "        |      /-|   \\-1481\n",
      "        |     |  |\n",
      "        |     |   \\-1525\n",
      "        |   /-|\n",
      "        |  |  |      /-1312\n",
      "        |  |  |   /-|\n",
      "        |  |   \\-|   \\-1740\n",
      "         \\-|     |\n",
      "           |      \\-1346\n",
      "           |\n",
      "           |   /-1534\n",
      "            \\-|\n",
      "               \\-1490\n"
     ]
    }
   ],
   "source": [
    "print(tree)"
   ]
  },
  {
   "cell_type": "code",
   "execution_count": 9,
   "id": "a5704edd",
   "metadata": {},
   "outputs": [
    {
     "data": {
      "text/plain": [
       "' we are going for about 10 mutations at the deepest node '"
      ]
     },
     "execution_count": 9,
     "metadata": {},
     "output_type": "execute_result"
    }
   ],
   "source": [
    "\" we are going for about 10 mutations at the deepest node \""
   ]
  },
  {
   "cell_type": "code",
   "execution_count": 10,
   "id": "6a91ab79",
   "metadata": {},
   "outputs": [
    {
     "data": {
      "text/plain": [
       "[8,\n",
       " 8,\n",
       " 13,\n",
       " 7,\n",
       " 9,\n",
       " 9,\n",
       " 12,\n",
       " 13,\n",
       " 12,\n",
       " 11,\n",
       " 11,\n",
       " 10,\n",
       " 7,\n",
       " 12,\n",
       " 11,\n",
       " 11,\n",
       " 11,\n",
       " 8,\n",
       " 13,\n",
       " 10,\n",
       " 9,\n",
       " 12,\n",
       " 12,\n",
       " 9,\n",
       " 9,\n",
       " 3,\n",
       " 11,\n",
       " 8,\n",
       " 6,\n",
       " 6,\n",
       " 11,\n",
       " 11,\n",
       " 11,\n",
       " 7,\n",
       " 10,\n",
       " 10,\n",
       " 8,\n",
       " 13,\n",
       " 9,\n",
       " 10,\n",
       " 7,\n",
       " 11,\n",
       " 13,\n",
       " 10,\n",
       " 12,\n",
       " 9,\n",
       " 9,\n",
       " 7,\n",
       " 10,\n",
       " 10,\n",
       " 10,\n",
       " 8,\n",
       " 9,\n",
       " 8,\n",
       " 11,\n",
       " 9,\n",
       " 13,\n",
       " 9,\n",
       " 13,\n",
       " 11]"
      ]
     },
     "execution_count": 10,
     "metadata": {},
     "output_type": "execute_result"
    }
   ],
   "source": [
    "tree.total_mutations = 0\n",
    "\n",
    "for node in tree.iter_descendants(strategy=\"preorder\"):\n",
    "    node.total_mutations = node.n_mutations + node.up.total_mutations\n",
    "\n",
    "[leaf.total_mutations for leaf in tree.iter_leaves()]"
   ]
  },
  {
   "cell_type": "code",
   "execution_count": 11,
   "id": "090b178a",
   "metadata": {},
   "outputs": [],
   "source": [
    "with open(\"tree.nwk\", \"w\") as fp:\n",
    "    fp.write(tree.write()+\"\\n\")"
   ]
  },
  {
   "cell_type": "code",
   "execution_count": 12,
   "id": "8374af73",
   "metadata": {},
   "outputs": [],
   "source": [
    "utils.write_leaf_sequences_to_fasta(tree, \"seqs.fasta\", naive=replay_naive)"
   ]
  },
  {
   "cell_type": "code",
   "execution_count": null,
   "id": "93cdf003",
   "metadata": {},
   "outputs": [],
   "source": []
  }
 ],
 "metadata": {
  "kernelspec": {
   "display_name": "Python 3 (ipykernel)",
   "language": "python",
   "name": "python3"
  },
  "language_info": {
   "codemirror_mode": {
    "name": "ipython",
    "version": 3
   },
   "file_extension": ".py",
   "mimetype": "text/x-python",
   "name": "python",
   "nbconvert_exporter": "python",
   "pygments_lexer": "ipython3",
   "version": "3.9.12"
  }
 },
 "nbformat": 4,
 "nbformat_minor": 5
}
