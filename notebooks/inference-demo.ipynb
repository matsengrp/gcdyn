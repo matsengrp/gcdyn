{
 "cells": [
  {
   "attachments": {},
   "cell_type": "markdown",
   "metadata": {},
   "source": [
    "# Demo of `models.py`"
   ]
  },
  {
   "cell_type": "code",
   "execution_count": 1,
   "metadata": {},
   "outputs": [],
   "source": [
    "from gcdyn import models, poisson, utils, mutators\n",
    "import jax.numpy as np\n",
    "from jax.config import config\n",
    "\n",
    "config.update(\"jax_enable_x64\", True)"
   ]
  },
  {
   "attachments": {},
   "cell_type": "markdown",
   "metadata": {},
   "source": [
    "## Simulate some trees to use later"
   ]
  },
  {
   "cell_type": "code",
   "execution_count": 2,
   "metadata": {},
   "outputs": [
    {
     "name": "stdout",
     "output_type": "stream",
     "text": [
      "Notice: obtained error 'minimum number of survivors 1 not attained' 6 times.\n",
      "Success: average of 54.0 nodes per tree, over 2 trees.\n"
     ]
    }
   ],
   "source": [
    "# (Deliberately avoiding rate parameters == constant 1, because a lot of bugs hide in this scenario)\n",
    "true_parameters = {\n",
    "    \"birth_rate\": poisson.SigmoidResponse(1.0, 0.0, 2.0, 0.0),\n",
    "    \"death_rate\": poisson.ConstantResponse(1.3),\n",
    "    \"mutation_rate\": poisson.ConstantResponse(1.2),\n",
    "    \"mutator\": mutators.DiscreteMutator(\n",
    "        state_space=(1, 2, 3),\n",
    "        transition_matrix=utils.random_transition_matrix(length=3),\n",
    "    ),\n",
    "    \"extant_sampling_probability\": 1,\n",
    "}\n",
    "\n",
    "PRESENT_TIME = 2\n",
    "\n",
    "trees = utils.sample_trees(\n",
    "    n=2,\n",
    "    t=PRESENT_TIME,\n",
    "    init_x=1,\n",
    "    **true_parameters,\n",
    "    seed=10,\n",
    ")"
   ]
  },
  {
   "attachments": {},
   "cell_type": "markdown",
   "metadata": {},
   "source": [
    "## Computing likelihoods under different models"
   ]
  },
  {
   "cell_type": "code",
   "execution_count": 3,
   "metadata": {},
   "outputs": [
    {
     "data": {
      "text/plain": [
       "Array(-75.8863699, dtype=float64)"
      ]
     },
     "execution_count": 3,
     "metadata": {},
     "output_type": "execute_result"
    }
   ],
   "source": [
    "models.naive_log_likelihood(trees=trees, **true_parameters)"
   ]
  },
  {
   "cell_type": "code",
   "execution_count": 4,
   "metadata": {},
   "outputs": [],
   "source": [
    "# TODO: enable once `prune` preserves mutation event nodes\n",
    "# for tree in trees:\n",
    "#    tree.prune()\n",
    "\n",
    "for tree in trees:\n",
    "    tree._pruned = True"
   ]
  },
  {
   "cell_type": "code",
   "execution_count": 5,
   "metadata": {},
   "outputs": [
    {
     "data": {
      "text/plain": [
       "Array(-75.8863699, dtype=float64)"
      ]
     },
     "execution_count": 5,
     "metadata": {},
     "output_type": "execute_result"
    }
   ],
   "source": [
    "models.stadler_appx_log_likelihood(\n",
    "    trees=trees,\n",
    "    **true_parameters,\n",
    "    extinct_sampling_probability=1,\n",
    "    present_time=PRESENT_TIME,\n",
    ")"
   ]
  },
  {
   "cell_type": "code",
   "execution_count": 6,
   "metadata": {},
   "outputs": [
    {
     "data": {
      "text/plain": [
       "Array(-75.8863699, dtype=float64, weak_type=True)"
      ]
     },
     "execution_count": 6,
     "metadata": {},
     "output_type": "execute_result"
    }
   ],
   "source": [
    "models.stadler_full_log_likelihood(\n",
    "    trees=trees,\n",
    "    **true_parameters,\n",
    "    extinct_sampling_probability=1,\n",
    "    present_time=PRESENT_TIME,\n",
    "    dtmax=0.01,\n",
    ")"
   ]
  },
  {
   "cell_type": "code",
   "execution_count": 7,
   "metadata": {},
   "outputs": [
    {
     "data": {
      "text/plain": [
       "Array(-75.8863699, dtype=float64)"
      ]
     },
     "execution_count": 7,
     "metadata": {},
     "output_type": "execute_result"
    }
   ],
   "source": [
    "models.stadler_full_log_likelihood_scipy(\n",
    "    trees=trees,\n",
    "    **true_parameters,\n",
    "    extinct_sampling_probability=1,\n",
    "    present_time=PRESENT_TIME,\n",
    "    max_step=0.01,\n",
    ")"
   ]
  },
  {
   "attachments": {},
   "cell_type": "markdown",
   "metadata": {},
   "source": [
    "## Maximum likelihood estimation of rate parameters"
   ]
  },
  {
   "cell_type": "code",
   "execution_count": 8,
   "metadata": {},
   "outputs": [
    {
     "data": {
      "text/plain": [
       "ScipyMinimizeInfo(fun_val=Array(75.32768632, dtype=float64, weak_type=True), success=True, status=0, iter_num=22)"
      ]
     },
     "execution_count": 8,
     "metadata": {},
     "output_type": "execute_result"
    }
   ],
   "source": [
    "# Initialize with the truth\n",
    "\n",
    "model = models.BirthDeathModel(\n",
    "    log_likelihood=models.stadler_appx_log_likelihood,\n",
    "    trees=trees,\n",
    "    optimized_parameters={\n",
    "        \"birth_rate\": true_parameters[\"birth_rate\"],\n",
    "        \"death_rate\": true_parameters[\"death_rate\"],\n",
    "    },\n",
    "    fixed_parameters={\n",
    "        \"mutation_rate\": true_parameters[\"mutation_rate\"],\n",
    "        \"mutator\": true_parameters[\"mutator\"],\n",
    "        \"extant_sampling_probability\": true_parameters[\"extant_sampling_probability\"],\n",
    "        \"extinct_sampling_probability\": 1,\n",
    "        \"present_time\": PRESENT_TIME,\n",
    "    },\n",
    ")\n",
    "\n",
    "model.fit()"
   ]
  },
  {
   "cell_type": "code",
   "execution_count": 9,
   "metadata": {},
   "outputs": [
    {
     "data": {
      "text/plain": [
       "{'birth_rate': SigmoidResponse(xscale=1.936334913485592, xshift=-2.007671650593814, yscale=1.1833484109309638, yshift=0.5757177848367284),\n",
       " 'death_rate': ConstantResponse(value=1.0927569207867909)}"
      ]
     },
     "execution_count": 9,
     "metadata": {},
     "output_type": "execute_result"
    }
   ],
   "source": [
    "model.parameters"
   ]
  },
  {
   "cell_type": "code",
   "execution_count": 10,
   "metadata": {},
   "outputs": [
    {
     "name": "stderr",
     "output_type": "stream",
     "text": [
      "2023-04-21 16:08:28.601835: E external/xla/xla/service/slow_operation_alarm.cc:65] \n",
      "********************************\n",
      "[Compiling module jit_objective] Very slow compile? If you want to file a bug, run with envvar XLA_FLAGS=--xla_dump_to=/tmp/foo and attach the results.\n",
      "********************************\n",
      "2023-04-21 16:11:31.456034: E external/xla/xla/service/slow_operation_alarm.cc:133] The operation took 5m2.854811s\n",
      "\n",
      "********************************\n",
      "[Compiling module jit_objective] Very slow compile? If you want to file a bug, run with envvar XLA_FLAGS=--xla_dump_to=/tmp/foo and attach the results.\n",
      "********************************\n"
     ]
    },
    {
     "data": {
      "text/plain": [
       "ScipyMinimizeInfo(fun_val=Array(75.32755671, dtype=float64, weak_type=True), success=True, status=0, iter_num=22)"
      ]
     },
     "execution_count": 10,
     "metadata": {},
     "output_type": "execute_result"
    }
   ],
   "source": [
    "model = models.BirthDeathModel(\n",
    "    log_likelihood=models.stadler_full_log_likelihood,\n",
    "    trees=trees,\n",
    "    optimized_parameters={\n",
    "        \"birth_rate\": true_parameters[\"birth_rate\"],\n",
    "        \"death_rate\": true_parameters[\"death_rate\"],\n",
    "    },\n",
    "    fixed_parameters={\n",
    "        \"mutation_rate\": true_parameters[\"mutation_rate\"],\n",
    "        \"mutator\": true_parameters[\"mutator\"],\n",
    "        \"extant_sampling_probability\": true_parameters[\"extant_sampling_probability\"],\n",
    "        \"extinct_sampling_probability\": 1,\n",
    "        \"present_time\": PRESENT_TIME,\n",
    "        \"dtmax\": 0.1,\n",
    "    },\n",
    ")\n",
    "\n",
    "model.fit()\n",
    "\n",
    "# This runs a little slow because it takes a while to jit the grad"
   ]
  },
  {
   "cell_type": "code",
   "execution_count": 11,
   "metadata": {},
   "outputs": [
    {
     "data": {
      "text/plain": [
       "{'birth_rate': SigmoidResponse(xscale=1.9335909694211946, xshift=-2.0019620615547145, yscale=1.1853365376056422, yshift=0.5737605752872461),\n",
       " 'death_rate': ConstantResponse(value=1.09276954025032)}"
      ]
     },
     "execution_count": 11,
     "metadata": {},
     "output_type": "execute_result"
    }
   ],
   "source": [
    "model.parameters"
   ]
  }
 ],
 "metadata": {
  "kernelspec": {
   "display_name": ".venv",
   "language": "python",
   "name": "python3"
  },
  "language_info": {
   "codemirror_mode": {
    "name": "ipython",
    "version": 3
   },
   "file_extension": ".py",
   "mimetype": "text/x-python",
   "name": "python",
   "nbconvert_exporter": "python",
   "pygments_lexer": "ipython3",
   "version": "3.9.16"
  },
  "orig_nbformat": 4
 },
 "nbformat": 4,
 "nbformat_minor": 2
}
