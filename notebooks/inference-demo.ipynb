{
 "cells": [
  {
   "attachments": {},
   "cell_type": "markdown",
   "metadata": {},
   "source": [
    "# Demo of `models.py`"
   ]
  },
  {
   "cell_type": "code",
   "execution_count": 1,
   "metadata": {},
   "outputs": [],
   "source": [
    "from gcdyn import models, poisson, utils, mutators\n",
    "import jax.numpy as np\n",
    "from jax.config import config\n",
    "\n",
    "config.update(\"jax_enable_x64\", True)"
   ]
  },
  {
   "attachments": {},
   "cell_type": "markdown",
   "metadata": {},
   "source": [
    "## Simulate some trees to use later"
   ]
  },
  {
   "cell_type": "code",
   "execution_count": 2,
   "metadata": {},
   "outputs": [
    {
     "name": "stdout",
     "output_type": "stream",
     "text": [
      "Notice: obtained error 'number of survivors 0 is less than min_survivors=1' 4 times.\n",
      "Success: average of 27.5 nodes per tree, over 2 trees.\n"
     ]
    }
   ],
   "source": [
    "seed = 10\n",
    "\n",
    "# (Deliberately avoiding rate parameters == constant 1, because a lot of bugs hide in this scenario)\n",
    "true_parameters = {\n",
    "    \"birth_response\": poisson.SigmoidResponse(1.0, 0.0, 2.0, 0.0),\n",
    "    \"death_response\": poisson.ConstantResponse(1.3),\n",
    "    \"mutation_response\": poisson.ConstantResponse(1.2),\n",
    "    \"mutator\": mutators.DiscreteMutator(\n",
    "        state_space=(1, 2, 3),\n",
    "        transition_matrix=utils.random_transition_matrix(length=3, seed=seed),\n",
    "    ),\n",
    "    \"extant_sampling_probability\": 1,\n",
    "}\n",
    "\n",
    "PRESENT_TIME = 2\n",
    "\n",
    "trees = utils.sample_trees(n=2, t=PRESENT_TIME, init_x=1, **true_parameters, seed=seed)"
   ]
  },
  {
   "attachments": {},
   "cell_type": "markdown",
   "metadata": {},
   "source": [
    "## Computing likelihoods under different models"
   ]
  },
  {
   "cell_type": "code",
   "execution_count": 3,
   "metadata": {},
   "outputs": [
    {
     "data": {
      "text/plain": [
       "Array(-44.24312484, dtype=float64)"
      ]
     },
     "execution_count": 3,
     "metadata": {},
     "output_type": "execute_result"
    }
   ],
   "source": [
    "models.naive_log_likelihood(trees=trees, **true_parameters)"
   ]
  },
  {
   "cell_type": "code",
   "execution_count": 4,
   "metadata": {},
   "outputs": [],
   "source": [
    "for tree in trees:\n",
    "    tree._pruned = True\n",
    "    # tree.prune() removes extinct lineages too, which is not part of the ρ=σ=1 setting\n",
    "    # that makes these models equivalent.\n",
    "    # Set this flag to satisfy the assertion in the following likelihood functions"
   ]
  },
  {
   "cell_type": "code",
   "execution_count": 5,
   "metadata": {},
   "outputs": [
    {
     "data": {
      "text/plain": [
       "Array(-44.24312484, dtype=float64)"
      ]
     },
     "execution_count": 5,
     "metadata": {},
     "output_type": "execute_result"
    }
   ],
   "source": [
    "models.stadler_appx_log_likelihood(\n",
    "    trees=trees,\n",
    "    **true_parameters,\n",
    "    extinct_sampling_probability=1,\n",
    "    present_time=PRESENT_TIME,\n",
    ")"
   ]
  },
  {
   "cell_type": "code",
   "execution_count": 6,
   "metadata": {},
   "outputs": [
    {
     "data": {
      "text/plain": [
       "Array(-44.24312484, dtype=float64, weak_type=True)"
      ]
     },
     "execution_count": 6,
     "metadata": {},
     "output_type": "execute_result"
    }
   ],
   "source": [
    "models.stadler_full_log_likelihood(\n",
    "    trees=trees,\n",
    "    **true_parameters,\n",
    "    extinct_sampling_probability=1,\n",
    "    present_time=PRESENT_TIME,\n",
    "    dtmax=0.01,\n",
    ")"
   ]
  },
  {
   "attachments": {},
   "cell_type": "markdown",
   "metadata": {},
   "source": [
    "## Maximum likelihood estimation of rate parameters"
   ]
  },
  {
   "cell_type": "code",
   "execution_count": 7,
   "metadata": {},
   "outputs": [
    {
     "data": {
      "text/plain": [
       "ScipyMinimizeInfo(fun_val=Array(42.70447212, dtype=float64, weak_type=True), success=True, status=0, iter_num=78)"
      ]
     },
     "execution_count": 7,
     "metadata": {},
     "output_type": "execute_result"
    }
   ],
   "source": [
    "# Initialize with the truth\n",
    "\n",
    "model = models.BirthDeathModel(\n",
    "    log_likelihood=models.stadler_appx_log_likelihood,\n",
    "    trees=trees,\n",
    "    optimized_parameters={\n",
    "        \"birth_response\": true_parameters[\"birth_response\"],\n",
    "        \"death_response\": true_parameters[\"death_response\"],\n",
    "    },\n",
    "    fixed_parameters={\n",
    "        \"mutation_response\": true_parameters[\"mutation_response\"],\n",
    "        \"mutator\": true_parameters[\"mutator\"],\n",
    "        \"extant_sampling_probability\": true_parameters[\"extant_sampling_probability\"],\n",
    "        \"extinct_sampling_probability\": 1,\n",
    "        \"present_time\": PRESENT_TIME,\n",
    "    },\n",
    ")\n",
    "\n",
    "model.fit()"
   ]
  },
  {
   "cell_type": "code",
   "execution_count": 8,
   "metadata": {},
   "outputs": [
    {
     "data": {
      "text/plain": [
       "{'birth_response': SigmoidResponse(xscale=9.631466180159949, xshift=3.2767300177925405, yscale=10.53124412056242, yshift=1.0868446373469547),\n",
       " 'death_response': ConstantResponse(value=0.8489909154295577)}"
      ]
     },
     "execution_count": 8,
     "metadata": {},
     "output_type": "execute_result"
    }
   ],
   "source": [
    "model.parameters"
   ]
  },
  {
   "cell_type": "code",
   "execution_count": 9,
   "metadata": {},
   "outputs": [
    {
     "data": {
      "text/plain": [
       "ScipyMinimizeInfo(fun_val=Array(42.70444679, dtype=float64, weak_type=True), success=True, status=0, iter_num=73)"
      ]
     },
     "execution_count": 9,
     "metadata": {},
     "output_type": "execute_result"
    }
   ],
   "source": [
    "model = models.BirthDeathModel(\n",
    "    log_likelihood=models.stadler_full_log_likelihood,\n",
    "    trees=trees,\n",
    "    optimized_parameters={\n",
    "        \"birth_response\": true_parameters[\"birth_response\"],\n",
    "        \"death_response\": true_parameters[\"death_response\"],\n",
    "    },\n",
    "    fixed_parameters={\n",
    "        \"mutation_response\": true_parameters[\"mutation_response\"],\n",
    "        \"mutator\": true_parameters[\"mutator\"],\n",
    "        \"extant_sampling_probability\": true_parameters[\"extant_sampling_probability\"],\n",
    "        \"extinct_sampling_probability\": 1,\n",
    "        \"present_time\": PRESENT_TIME,\n",
    "        \"dtmax\": 0.1,\n",
    "    },\n",
    ")\n",
    "\n",
    "model.fit()\n",
    "\n",
    "# This runs a little slow because it takes a while to jit the grad"
   ]
  },
  {
   "cell_type": "code",
   "execution_count": 10,
   "metadata": {},
   "outputs": [
    {
     "data": {
      "text/plain": [
       "{'birth_response': SigmoidResponse(xscale=8.94261956733765, xshift=3.300719959473646, yscale=10.768037542642809, yshift=1.0868504527608402),\n",
       " 'death_response': ConstantResponse(value=0.8489772170201427)}"
      ]
     },
     "execution_count": 10,
     "metadata": {},
     "output_type": "execute_result"
    }
   ],
   "source": [
    "model.parameters"
   ]
  }
 ],
 "metadata": {
  "kernelspec": {
   "display_name": ".venv",
   "language": "python",
   "name": "python3"
  },
  "language_info": {
   "codemirror_mode": {
    "name": "ipython",
    "version": 3
   },
   "file_extension": ".py",
   "mimetype": "text/x-python",
   "name": "python",
   "nbconvert_exporter": "python",
   "pygments_lexer": "ipython3",
   "version": "3.9.16"
  },
  "orig_nbformat": 4
 },
 "nbformat": 4,
 "nbformat_minor": 2
}
