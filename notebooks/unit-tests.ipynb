{
 "cells": [
  {
   "cell_type": "markdown",
   "metadata": {},
   "source": [
    "# Unit tests comparing the BDMS and MTBD likelihoods"
   ]
  },
  {
   "cell_type": "code",
   "execution_count": 6,
   "metadata": {},
   "outputs": [],
   "source": [
    "from gcdyn import bdms, mutators, model, responses\n",
    "\n",
    "from numpy import log, inf, sqrt, exp, max\n",
    "from scipy.stats import expon"
   ]
  },
  {
   "cell_type": "code",
   "execution_count": 2,
   "metadata": {},
   "outputs": [],
   "source": [
    "BIRTH              = bdms.TreeNode._BIRTH_EVENT\n",
    "DEATH              = bdms.TreeNode._DEATH_EVENT\n",
    "MUTATION           = bdms.TreeNode._MUTATION_EVENT\n",
    "SAMPLED_SURVIVOR   = bdms.TreeNode._SAMPLING_EVENT\n",
    "UNSAMPLED_SURVIVOR = bdms.TreeNode._SURVIVAL_EVENT\n",
    "\n",
    "\n",
    "def add_event(node, event, edge_length):\n",
    "    child = bdms.TreeNode(\n",
    "        t    = node.t + edge_length,\n",
    "        x    = node.x,\n",
    "        dist = edge_length\n",
    "    )\n",
    "\n",
    "    child.event = event\n",
    "    node.add_child(child)\n",
    "\n",
    "    return child\n",
    "\n",
    "\n",
    "def log_dexp(x, rate):\n",
    "    return expon.logpdf(x, scale = 1 / rate)\n",
    "\n",
    "\n",
    "def log_hazard_exp(x, rate):\n",
    "    return expon.logsf(x, scale = 1 / rate)"
   ]
  },
  {
   "cell_type": "markdown",
   "metadata": {},
   "source": [
    "## Single edge to sample time"
   ]
  },
  {
   "cell_type": "code",
   "execution_count": 3,
   "metadata": {},
   "outputs": [
    {
     "name": "stdout",
     "output_type": "stream",
     "text": [
      "\n",
      "-- /-0\n"
     ]
    }
   ],
   "source": [
    "tree  = bdms.TreeNode(x = 10)\n",
    "event = add_event(tree, SAMPLED_SURVIVOR, edge_length = 3)\n",
    "\n",
    "print(tree)"
   ]
  },
  {
   "cell_type": "code",
   "execution_count": 17,
   "metadata": {},
   "outputs": [
    {
     "data": {
      "text/plain": [
       "-11.999727249145508"
      ]
     },
     "execution_count": 17,
     "metadata": {},
     "output_type": "execute_result"
    }
   ],
   "source": [
    "# BDMS likelihood by code\n",
    "λ = responses.SigmoidResponse()\n",
    "μ = responses.ConstantResponse(1)\n",
    "γ = responses.ConstantResponse(1)\n",
    "ρ = 1\n",
    "σ = 1\n",
    "\n",
    "tree._sampled = True # We do this ourselves\n",
    "\n",
    "responses.init_numpy(use_jax=True)\n",
    "#model.register_pytree_node_class(responses.SigmoidResponse)\n",
    "m = model.BdmsModel([tree],\n",
    "    death_rate = μ,\n",
    "    mutation_rate = γ,\n",
    "    mutator = None,\n",
    "    sampling_probability = ρ\n",
    ")\n",
    "\n",
    "m.log_likelihood(birth_rate = λ).item()"
   ]
  },
  {
   "cell_type": "code",
   "execution_count": 13,
   "metadata": {},
   "outputs": [
    {
     "data": {
      "text/plain": [
       "-11.999726778529322"
      ]
     },
     "execution_count": 13,
     "metadata": {},
     "output_type": "execute_result"
    }
   ],
   "source": [
    "# BDMS likelihood by hand.\n",
    "# The likelihood is the probability that no BDM event happens along this branch (ie. one would've happened after sample time),\n",
    "# times the probability of being sampled\n",
    "Λ = lambda x: λ(x) + μ(x) + γ(x)\n",
    "\n",
    "log_hazard_exp(event.dist, Λ(event)) + log(ρ)\n"
   ]
  },
  {
   "cell_type": "code",
   "execution_count": 18,
   "metadata": {},
   "outputs": [
    {
     "data": {
      "text/plain": [
       "-11.999727487564087"
      ]
     },
     "execution_count": 18,
     "metadata": {},
     "output_type": "execute_result"
    }
   ],
   "source": [
    "# MTBD likelihood by hand (eq'n 6)\n",
    "\n",
    "Λ = lambda x: λ(x) + μ(x) + γ(x)\n",
    "\n",
    "def log_f_N(event):\n",
    "    c = sqrt(Λ(event)**2 - 4 * μ(event) * (1 - σ) * λ(event))\n",
    "    x = (-Λ(event) - c) / 2\n",
    "    y = (-Λ(event) + c) / 2\n",
    "\n",
    "    helper = lambda t:  (y + λ(event) * (1 - ρ)) * exp(-c * t) - x - λ(event) * (1 - ρ)\n",
    "\n",
    "    present_time = max([node.t for node in tree.get_leaves()])\n",
    "    t_s = present_time - (event.t - event.dist)\n",
    "    t_e = present_time - event.t\n",
    "\n",
    "    return c * (t_e - t_s) + 2 * ( log(helper(t_e)) - log(helper(t_s)) )\n",
    "\n",
    "\n",
    "log_f_N(event) + log(ρ)"
   ]
  },
  {
   "cell_type": "markdown",
   "metadata": {},
   "source": [
    "## Single edge dying and being sampled"
   ]
  },
  {
   "cell_type": "code",
   "execution_count": 19,
   "metadata": {},
   "outputs": [
    {
     "name": "stdout",
     "output_type": "stream",
     "text": [
      "\n",
      "-- /-0\n"
     ]
    }
   ],
   "source": [
    "tree  = bdms.TreeNode(x = 10)\n",
    "event = add_event(tree, DEATH, edge_length = 3)\n",
    "\n",
    "print(tree)"
   ]
  },
  {
   "cell_type": "code",
   "execution_count": 21,
   "metadata": {},
   "outputs": [
    {
     "data": {
      "text/plain": [
       "-11.999727249145508"
      ]
     },
     "execution_count": 21,
     "metadata": {},
     "output_type": "execute_result"
    }
   ],
   "source": [
    "# BDMS likelihood by code\n",
    "λ = responses.SigmoidResponse()\n",
    "μ = responses.ConstantResponse(1)\n",
    "γ = responses.ConstantResponse(1)\n",
    "ρ = 1\n",
    "σ = 1\n",
    "\n",
    "tree._sampled = True # We do this ourselves\n",
    "\n",
    "m = model.BdmsModel([tree],\n",
    "    death_rate = μ,\n",
    "    mutation_rate = γ,\n",
    "    mutator = None,\n",
    "    sampling_probability = ρ\n",
    ")\n",
    "\n",
    "m.log_likelihood(birth_rate = λ).item()"
   ]
  },
  {
   "cell_type": "code",
   "execution_count": 22,
   "metadata": {},
   "outputs": [
    {
     "data": {
      "text/plain": [
       "-11.999726778529322"
      ]
     },
     "execution_count": 22,
     "metadata": {},
     "output_type": "execute_result"
    }
   ],
   "source": [
    "# BDMS likelihood by hand.\n",
    "# The likelihood is the probability that no BDM event happens along this branch (ie. one would've happened after sample time),\n",
    "# times the probability of being sampled\n",
    "Λ = lambda x: λ(x) + μ(x) + γ(x)\n",
    "\n",
    "log_dexp(event.dist, Λ(event)) + (log(μ(event)) - log(Λ(event)))"
   ]
  },
  {
   "cell_type": "code",
   "execution_count": 23,
   "metadata": {},
   "outputs": [
    {
     "data": {
      "text/plain": [
       "-11.999727487564087"
      ]
     },
     "execution_count": 23,
     "metadata": {},
     "output_type": "execute_result"
    }
   ],
   "source": [
    "# MTBD likelihood by hand (eq'n 6)\n",
    "\n",
    "Λ = lambda x: λ(x) + μ(x) + γ(x)\n",
    "\n",
    "def log_f_N(event):\n",
    "    c = sqrt(Λ(event)**2 - 4 * μ(event) * (1 - σ) * λ(event))\n",
    "    x = (-Λ(event) - c) / 2\n",
    "    y = (-Λ(event) + c) / 2\n",
    "\n",
    "    helper = lambda t:  (y + λ(event) * (1 - ρ)) * exp(-c * t) - x - λ(event) * (1 - ρ)\n",
    "\n",
    "    present_time = max([node.t for node in tree.get_leaves()])\n",
    "    t_s = present_time - (event.t - event.dist)\n",
    "    t_e = present_time - event.t\n",
    "\n",
    "    return c * (t_e - t_s) + 2 * ( log(helper(t_e)) - log(helper(t_s)) )\n",
    "\n",
    "\n",
    "log_f_N(event) + log(σ) + log(μ(event))"
   ]
  },
  {
   "cell_type": "markdown",
   "metadata": {},
   "source": [
    "## Edge with a type change, then eventually sampled"
   ]
  },
  {
   "cell_type": "code",
   "execution_count": 24,
   "metadata": {},
   "outputs": [
    {
     "name": "stdout",
     "output_type": "stream",
     "text": [
      "\n",
      "-- /- /-0\n"
     ]
    }
   ],
   "source": [
    "mutator = mutators.GaussianMutator(-1, 1)\n",
    "\n",
    "tree    = bdms.TreeNode(x = 10)\n",
    "m_event = add_event(tree, MUTATION, edge_length = 3)\n",
    "mutator.mutate(m_event)\n",
    "s_event = add_event(m_event, SAMPLED_SURVIVOR, edge_length = 4)\n",
    "\n",
    "print(tree)"
   ]
  },
  {
   "cell_type": "code",
   "execution_count": 25,
   "metadata": {},
   "outputs": [
    {
     "data": {
      "text/plain": [
       "-29.020896911621094"
      ]
     },
     "execution_count": 25,
     "metadata": {},
     "output_type": "execute_result"
    }
   ],
   "source": [
    "# BDMS likelihood by code\n",
    "λ = responses.SigmoidResponse()\n",
    "μ = responses.ConstantResponse(1)\n",
    "γ = responses.ConstantResponse(1)\n",
    "ρ = 1\n",
    "σ = 1\n",
    "\n",
    "tree._sampled = True\n",
    "\n",
    "m = model.BdmsModel([tree],\n",
    "    death_rate = μ,\n",
    "    mutation_rate = γ,\n",
    "    mutator = mutator,\n",
    "    sampling_probability = ρ\n",
    ")\n",
    "\n",
    "m.log_likelihood(birth_rate = λ).item()"
   ]
  },
  {
   "cell_type": "code",
   "execution_count": 26,
   "metadata": {},
   "outputs": [
    {
     "data": {
      "text/plain": [
       "-29.020700177600865"
      ]
     },
     "execution_count": 26,
     "metadata": {},
     "output_type": "execute_result"
    }
   ],
   "source": [
    "# BDMS likelihood by hand.\n",
    "# The likelihood is the probability of mutating after the given time\n",
    "# (which is probability to any event, times probability the event is a mutation),\n",
    "# times the probability of the specific mutation that occurred,\n",
    "# times the likelihood as derived in \"Single edge to sample time\"\n",
    "Λ = lambda x: λ(x) + μ(x) + γ(x)\n",
    "\n",
    "(\n",
    "    log_dexp(m_event.dist, Λ(m_event)) + (log(γ(m_event)) - log(Λ(m_event)))\n",
    "    + mutator.logprob(tree, m_event)\n",
    "    + log_hazard_exp(s_event.dist, Λ(s_event)) + log(ρ)\n",
    ")"
   ]
  },
  {
   "cell_type": "code",
   "execution_count": 28,
   "metadata": {},
   "outputs": [
    {
     "data": {
      "text/plain": [
       "-29.020700134533033"
      ]
     },
     "execution_count": 28,
     "metadata": {},
     "output_type": "execute_result"
    }
   ],
   "source": [
    "# MTBD likelihood by hand (eq'n 6)\n",
    "\n",
    "def log_f_N(event):\n",
    "    c = sqrt(Λ(event)**2 - 4 * μ(event) * (1 - σ) * λ(event))\n",
    "    x = (-Λ(event) - c) / 2\n",
    "    y = (-Λ(event) + c) / 2\n",
    "\n",
    "    helper = lambda t:  (y + λ(event) * (1 - ρ)) * exp(-c * t) - x - λ(event) * (1 - ρ)\n",
    "\n",
    "    present_time = max([node.t for node in tree.get_leaves()])\n",
    "    t_s = present_time - (event.t - event.dist)\n",
    "    t_e = present_time - event.t\n",
    "\n",
    "    return c * (t_e - t_s) + 2 * ( log(helper(t_e)) - log(helper(t_s)) )\n",
    "\n",
    "\n",
    "(\n",
    "    log_f_N(m_event) + log_f_N(s_event)\n",
    "    + log(γ(m_event)) + mutator.logprob(tree, m_event)\n",
    "    + log(ρ)\n",
    ")"
   ]
  },
  {
   "cell_type": "markdown",
   "metadata": {},
   "source": [
    "## A bifurcation with both children sampled"
   ]
  },
  {
   "cell_type": "code",
   "execution_count": 29,
   "metadata": {},
   "outputs": [
    {
     "name": "stdout",
     "output_type": "stream",
     "text": [
      "\n",
      "      /-0\n",
      "-- /-|\n",
      "      \\-0\n"
     ]
    }
   ],
   "source": [
    "tree    = bdms.TreeNode(x = 10)\n",
    "b_event = add_event(tree, BIRTH, edge_length = 3)\n",
    "\n",
    "s_events = []\n",
    "\n",
    "for i in range(bdms.TreeNode._OFFSPRING_NUMBER):\n",
    "    s_events.append(\n",
    "        add_event(b_event, SAMPLED_SURVIVOR, edge_length = 3 + i)\n",
    "    )\n",
    "\n",
    "print(tree)"
   ]
  },
  {
   "cell_type": "code",
   "execution_count": 31,
   "metadata": {},
   "outputs": [
    {
     "data": {
      "text/plain": [
       "-39.30598831176758"
      ]
     },
     "execution_count": 31,
     "metadata": {},
     "output_type": "execute_result"
    }
   ],
   "source": [
    "# BDMS likelihood by code\n",
    "λ = responses.SigmoidResponse()\n",
    "μ = responses.ConstantResponse(1)\n",
    "γ = responses.ConstantResponse(1)\n",
    "ρ = 1\n",
    "σ = 1\n",
    "\n",
    "tree._sampled = True\n",
    "\n",
    "m = model.BdmsModel([tree],\n",
    "    death_rate = μ,\n",
    "    mutation_rate = γ,\n",
    "    mutator = mutator,\n",
    "    sampling_probability = ρ\n",
    ")\n",
    "\n",
    "m.log_likelihood(birth_rate = λ).item()"
   ]
  },
  {
   "cell_type": "code",
   "execution_count": 32,
   "metadata": {},
   "outputs": [
    {
     "data": {
      "text/plain": [
       "-39.30598749803913"
      ]
     },
     "execution_count": 32,
     "metadata": {},
     "output_type": "execute_result"
    }
   ],
   "source": [
    "# BDMS likelihood by hand.\n",
    "# The likelihood is the probability of birthing after the given time\n",
    "# (which is probability to any event, times probability the event is a birth),\n",
    "# times the likelihood as derived in \"Single edge to sample time\", once for each child\n",
    "Λ = lambda x: λ(x) + μ(x) + γ(x)\n",
    "\n",
    "(\n",
    "    log_dexp(b_event.dist, Λ(b_event)) + (log(λ(b_event)) - log(Λ(b_event)))\n",
    "    + log_hazard_exp(s_events[0].dist, Λ(s_events[0])) + log(ρ)\n",
    "    + log_hazard_exp(s_events[1].dist, Λ(s_events[1])) + log(ρ)\n",
    ")"
   ]
  },
  {
   "cell_type": "code",
   "execution_count": 33,
   "metadata": {},
   "outputs": [
    {
     "data": {
      "text/plain": [
       "-39.30598986148834"
      ]
     },
     "execution_count": 33,
     "metadata": {},
     "output_type": "execute_result"
    }
   ],
   "source": [
    "# MTBD likelihood by hand (eq'n 6)\n",
    "\n",
    "def log_f_N(event):\n",
    "    c = sqrt(Λ(event)**2 - 4 * μ(event) * (1 - σ) * λ(event))\n",
    "    x = (-Λ(event) - c) / 2\n",
    "    y = (-Λ(event) + c) / 2\n",
    "\n",
    "    helper = lambda t:  (y + λ(event) * (1 - ρ)) * exp(-c * t) - x - λ(event) * (1 - ρ)\n",
    "\n",
    "    present_time = max([node.t for node in tree.get_leaves()])\n",
    "    t_s = present_time - (event.t - event.dist)\n",
    "    t_e = present_time - event.t\n",
    "\n",
    "    return c * (t_e - t_s) + 2 * ( log(helper(t_e)) - log(helper(t_s)) )\n",
    "\n",
    "\n",
    "(\n",
    "    log_f_N(b_event) + log_f_N(s_events[0]) + log_f_N(s_events[1])\n",
    "    + log(λ(b_event)) #+ log(b_event.t)\n",
    "    + 2 * log(ρ)\n",
    ")"
   ]
  }
 ],
 "metadata": {
  "kernelspec": {
   "display_name": "Python 3.9.15 ('.venv': venv)",
   "language": "python",
   "name": "python3"
  },
  "language_info": {
   "codemirror_mode": {
    "name": "ipython",
    "version": 3
   },
   "file_extension": ".py",
   "mimetype": "text/x-python",
   "name": "python",
   "nbconvert_exporter": "python",
   "pygments_lexer": "ipython3",
   "version": "3.9.15"
  },
  "orig_nbformat": 4,
  "vscode": {
   "interpreter": {
    "hash": "ea3d934265a8e15afda8202ee9472c945ee245e0dfce204eaaaf8ab2c26aca35"
   }
  }
 },
 "nbformat": 4,
 "nbformat_minor": 2
}
