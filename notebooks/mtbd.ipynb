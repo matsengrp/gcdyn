{
 "cells": [
  {
   "cell_type": "code",
   "execution_count": 1,
   "metadata": {},
   "outputs": [],
   "source": [
    "import numpy as np\n",
    "import pandas as pd"
   ]
  },
  {
   "cell_type": "markdown",
   "metadata": {},
   "source": [
    "<img src=\"https://i.imgur.com/TA2wXuV.png\" alt=\"drawing\" width=\"500\"/>"
   ]
  },
  {
   "cell_type": "markdown",
   "metadata": {},
   "source": [
    "$\\newcommand{\\bi}{\\lambda_i(1-\\rho)}$\n",
    "$\\newcommand{\\si}{(\\gamma +\\lambda_i + \\mu_i)}$\n",
    "$$\n",
    "p_i(t) = - \\frac{1}{\\lambda_i} \\frac{(y_i + \\bi)x_i e^{-ct} - y_i(x_i + \\lambda_i(1-\\rho))}{(y_i + \\bi) e^{-ct} - (x_i + \\lambda_i(1-\\rho))}\n",
    "$$\n",
    "$$\n",
    "\\begin{align*}\n",
    "c & = \\sqrt{\\si^2 - 4 \\mu_i(1-\\sigma)\\lambda_i} \\\\\n",
    "x_i & = \\frac{-\\si - c}{2} \\\\\n",
    "y_i & = \\frac{-\\si + c}{2}\n",
    "\\end{align*}\n",
    "$$\n"
   ]
  },
  {
   "cell_type": "code",
   "execution_count": 2,
   "metadata": {},
   "outputs": [],
   "source": [
    "from math import exp, sqrt\n",
    "\n",
    "def prob_extinct(γ, λ_i, μ_i, σ, ρ):\n",
    "    b_i = λ_i*(1-ρ)\n",
    "    s_i = γ + λ_i + μ_i\n",
    "\n",
    "    c = sqrt(s_i**2 - 4 * μ_i*(1-σ)*λ_i)\n",
    "    x_i = (-s_i - c)/2\n",
    "    y_i = (-s_i + c)/2\n",
    "\n",
    "    return lambda t: - (1/λ_i) * ((y_i + b_i)*x_i * exp(-c*t) - y_i * (x_i + λ_i*(1-ρ)))/((y_i + b_i) * exp(-c*t) - (x_i + λ_i*(1-ρ)))\n",
    "\n"
   ]
  },
  {
   "cell_type": "code",
   "execution_count": 3,
   "metadata": {},
   "outputs": [
    {
     "data": {
      "text/plain": [
       "0.3657340698942307"
      ]
     },
     "execution_count": 3,
     "metadata": {},
     "output_type": "execute_result"
    }
   ],
   "source": [
    "px = prob_extinct(γ=1, λ_i=4, μ_i=3, σ=0.2, ρ=1)\n",
    "px(1)"
   ]
  },
  {
   "cell_type": "code",
   "execution_count": 4,
   "metadata": {},
   "outputs": [
    {
     "data": {
      "text/plain": [
       "<AxesSubplot:xlabel='t'>"
      ]
     },
     "execution_count": 4,
     "metadata": {},
     "output_type": "execute_result"
    },
    {
     "data": {
      "image/png": "[encoded data removed]",
      "text/plain": [
       "<Figure size 432x288 with 1 Axes>"
      ]
     },
     "metadata": {
      "needs_background": "light"
     },
     "output_type": "display_data"
    }
   ],
   "source": [
    "df = pd.DataFrame({\"t\": np.linspace(0,1)})\n",
    "for σ in np.linspace(0, 1, 5):\n",
    "    px = prob_extinct(γ=1, λ_i=4, μ_i=3, σ=σ, ρ=1)\n",
    "    df[f\"{σ=}\"] = df[\"t\"].apply(px)\n",
    "df.set_index(\"t\",inplace=True)\n",
    "df.plot()"
   ]
  },
  {
   "cell_type": "code",
   "execution_count": null,
   "metadata": {},
   "outputs": [],
   "source": []
  }
 ],
 "metadata": {
  "kernelspec": {
   "display_name": "Python 3.9.12 ('gcdyn')",
   "language": "python",
   "name": "python3"
  },
  "language_info": {
   "codemirror_mode": {
    "name": "ipython",
    "version": 3
   },
   "file_extension": ".py",
   "mimetype": "text/x-python",
   "name": "python",
   "nbconvert_exporter": "python",
   "pygments_lexer": "ipython3",
   "version": "3.9.12"
  },
  "orig_nbformat": 4,
  "vscode": {
   "interpreter": {
    "hash": "0aeb9a0038d37b4d7b9737a0147a9994afd42525c9808fb26348a5dc953633f8"
   }
  }
 },
 "nbformat": 4,
 "nbformat_minor": 2
}
