{
 "cells": [
  {
   "cell_type": "markdown",
   "id": "fc0f95c8",
   "metadata": {
    "pycharm": {
     "name": "#%% md\n"
    }
   },
   "source": [
    "Creating ReplayPhenotype and Fitness objects"
   ]
  },
  {
   "cell_type": "code",
   "execution_count": 1,
   "id": "b6ad4732",
   "metadata": {
    "pycharm": {
     "name": "#%%\n"
    }
   },
   "outputs": [],
   "source": [
    "from gcdyn.fitness import Fitness\n",
    "from gcdyn.replay import DMSPhenotype\n",
    "from Bio import SeqIO"
   ]
  },
  {
   "cell_type": "code",
   "execution_count": 2,
   "outputs": [],
   "source": [
    "replay_phenotype = DMSPhenotype(\n",
    "    1,\n",
    "    1,\n",
    "    336,\n",
    "    \"https://raw.githubusercontent.com/jbloomlab/Ab-CGGnaive_DMS/main/data/CGGnaive_sites.csv\",\n",
    "    \"Linear.model\",\n",
    "    [\"delta_log10_KD\", \"expression\"],\n",
    "    -10.43,\n",
    ")\n",
    "\n",
    "\n",
    "fasta_path = \"gcreplay_samples/gctree_PR1.3-1-LB-16-GC.fasta\"\n",
    "seqs = [\n",
    "    str(seq_record.seq)\n",
    "    for seq_record in SeqIO.parse(fasta_path, \"fasta\")\n",
    "    if seq_record.id != \"naive\"\n",
    "]\n",
    "\n",
    "fit = Fitness(Fitness.sigmoidal_fitness)\n",
    "fitness_df = fit.normalized_fitness_df(seqs, calculate_KD=replay_phenotype.calculate_KD)"
   ],
   "metadata": {
    "collapsed": false,
    "pycharm": {
     "name": "#%%\n"
    }
   }
  },
  {
   "cell_type": "markdown",
   "source": [
    "Testing different antigen concentrations vs antigen bound"
   ],
   "metadata": {
    "collapsed": false,
    "pycharm": {
     "name": "#%% md\n"
    }
   }
  },
  {
   "cell_type": "code",
   "execution_count": null,
   "outputs": [],
   "source": [
    "import pandas as pd\n",
    "from plotnine import ggplot, geom_histogram, aes, facet_wrap, ggtitle, xlim, ylim\n",
    "\n",
    "antigen_bound_fracs = []\n",
    "concentrations = []\n",
    "\n",
    "\n",
    "def frac_antigen_bound(\n",
    "    sequence_KDs: list[float], concentration_antigen: int\n",
    ") -> list[float]:\n",
    "    thetas = []\n",
    "    for seq_KD in sequence_KDs:\n",
    "        theta = concentration_antigen / (seq_KD + concentration_antigen)\n",
    "        thetas.append(theta)\n",
    "    return thetas\n",
    "\n",
    "\n",
    "for c in range(6, 11):  # concentration of antigen from 10^-6 to 10^-10\n",
    "    concentration_antigen = 10 ** (-1 * c)\n",
    "    fit = Fitness(Fitness.sigmoidal_fitness, concentration_antigen)\n",
    "    antigen_bound_fracs.extend(\n",
    "        frac_antigen_bound(fitness_df[\"KD\"], concentration_antigen)\n",
    "    )\n",
    "    concentrations.extend([concentration_antigen] * len(fitness_df[\"KD\"]))\n",
    "\n",
    "antigen_bound_df = pd.DataFrame(\n",
    "    {\"concentration_antigen\": concentrations, \"frac_antigen_bound\": antigen_bound_fracs}\n",
    ")\n",
    "\n",
    "(\n",
    "    ggplot(antigen_bound_df)\n",
    "    + facet_wrap(facets=\"~concentration_antigen\")\n",
    "    + aes(x=\"frac_antigen_bound\", color=\"factor(concentration_antigen)\")\n",
    "    + geom_histogram(binwidth=0.05)\n",
    "    + xlim(0, 1.05)\n",
    ")"
   ],
   "metadata": {
    "collapsed": false,
    "pycharm": {
     "name": "#%%\n"
    }
   }
  },
  {
   "cell_type": "markdown",
   "source": [
    "Mapping to fitness (sigmoidal)"
   ],
   "metadata": {
    "collapsed": false,
    "pycharm": {
     "name": "#%% md\n"
    }
   }
  },
  {
   "cell_type": "code",
   "execution_count": null,
   "outputs": [],
   "source": [
    "from plotnine import geom_point\n",
    "\n",
    "fitness_df[\"frac_antigen_bound\"] = frac_antigen_bound(fitness_df[\"KD\"], 10**-9)\n",
    "ggplot(fitness_df) + aes(x=\"frac_antigen_bound\", y=\"t_cell_help\") + geom_point()"
   ],
   "metadata": {
    "collapsed": false,
    "pycharm": {
     "name": "#%%\n"
    }
   }
  },
  {
   "cell_type": "markdown",
   "source": [
    "Normalized fitness (T cell help)"
   ],
   "metadata": {
    "collapsed": false,
    "pycharm": {
     "name": "#%% md\n"
    }
   }
  },
  {
   "cell_type": "code",
   "execution_count": null,
   "outputs": [],
   "source": [
    "(\n",
    "    ggplot(fitness_df)\n",
    "    + aes(x=\"frac_antigen_bound\", y=\"normalized_t_cell_help\")\n",
    "    + geom_point()\n",
    ")"
   ],
   "metadata": {
    "collapsed": false,
    "pycharm": {
     "name": "#%%\n"
    }
   }
  },
  {
   "cell_type": "markdown",
   "source": [
    "Map to fitness (linear)"
   ],
   "metadata": {
    "collapsed": false,
    "pycharm": {
     "name": "#%% md\n"
    }
   }
  },
  {
   "cell_type": "code",
   "execution_count": null,
   "outputs": [],
   "source": [
    "linfit = Fitness(Fitness.linear_fitness)\n",
    "linfit_fitness_df = linfit.normalized_fitness_df(\n",
    "    seqs, calculate_KD=replay_phenotype.calculate_KD\n",
    ")\n",
    "linfit_fitness_df[\"frac_antigen_bound\"] = frac_antigen_bound(\n",
    "    linfit_fitness_df[\"KD\"], 10**-9\n",
    ")\n",
    "ggplot(linfit_fitness_df) + aes(x=\"frac_antigen_bound\", y=\"t_cell_help\") + geom_point()"
   ],
   "metadata": {
    "collapsed": false,
    "pycharm": {
     "name": "#%%\n"
    }
   }
  },
  {
   "cell_type": "code",
   "execution_count": null,
   "outputs": [],
   "source": [
    "# map normalized fitness linearly to number of cell divisions\n",
    "test_cell_divs = linfit.cell_divisions_from_tfh_linear(\n",
    "    linfit_fitness_df[\"normalized_t_cell_help\"], 200\n",
    ")\n",
    "linfit_fitness_df[\"cell_divs\"] = test_cell_divs\n",
    "ggplot(linfit_fitness_df) + aes(x=\"frac_antigen_bound\", y=\"cell_divs\") + geom_point()"
   ],
   "metadata": {
    "collapsed": false,
    "pycharm": {
     "name": "#%%\n"
    }
   }
  },
  {
   "cell_type": "markdown",
   "source": [
    "Uniform fitness"
   ],
   "metadata": {
    "collapsed": false,
    "pycharm": {
     "name": "#%% md\n"
    }
   }
  },
  {
   "cell_type": "code",
   "execution_count": null,
   "outputs": [],
   "source": [
    "uniform_fit = Fitness(Fitness.uniform_fitness)\n",
    "uniform_fitness_df = uniform_fit.normalized_fitness_df(\n",
    "    seqs, calculate_KD=replay_phenotype.calculate_KD\n",
    ")\n",
    "uniform_fitness_df[\"frac_antigen_bound\"] = frac_antigen_bound(\n",
    "    uniform_fitness_df[\"KD\"], 10**-9\n",
    ")\n",
    "(\n",
    "    ggplot(uniform_fitness_df)\n",
    "    + aes(x=\"frac_antigen_bound\", y=\"normalized_t_cell_help\")\n",
    "    + geom_point()\n",
    ")"
   ],
   "metadata": {
    "collapsed": false,
    "pycharm": {
     "name": "#%%\n"
    }
   }
  }
 ],
 "metadata": {
  "kernelspec": {
   "display_name": "Python 3 (ipykernel)",
   "language": "python",
   "name": "python3"
  },
  "language_info": {
   "codemirror_mode": {
    "name": "ipython",
    "version": 3
   },
   "file_extension": ".py",
   "mimetype": "text/x-python",
   "name": "python",
   "nbconvert_exporter": "python",
   "pygments_lexer": "ipython3",
   "version": "3.9.12"
  }
 },
 "nbformat": 4,
 "nbformat_minor": 5
}