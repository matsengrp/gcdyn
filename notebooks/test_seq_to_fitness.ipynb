{
 "cells": [
  {
   "cell_type": "markdown",
   "id": "fc0f95c8",
   "metadata": {},
   "source": [
    "1. Loading a torchdms model from a file:"
   ]
  },
  {
   "cell_type": "code",
   "execution_count": 5,
   "id": "9a0bb591",
   "metadata": {},
   "outputs": [],
   "source": [
    "import torch\n",
    "\n",
    "def load_model(model_path: str):\n",
    "    model = torch.load(model_path)\n",
    "    return model\n",
    "\n",
    "model_path = \"Linear.model\"\n",
    "\n",
    "torchdms_model = load_model(model_path)"
   ]
  },
  {
   "cell_type": "markdown",
   "id": "fbaf3b79",
   "metadata": {},
   "source": [
    "2. Evaluating phenotype from the model using input sequences (and labeling)"
   ]
  },
  {
   "cell_type": "code",
   "execution_count": 6,
   "id": "e5f7158c",
   "metadata": {},
   "outputs": [],
   "source": [
    "import pandas, csv\n",
    "from Bio import SeqIO\n",
    "\n",
    "# take in FASTA file of DMS sequences and translate to amino acid sequences (excluding naive)\n",
    "def get_aa_seqs_from_fasta(fasta_path: str):\n",
    "    aa_seqs = []\n",
    "    for record in SeqIO.parse(fasta_path, 'fasta'):\n",
    "        if record.id.lower() != 'naive':\n",
    "            aa_seq = record.seq.translate()\n",
    "            aa_seqs.append(str(aa_seq))\n",
    "    return aa_seqs\n",
    "\n",
    "# take in csv file of DMS sequences (excluding naive)\n",
    "def get_aa_seqs_from_csv(csv_path: str):\n",
    "    aa_seqs = []\n",
    "    with open(csv_path, 'r') as F:\n",
    "        reader = csv.DictReader(F)\n",
    "        for row in reader:\n",
    "            if str(row['name']).lower() != 'naive':\n",
    "                aa_seqs.append(row['aa_sequence'])\n",
    "    return aa_seqs\n",
    "\n",
    "# evaluate sequences using torchdms model and return the evaluation as a pandas dataframe\n",
    "def evaluate(torchdms_model, seqs: list[str], phenotype_names: list[str]):\n",
    "    aa_seq_one_hot = torch.stack([torchdms_model.seq_to_binary(seq) for seq in seqs])\n",
    "    try:\n",
    "        labeled_evaluation = pandas.DataFrame(torchdms_model(aa_seq_one_hot).detach().numpy(), columns=phenotype_names)\n",
    "    except ValueError:\n",
    "        print(\"Incorrect number of column labels for phenotype data\")\n",
    "    return labeled_evaluation\n",
    "\n",
    "seqs = get_aa_seqs_from_csv('gctree-node-data.csv')\n",
    "\n",
    "phenotype_evaluation = evaluate(torchdms_model, seqs, ['delta_log10_KD', 'expression'])"
   ]
  },
  {
   "cell_type": "markdown",
   "id": "761f31e2",
   "metadata": {},
   "source": [
    "3. Infer fitness by calculating the fraction of antigen bound\n",
    "Uses Hill equation to infer fraction of antibodies that have antigen bound (theta)"
   ]
  },
  {
   "cell_type": "code",
   "execution_count": 9,
   "id": "110d2b4a",
   "metadata": {},
   "outputs": [
    {
     "data": {
      "image/png": "[encoded data removed]",
      "text/plain": [
       "<Figure size 432x288 with 1 Axes>"
      ]
     },
     "metadata": {
      "needs_background": "light"
     },
     "output_type": "display_data"
    }
   ],
   "source": [
    "import matplotlib.pyplot as plt\n",
    "import numpy\n",
    "\n",
    "def get_frac_antigen_bound(delta_log10_KD: float, log10_naive_KD: float, concentration_antigen: float):\n",
    "    log10_KD  = delta_log10_KD + log10_naive_KD\n",
    "    KD = 10**log10_KD\n",
    "    # Hill equation with n = 1:\n",
    "    theta = concentration_antigen/(KD + concentration_antigen)\n",
    "    return theta\n",
    "\n",
    "log10_naive_KD = -10.43\n",
    "\n",
    "plt.figure()\n",
    "for c in range(6,11): # concentration of antigen from 10^-6 to 10^-10\n",
    "    concentration_antigen = 10**(-1*c)\n",
    "    antigen_bound_fracs = []\n",
    "    for delta_log10_KD in phenotype_evaluation['delta_log10_KD']:\n",
    "        antigen_bound_fracs.append(get_frac_antigen_bound(delta_log10_KD, log10_naive_KD, concentration_antigen))\n",
    "    plt.hist(antigen_bound_fracs, alpha=0.5, label=str(concentration_antigen), bins=numpy.arange(0, 1.001, .001))\n",
    "\n",
    "plt.yscale(\"log\")\n",
    "plt.xlabel(\"Fraction antigen bound\")\n",
    "plt.ylabel(\"Sample count\")\n",
    "plt.legend()\n",
    "plt.show()"
   ]
  },
  {
   "cell_type": "code",
   "execution_count": null,
   "id": "bcd57e05",
   "metadata": {},
   "outputs": [],
   "source": []
  }
 ],
 "metadata": {
  "kernelspec": {
   "display_name": "Python 3 (ipykernel)",
   "language": "python",
   "name": "python3"
  },
  "language_info": {
   "codemirror_mode": {
    "name": "ipython",
    "version": 3
   },
   "file_extension": ".py",
   "mimetype": "text/x-python",
   "name": "python",
   "nbconvert_exporter": "python",
   "pygments_lexer": "ipython3",
   "version": "3.9.12"
  }
 },
 "nbformat": 4,
 "nbformat_minor": 5
}
