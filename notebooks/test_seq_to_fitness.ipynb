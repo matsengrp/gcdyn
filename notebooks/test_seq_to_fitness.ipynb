{
 "cells": [
  {
   "cell_type": "markdown",
   "id": "fc0f95c8",
   "metadata": {},
   "source": [
    "1. Loading a torchdms model from a file:\n",
    "\n",
    "This requires torchdms"
   ]
  },
  {
   "cell_type": "code",
   "execution_count": 3,
   "id": "9a0bb591",
   "metadata": {},
   "outputs": [],
   "source": [
    "import torch\n",
    "\n",
    "def load_model(model_path: str):\n",
    "    model = torch.load(model_path)\n",
    "    return model\n",
    "\n",
    "model_path = \"Linear.model\"\n",
    "\n",
    "torchdms_model = load_model(model_path)"
   ]
  },
  {
   "cell_type": "markdown",
   "id": "fbaf3b79",
   "metadata": {},
   "source": [
    "2. Evaluating phenotype from the model using input sequences (and labeling)"
   ]
  },
  {
   "cell_type": "code",
   "execution_count": 33,
   "id": "e5f7158c",
   "metadata": {},
   "outputs": [],
   "source": [
    "import pandas as pd, csv\n",
    "from Bio import SeqIO\n",
    "from Bio.Seq import Seq\n",
    "\n",
    "# take in csv file of DMS sequences (excluding naive)\n",
    "def aa_seqs_from_csv(csv_path: str):\n",
    "    aa_seqs = []\n",
    "    with open(csv_path, 'r') as F:\n",
    "        reader = csv.DictReader(F)\n",
    "        for row in reader:\n",
    "            if str(row['name']).lower() != 'naive':\n",
    "                aa_seqs.append(row['aa_sequence'])\n",
    "    return aa_seqs\n",
    "\n",
    "\n",
    "def fasta_to_df(f):\n",
    "    \"\"\"simply convert a fasta to dataframe\"\"\"\n",
    "\n",
    "    ids, seqs = [], []\n",
    "    with open(f) as fasta_file:\n",
    "        for seq_record in SeqIO.parse(fasta_file, 'fasta'):  # (generator)\n",
    "            if str(seq_record.id) != 'naive':\n",
    "                ids.append(seq_record.id)\n",
    "                seqs.append(str(seq_record.seq))\n",
    "    return pd.DataFrame({\"id\":ids, \"seq\":seqs})\n",
    "\n",
    "\n",
    "def aa(sequence, frame):\n",
    "    \"\"\"Amino acid translation of nucleotide sequence in frame 1, 2, or 3.\"\"\"\n",
    "    return Seq(\n",
    "        sequence[(frame - 1): (frame - 1\n",
    "                               + (3 * ((len(sequence) - (frame - 1)) // 3)))]\n",
    "    ).translate()\n",
    "\n",
    "igh_frame = 1\n",
    "igk_frame = 1\n",
    "igk_idx = 336\n",
    "naive_sites_path = \"https://raw.githubusercontent.com/jbloomlab/Ab-CGGnaive_DMS/main/data/CGGnaive_sites.csv\"\n",
    "\n",
    "# collect the correct sites df from tylers repo\n",
    "pos_df = pd.read_csv(\n",
    "        naive_sites_path,\n",
    "        dtype=dict(site=pd.Int16Dtype()),\n",
    "        index_col=\"site_scFv\",\n",
    "    )\n",
    "\n",
    "# evaluate sequences using torchdms model and return the evaluation as a pandas dataframe\n",
    "def evaluate(torchdms_model, seqs: list[str], phenotype_names: list[str]):\n",
    "    aa_seq_one_hot = torch.stack([torchdms_model.seq_to_binary(seq) for seq in seqs])\n",
    "    try:\n",
    "        labeled_evaluation = pandas.DataFrame(torchdms_model(aa_seq_one_hot).detach().numpy(), columns=phenotype_names)\n",
    "    except ValueError:\n",
    "        print(\"Incorrect number of column labels for phenotype data\")\n",
    "    return labeled_evaluation\n",
    "\n",
    "# load the seqs from a fasta\n",
    "seqs_df = fasta_to_df(\"sample.fasta\")\n",
    "\n",
    "# Well make a prediction for each of the observed sequences\n",
    "for idx, row in seqs_df.iterrows():\n",
    "\n",
    "    # translate heavy and light chains\n",
    "    igh_aa = aa(row.seq[:igk_idx], igh_frame)\n",
    "    igk_aa = aa(row.seq[igk_idx:], igk_frame)\n",
    "\n",
    "    # Make the aa seq for tdms\n",
    "    aa_tdms = pos_df.amino_acid.copy()\n",
    "    aa_tdms.iloc[pos_df.chain == \"H\"] = igh_aa\n",
    "    # note: replay light chains are shorter than dms seq by one aa\n",
    "    aa_tdms.iloc[(pos_df.chain == \"L\") & (pos_df.index < pos_df.index[-1])] = igk_aa\n",
    "    aa_tdms_seq = \"\".join(aa_tdms)\n",
    "    seqs_df.loc[idx, \"aa_sequence\"] = aa_tdms_seq\n",
    "\n",
    "phenotype_evaluation = evaluate(torchdms_model, seqs_df[\"aa_sequence\"], ['delta_log10_KD', 'expression'])"
   ]
  },
  {
   "cell_type": "markdown",
   "id": "761f31e2",
   "metadata": {},
   "source": [
    "3. Infer fitness by calculating the fraction of antigen bound\n",
    "\n",
    "Uses Hill equation to infer fraction of antibodies that have antigen bound (theta) and plots as a histogram"
   ]
  },
  {
   "cell_type": "code",
   "execution_count": 34,
   "id": "110d2b4a",
   "metadata": {},
   "outputs": [
    {
     "name": "stderr",
     "output_type": "stream",
     "text": [
      "/Users/alyssa/miniconda3/envs/gcdyn_39/lib/python3.9/site-packages/plotnine/utils.py:371: FutureWarning: The frame.append method is deprecated and will be removed from pandas in a future version. Use pandas.concat instead.\n"
     ]
    },
    {
     "data": {
      "image/png": "[encoded data removed]",
      "text/plain": [
       "<Figure size 640x480 with 5 Axes>"
      ]
     },
     "metadata": {},
     "output_type": "display_data"
    },
    {
     "data": {
      "text/plain": [
       "<ggplot: (8791383431431)>"
      ]
     },
     "execution_count": 34,
     "metadata": {},
     "output_type": "execute_result"
    }
   ],
   "source": [
    "import matplotlib.pyplot as plt\n",
    "from plotnine import ggplot, geom_histogram, aes, facet_wrap\n",
    "import numpy\n",
    "\n",
    "def frac_antigen_bound(delta_log10_KD: float, log10_naive_KD: float, concentration_antigen: float):\n",
    "    log10_KD  = delta_log10_KD + log10_naive_KD\n",
    "    KD = 10**log10_KD\n",
    "    # Hill equation with n = 1:\n",
    "    theta = concentration_antigen/(KD + concentration_antigen)\n",
    "    return theta\n",
    "\n",
    "log10_naive_KD = -10.43\n",
    "\n",
    "antigen_bound_fracs = []\n",
    "concentrations = []\n",
    "for c in range(6,11): # concentration of antigen from 10^-6 to 10^-10\n",
    "    concentration_antigen = 10**(-1*c)\n",
    "    for delta_log10_KD in phenotype_evaluation['delta_log10_KD']:\n",
    "        antigen_bound_fracs.append(frac_antigen_bound(delta_log10_KD, log10_naive_KD, concentration_antigen))\n",
    "        concentrations.append(concentration_antigen)\n",
    "\n",
    "antigen_bound_df = pd.DataFrame({\"concentration_antigen\": concentrations, \"frac_antigen_bound\": antigen_bound_fracs})\n",
    "\n",
    "ggplot(antigen_bound_df) + facet_wrap(facets=\"~concentration_antigen\") + aes(x=\"frac_antigen_bound\") + geom_histogram(binwidth=0.05)"
   ]
  },
  {
   "cell_type": "code",
   "execution_count": null,
   "id": "ea10fc2a",
   "metadata": {},
   "outputs": [],
   "source": []
  }
 ],
 "metadata": {
  "kernelspec": {
   "display_name": "Python 3 (ipykernel)",
   "language": "python",
   "name": "python3"
  },
  "language_info": {
   "codemirror_mode": {
    "name": "ipython",
    "version": 3
   },
   "file_extension": ".py",
   "mimetype": "text/x-python",
   "name": "python",
   "nbconvert_exporter": "python",
   "pygments_lexer": "ipython3",
   "version": "3.9.12"
  }
 },
 "nbformat": 4,
 "nbformat_minor": 5
}
