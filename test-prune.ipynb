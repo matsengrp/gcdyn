{
 "cells": [
  {
   "cell_type": "code",
   "execution_count": 1,
   "id": "71a126a8",
   "metadata": {},
   "outputs": [],
   "source": [
    "import jax.numpy as np\n",
    "from jax import random\n",
    "\n",
    "from gcdyn.gc_tree import GC_tree\n",
    "from gcdyn.parameters import Parameters"
   ]
  },
  {
   "cell_type": "code",
   "execution_count": 109,
   "id": "9a19f2da",
   "metadata": {
    "scrolled": true
   },
   "outputs": [
    {
     "name": "stdout",
     "output_type": "stream",
     "text": [
      "size 91\n"
     ]
    }
   ],
   "source": [
    "T = 3\n",
    "seed = 0\n",
    "key = random.PRNGKey(seed)\n",
    "\n",
    "# response function parameters\n",
    "θ = np.array([3, 1, 0], dtype=float)\n",
    "# death rate\n",
    "μ = 1\n",
    "# mutation rate\n",
    "m = 1\n",
    "# sampling efficiency\n",
    "ρ = 0.5\n",
    "\n",
    "params = Parameters(θ, μ, m, ρ)\n",
    "\n",
    "n_trees = 10\n",
    "\n",
    "key, _ = random.split(key)\n",
    "tree = GC_tree(T, key, params)\n",
    "# tree.draw_tree()\n",
    "original_sampled = set([node for node in tree.tree.traverse() if node.event == \"sampled\"])"
   ]
  },
  {
   "cell_type": "code",
   "execution_count": 107,
   "id": "44fe3523",
   "metadata": {
    "scrolled": true
   },
   "outputs": [
    {
     "data": {
      "image/png": "[encoded data removed]",
      "text/plain": [
       "<IPython.core.display.Image object>"
      ]
     },
     "metadata": {},
     "output_type": "display_data"
    }
   ],
   "source": [
    "# select all nodes where it has descendant sampled node\n",
    "event_cache = tree.tree.get_cached_content(store_attr=\"event\")\n",
    "tree.tree.prune([node for node, events in event_cache.items() if \"sampled\" in events], preserve_branch_length=True)\n",
    "\n",
    "# select the sampled and mutation nodes -- prune method preserves additional nodes to maintain the structure\n",
    "tree.tree.prune([node for node in tree.tree.traverse()\n",
    "                 if node.event == \"sampled\" or node.event == \"mutation\"],\n",
    "                preserve_branch_length=True)\n",
    "\n",
    "# eliminate the birth node with one child\n",
    "for node in tree.tree.traverse():\n",
    "    if not node.is_leaf() and node.event == \"birth\" and len(node.children) == 1:\n",
    "            node.delete(preserve_branch_length=True)\n",
    "\n",
    "tree.draw_tree()"
   ]
  },
  {
   "cell_type": "code",
   "execution_count": 95,
   "id": "2ac32467",
   "metadata": {},
   "outputs": [
    {
     "name": "stdout",
     "output_type": "stream",
     "text": [
      "True\n",
      "True\n",
      "True\n"
     ]
    }
   ],
   "source": [
    "# tests\n",
    "print(all(node.event == \"sampled\" for node in tree.tree.traverse() if node.is_leaf()))\n",
    "print(all(len(node.children) == 2 for node in tree.tree.traverse() if node.event == \"birth\"))\n",
    "pruned_sampled = set([node for node in tree.tree.traverse() if node.event == \"sampled\"])\n",
    "print(original_sampled == pruned_sampled)"
   ]
  }
 ],
 "metadata": {
  "kernelspec": {
   "display_name": "Python 3 (ipykernel)",
   "language": "python",
   "name": "python3"
  },
  "language_info": {
   "codemirror_mode": {
    "name": "ipython",
    "version": 3
   },
   "file_extension": ".py",
   "mimetype": "text/x-python",
   "name": "python",
   "nbconvert_exporter": "python",
   "pygments_lexer": "ipython3",
   "version": "3.9.12"
  }
 },
 "nbformat": 4,
 "nbformat_minor": 5
}
