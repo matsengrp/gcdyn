{
 "cells": [
  {
   "cell_type": "code",
   "execution_count": 1,
   "id": "01afe95b",
   "metadata": {},
   "outputs": [],
   "source": [
    "import jax.numpy as np\n",
    "from jax import random\n",
    "from jax.scipy.special import expit\n",
    "import matplotlib.pyplot as plt\n",
    "\n",
    "from gcdyn.model import Model\n",
    "from gcdyn.parameters import Parameters"
   ]
  },
  {
   "cell_type": "markdown",
   "id": "412799d2",
   "metadata": {},
   "source": [
    "pruning vs. not pruning with given parameters"
   ]
  },
  {
   "cell_type": "code",
   "execution_count": 2,
   "id": "1f30b320",
   "metadata": {},
   "outputs": [
    {
     "name": "stderr",
     "output_type": "stream",
     "text": [
      "WARNING:absl:No GPU/TPU found, falling back to CPU. (Set TF_CPP_MIN_LOG_LEVEL=0 and rerun for more info.)\n"
     ]
    }
   ],
   "source": [
    "seed = 0\n",
    "\n",
    "# response function parameters\n",
    "θ = np.array([3, 1, 0, 0], dtype=float)\n",
    "# death rate\n",
    "μ = 1\n",
    "# mutation rate\n",
    "m = 1\n",
    "# sampling efficiency\n",
    "ρ = 0.5\n",
    "\n",
    "params = Parameters(θ, μ, m, ρ)"
   ]
  },
  {
   "cell_type": "code",
   "execution_count": 3,
   "id": "e97862cc",
   "metadata": {},
   "outputs": [
    {
     "name": "stdout",
     "output_type": "stream",
     "text": [
      "initial objective 1.606651e+03\n",
      "iteration 1000, objective 1.605e+03, relative change 3.556e-12                                                                                                                                                                                                                                                                                                                                                                                                                                                                                                                                                                                                       \n",
      "maximum iteration 1000 reached with relative change in objective function 3.6e-12\n",
      "[ 2.70038175  1.32155432 -0.35630631  0.        ]\n",
      "initial objective 2.714258e+03\n"
     ]
    },
    {
     "name": "stderr",
     "output_type": "stream",
     "text": [
      "2022-07-26 15:57:45.253333: E external/org_tensorflow/tensorflow/compiler/xla/service/slow_operation_alarm.cc:62] \n",
      "********************************\n",
      "[Compiling module jit_g.51] Very slow compile?  If you want to file a bug, run with envvar XLA_FLAGS=--xla_dump_to=/tmp/foo and attach the results.\n",
      "********************************\n",
      "2022-07-26 15:58:11.989452: E external/org_tensorflow/tensorflow/compiler/xla/service/slow_operation_alarm.cc:131] The operation took 2m26.736316323s\n",
      "\n",
      "********************************\n",
      "[Compiling module jit_g.51] Very slow compile?  If you want to file a bug, run with envvar XLA_FLAGS=--xla_dump_to=/tmp/foo and attach the results.\n",
      "********************************\n"
     ]
    },
    {
     "name": "stdout",
     "output_type": "stream",
     "text": [
      "iteration 1000, objective 2.586e+03, relative change 2.310e-12               \n",
      "maximum iteration 1000 reached with relative change in objective function 2.3e-12\n",
      "[1.87957703 0.78882098 0.299561   0.        ]\n"
     ]
    }
   ],
   "source": [
    "T = 3\n",
    "n_trees = 10\n",
    "\n",
    "model_no_prune = Model(params)\n",
    "model_no_prune.simulate(T, n_trees, seed, False, 50, 96)\n",
    "θ_inferred_no_prune = model_no_prune.fit()\n",
    "print(θ_inferred_no_prune)\n",
    "\n",
    "model_prune = Model(params)\n",
    "model_prune.simulate(T, n_trees, seed, True, 50, 96)\n",
    "θ_inferred_prune = model_prune.fit()\n",
    "print(θ_inferred_prune)"
   ]
  },
  {
   "cell_type": "code",
   "execution_count": 4,
   "id": "f882891c",
   "metadata": {},
   "outputs": [],
   "source": [
    "def λ_(x: float, θ):\n",
    "    r\"\"\"Birth rate of phenotype x\n",
    "\n",
    "    Args:\n",
    "        x: phenotype\n",
    "\n",
    "    Returns:\n",
    "        float: birth rate\n",
    "    \"\"\"\n",
    "    return θ[0] * expit(θ[1] * (x - θ[2])) + θ[3]"
   ]
  },
  {
   "cell_type": "code",
   "execution_count": 5,
   "id": "ac57bf8a",
   "metadata": {},
   "outputs": [
    {
     "data": {
      "image/png": "[encoded data removed]",
      "text/plain": [
       "<Figure size 432x288 with 1 Axes>"
      ]
     },
     "metadata": {
      "needs_background": "light"
     },
     "output_type": "display_data"
    }
   ],
   "source": [
    "x_array = np.linspace(-10, 10)\n",
    "plt.figure()\n",
    "plt.plot(x_array, λ_(x_array, θ), label=\"true\")\n",
    "plt.plot(x_array, λ_(x_array, θ_inferred_no_prune), label=\"inferred no prune\")\n",
    "plt.plot(x_array, λ_(x_array, θ_inferred_prune), label=\"inferred prune\")\n",
    "plt.xlabel(r\"$x$\")\n",
    "plt.ylabel(r\"$\\lambda_\\theta(x)$\")\n",
    "plt.xlim(-10, 10)\n",
    "plt.legend()\n",
    "plt.show()"
   ]
  },
  {
   "cell_type": "markdown",
   "id": "d4555d57",
   "metadata": {},
   "source": [
    "random starting condition"
   ]
  },
  {
   "cell_type": "code",
   "execution_count": 6,
   "id": "264b476e",
   "metadata": {},
   "outputs": [
    {
     "name": "stdout",
     "output_type": "stream",
     "text": [
      "[ 0.08086788 -0.38624702 -0.37565558  1.66897423]\n"
     ]
    }
   ],
   "source": [
    "key = random.PRNGKey(seed)\n",
    "\n",
    "θ_random = random.normal(key, shape=(4,))\n",
    "print(θ_random)\n",
    "\n",
    "params_random = Parameters(θ_random, μ, m, ρ)"
   ]
  },
  {
   "cell_type": "code",
   "execution_count": 7,
   "id": "69988434",
   "metadata": {},
   "outputs": [
    {
     "name": "stdout",
     "output_type": "stream",
     "text": [
      "initial objective 1.786200e+03\n",
      "iteration 1000, objective 1.782e+03, relative change 5.835e-10                                                       \n",
      "maximum iteration 1000 reached with relative change in objective function 5.8e-10\n",
      "[ 0.48805391 -8.44553207  1.2947459   1.4002521 ]\n",
      "initial objective 3.285564e+03\n"
     ]
    },
    {
     "name": "stderr",
     "output_type": "stream",
     "text": [
      "2022-07-25 22:17:32.335330: E external/org_tensorflow/tensorflow/compiler/xla/service/slow_operation_alarm.cc:62] \n",
      "********************************\n",
      "[Compiling module jit_g.71] Very slow compile?  If you want to file a bug, run with envvar XLA_FLAGS=--xla_dump_to=/tmp/foo and attach the results.\n",
      "********************************\n",
      "2022-07-25 22:19:07.894835: E external/org_tensorflow/tensorflow/compiler/xla/service/slow_operation_alarm.cc:131] The operation took 3m35.559762577s\n",
      "\n",
      "********************************\n",
      "[Compiling module jit_g.71] Very slow compile?  If you want to file a bug, run with envvar XLA_FLAGS=--xla_dump_to=/tmp/foo and attach the results.\n",
      "********************************\n"
     ]
    },
    {
     "name": "stdout",
     "output_type": "stream",
     "text": [
      "iteration 1000, objective 3.168e+03, relative change 9.420e-08                                               \n",
      "maximum iteration 1000 reached with relative change in objective function 9.4e-08\n",
      "[ 0.30177914 10.50546034 -2.60011377  0.69164858]\n"
     ]
    }
   ],
   "source": [
    "T = 3\n",
    "n_trees = 10\n",
    "\n",
    "model_random_no_prune = Model(params_random)\n",
    "model_random_no_prune.simulate(T, n_trees, seed, False, 50, 96)\n",
    "θ_random_inferred_no_prune = model_random_no_prune.fit()\n",
    "print(θ_random_inferred_no_prune)\n",
    "\n",
    "model_random_prune = Model(params_random)\n",
    "model_random_prune.simulate(T, n_trees, seed, True, 50, 96)\n",
    "θ_random_inferred_prune = model_random_prune.fit()\n",
    "print(θ_random_inferred_prune)"
   ]
  },
  {
   "cell_type": "code",
   "execution_count": 10,
   "id": "7c69027e",
   "metadata": {},
   "outputs": [
    {
     "data": {
      "image/png": "[encoded data removed]",
      "text/plain": [
       "<Figure size 432x288 with 1 Axes>"
      ]
     },
     "metadata": {
      "needs_background": "light"
     },
     "output_type": "display_data"
    }
   ],
   "source": [
    "x_array = np.linspace(-10, 10)\n",
    "plt.figure()\n",
    "plt.plot(x_array, λ_(x_array, θ_random), label=\"initial\")\n",
    "plt.plot(x_array, λ_(x_array, θ_random_inferred_no_prune), label=\"no prune\")\n",
    "plt.plot(x_array, λ_(x_array, θ_random_inferred_prune), label=\"prune\")\n",
    "plt.xlabel(r\"$x$\")\n",
    "plt.ylabel(r\"$\\lambda_\\theta(x)$\")\n",
    "plt.xlim(-10, 10)\n",
    "plt.legend()\n",
    "plt.show()"
   ]
  },
  {
   "cell_type": "code",
   "execution_count": 11,
   "id": "5aa47691",
   "metadata": {},
   "outputs": [
    {
     "data": {
      "image/png": "[encoded data removed]",
      "text/plain": [
       "<Figure size 432x288 with 1 Axes>"
      ]
     },
     "metadata": {
      "needs_background": "light"
     },
     "output_type": "display_data"
    }
   ],
   "source": [
    "x_array = np.linspace(-10, 10)\n",
    "plt.figure()\n",
    "plt.plot(x_array, λ_(x_array, θ), label=\"true\")\n",
    "plt.plot(x_array, λ_(x_array, θ_random), label=\"initial\")\n",
    "plt.plot(x_array, λ_(x_array, θ_random_inferred_no_prune), label=\"no prune\")\n",
    "plt.plot(x_array, λ_(x_array, θ_random_inferred_prune), label=\"prune\")\n",
    "plt.xlabel(r\"$x$\")\n",
    "plt.ylabel(r\"$\\lambda_\\theta(x)$\")\n",
    "plt.xlim(-10, 10)\n",
    "plt.legend()\n",
    "plt.show()"
   ]
  }
 ],
 "metadata": {
  "kernelspec": {
   "display_name": "Python 3 (ipykernel)",
   "language": "python",
   "name": "python3"
  }
 },
 "nbformat": 4,
 "nbformat_minor": 5
}
