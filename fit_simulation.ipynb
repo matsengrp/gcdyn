{
 "cells": [
  {
   "cell_type": "code",
   "execution_count": 16,
   "id": "01afe95b",
   "metadata": {},
   "outputs": [],
   "source": [
    "import jax.numpy as np\n",
    "from jax import random\n",
    "from jax.scipy.special import expit\n",
    "import matplotlib.pyplot as plt\n",
    "\n",
    "from gcdyn.model import Model\n",
    "from gcdyn.parameters import Parameters"
   ]
  },
  {
   "cell_type": "code",
   "execution_count": 17,
   "id": "264b476e",
   "metadata": {},
   "outputs": [
    {
     "name": "stdout",
     "output_type": "stream",
     "text": [
      "[ 0.08086788 -0.38624702 -0.37565558  1.66897423]\n"
     ]
    }
   ],
   "source": [
    "# get random numbers for starting condition of response function parameters\n",
    "seed = 0\n",
    "key = random.PRNGKey(seed)\n",
    "θ = random.normal(key, shape=(4,))\n",
    "print(θ)"
   ]
  },
  {
   "cell_type": "code",
   "execution_count": 18,
   "id": "6618c90d",
   "metadata": {},
   "outputs": [],
   "source": [
    "# death rate\n",
    "μ = 1\n",
    "# mutation rate\n",
    "m = 1\n",
    "# sampling efficiency\n",
    "ρ = 0.5\n",
    "\n",
    "params = Parameters(θ, μ, m, ρ)"
   ]
  },
  {
   "cell_type": "code",
   "execution_count": 20,
   "id": "69988434",
   "metadata": {},
   "outputs": [
    {
     "name": "stdout",
     "output_type": "stream",
     "text": [
      "initial objective 1.245808e+03\n",
      "iteration 1000, objective 1.202e+03, relative change 3.713e-08                                                                                                                                                                                                       \n",
      "maximum iteration 1000 reached with relative change in objective function 3.7e-08\n",
      "[  0.6304408  -16.48077722   0.92547708   0.46211398]\n"
     ]
    }
   ],
   "source": [
    "T = 3\n",
    "n_trees = 10\n",
    "\n",
    "model = Model(params)\n",
    "model.simulate(T, n_trees, seed, 50, 96)\n",
    "θ_inferred = model.fit()\n",
    "print(θ_inferred)"
   ]
  },
  {
   "cell_type": "code",
   "execution_count": 28,
   "id": "9c6571ef",
   "metadata": {},
   "outputs": [],
   "source": [
    "def λ_(x: float, θ):\n",
    "    r\"\"\"Birth rate of phenotype x\n",
    "\n",
    "    Args:\n",
    "        x: phenotype\n",
    "\n",
    "    Returns:\n",
    "        float: birth rate\n",
    "    \"\"\"\n",
    "    return θ[0] * expit(θ[1] * (x - θ[2])) + θ[3]"
   ]
  },
  {
   "cell_type": "code",
   "execution_count": 29,
   "id": "7c69027e",
   "metadata": {},
   "outputs": [
    {
     "data": {
      "image/png": "[encoded data removed]",
      "text/plain": [
       "<Figure size 432x288 with 1 Axes>"
      ]
     },
     "metadata": {
      "needs_background": "light"
     },
     "output_type": "display_data"
    }
   ],
   "source": [
    "x_array = np.linspace(-10, 10)\n",
    "plt.figure()\n",
    "plt.plot(x_array, λ_(x_array, θ), label=\"true\")\n",
    "plt.plot(x_array, λ_(x_array, θ_inferred), label=\"inferred\")\n",
    "plt.xlabel(r\"$x$\")\n",
    "plt.ylabel(r\"$\\lambda_\\theta(x)$\")\n",
    "plt.xlim(-10, 10)\n",
    "plt.legend()\n",
    "plt.show()"
   ]
  }
 ],
 "metadata": {
  "kernelspec": {
   "display_name": "Python 3 (ipykernel)",
   "language": "python",
   "name": "python3"
  },
  "language_info": {
   "codemirror_mode": {
    "name": "ipython",
    "version": 3
   },
   "file_extension": ".py",
   "mimetype": "text/x-python",
   "name": "python",
   "nbconvert_exporter": "python",
   "pygments_lexer": "ipython3",
   "version": "3.9.12"
  }
 },
 "nbformat": 4,
 "nbformat_minor": 5
}
