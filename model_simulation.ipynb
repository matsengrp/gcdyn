{
 "cells": [
  {
   "cell_type": "code",
   "execution_count": 1,
   "id": "6c4ef048",
   "metadata": {},
   "outputs": [],
   "source": [
    "import jax.numpy as np\n",
    "from jax.scipy.special import expit\n",
    "\n",
    "from gcdyn.model import Model\n",
    "from gcdyn.parameters import Parameters"
   ]
  },
  {
   "cell_type": "code",
   "execution_count": 11,
   "id": "897f97fb",
   "metadata": {},
   "outputs": [],
   "source": [
    "T = 3\n",
    "seed = 0\n",
    "\n",
    "# response function parameters\n",
    "θ = np.array([3, 1, 0], dtype=float)\n",
    "# death rate\n",
    "μ = 1\n",
    "# mutation rate\n",
    "m = 1\n",
    "# sampling efficiency\n",
    "ρ = 0.5\n",
    "\n",
    "params = Parameters(θ, μ, m, ρ)"
   ]
  },
  {
   "cell_type": "code",
   "execution_count": 4,
   "id": "61a1fe6e",
   "metadata": {},
   "outputs": [],
   "source": [
    "n_trees = np.array([5, 10, 20, 30])\n",
    "θ0_array = np.empty([4,])\n",
    "θ1_array = np.empty([4,])\n",
    "θ2_array = np.empty([4,])"
   ]
  },
  {
   "cell_type": "code",
   "execution_count": null,
   "id": "8db8d330",
   "metadata": {},
   "outputs": [
    {
     "name": "stdout",
     "output_type": "stream",
     "text": [
      "initial objective 1.330873e+03\n",
      "iteration 1000, objective 1.270e+03, relative change 5.048e-13                                                                                                                                                                                                                                                                                                                                               \n",
      "maximum iteration 1000 reached with relative change in objective function 5e-13\n",
      "initial objective 2.906803e+03\n"
     ]
    },
    {
     "name": "stderr",
     "output_type": "stream",
     "text": [
      "2022-07-10 14:56:06.708376: E external/org_tensorflow/tensorflow/compiler/xla/service/slow_operation_alarm.cc:62] \n",
      "********************************\n",
      "[Compiling module jit_g.67] Very slow compile?  If you want to file a bug, run with envvar XLA_FLAGS=--xla_dump_to=/tmp/foo and attach the results.\n",
      "********************************\n",
      "2022-07-10 14:56:20.812542: E external/org_tensorflow/tensorflow/compiler/xla/service/slow_operation_alarm.cc:131] The operation took 2m14.104445879s\n",
      "\n",
      "********************************\n",
      "[Compiling module jit_g.67] Very slow compile?  If you want to file a bug, run with envvar XLA_FLAGS=--xla_dump_to=/tmp/foo and attach the results.\n",
      "********************************\n"
     ]
    },
    {
     "name": "stdout",
     "output_type": "stream",
     "text": [
      "iteration 1000, objective 2.770e+03, relative change 4.629e-12                                                                                                                               \n",
      "maximum iteration 1000 reached with relative change in objective function 4.6e-12\n"
     ]
    }
   ],
   "source": [
    "for i, n in enumerate(n_trees):\n",
    "    model = Model(params)\n",
    "    model.simulate(T, n, seed, 25, 50)\n",
    "    θ_inferred = model.fit()\n",
    "    print(θ_inferred)\n",
    "    θ0_array.at[i].set(θ_inferred[0])\n",
    "    θ1_array.at[i].set(θ_inferred[1])\n",
    "    θ2_array.at[i].set(θ_inferred[2])"
   ]
  },
  {
   "cell_type": "code",
   "execution_count": 3,
   "id": "702910fc",
   "metadata": {},
   "outputs": [
    {
     "name": "stdout",
     "output_type": "stream",
     "text": [
      "initial objective 6.329635e+02\n",
      "iteration 1000, objective 6.130e+02, relative change 1.163e-10                                                                                                                                                                                                                                                                                                               \n",
      "maximum iteration 1000 reached with relative change in objective function 1.2e-10\n",
      "[ 1.6388081   1.2004421  -0.42645465]\n"
     ]
    }
   ],
   "source": [
    "n_trees = 5\n",
    "\n",
    "model = Model(params)\n",
    "model.simulate(T, n_trees, seed, 25, 50)\n",
    "# for i, tree in enumerate(model.trees, 1):\n",
    "#     print(len(tree.tree))\n",
    "θ_inferred_5 = model.fit()\n",
    "print(θ_inferred_5)"
   ]
  },
  {
   "cell_type": "code",
   "execution_count": 6,
   "id": "ce7e8d42",
   "metadata": {},
   "outputs": [
    {
     "name": "stdout",
     "output_type": "stream",
     "text": [
      "initial objective 1.350653e+03\n",
      "iteration 1000, objective 1.299e+03, relative change 3.562e-12                                                                                                                                                                                                                                                                                                                                                                       \n",
      "maximum iteration 1000 reached with relative change in objective function 3.6e-12\n",
      "[1.88627638 1.01029    0.22986859]\n"
     ]
    }
   ],
   "source": [
    "n_trees = 10\n",
    "\n",
    "model = Model(params)\n",
    "model.simulate(T, n_trees, seed, 25, 50)\n",
    "θ_inferred_10 = model.fit()\n",
    "print(θ_inferred_10)"
   ]
  },
  {
   "cell_type": "code",
   "execution_count": 8,
   "id": "510fb23f",
   "metadata": {},
   "outputs": [
    {
     "name": "stdout",
     "output_type": "stream",
     "text": [
      "initial objective 2.714258e+03\n"
     ]
    },
    {
     "name": "stderr",
     "output_type": "stream",
     "text": [
      "2022-07-11 13:43:56.278702: E external/org_tensorflow/tensorflow/compiler/xla/service/slow_operation_alarm.cc:62] \n",
      "********************************\n",
      "[Compiling module jit_g.59] Very slow compile?  If you want to file a bug, run with envvar XLA_FLAGS=--xla_dump_to=/tmp/foo and attach the results.\n",
      "********************************\n",
      "2022-07-11 13:44:26.634342: E external/org_tensorflow/tensorflow/compiler/xla/service/slow_operation_alarm.cc:131] The operation took 2m30.3558029s\n",
      "\n",
      "********************************\n",
      "[Compiling module jit_g.59] Very slow compile?  If you want to file a bug, run with envvar XLA_FLAGS=--xla_dump_to=/tmp/foo and attach the results.\n",
      "********************************\n"
     ]
    },
    {
     "name": "stdout",
     "output_type": "stream",
     "text": [
      "iteration 1000, objective 2.586e+03, relative change 2.312e-12                                                                                                                                                                                                                                                                                                               \n",
      "maximum iteration 1000 reached with relative change in objective function 2.3e-12\n",
      "[1.87957703 0.78882098 0.299561  ]\n"
     ]
    }
   ],
   "source": [
    "n_trees = 10\n",
    "\n",
    "model = Model(params)\n",
    "model.simulate(T, n_trees, seed, 50, 96)\n",
    "θ_inferred_10 = model.fit()\n",
    "print(θ_inferred_10)"
   ]
  },
  {
   "cell_type": "code",
   "execution_count": 7,
   "id": "ca4c2a25",
   "metadata": {},
   "outputs": [
    {
     "name": "stdout",
     "output_type": "stream",
     "text": [
      "initial objective 2.863030e+03\n"
     ]
    },
    {
     "name": "stderr",
     "output_type": "stream",
     "text": [
      "2022-07-11 13:35:24.605122: E external/org_tensorflow/tensorflow/compiler/xla/service/slow_operation_alarm.cc:62] \n",
      "********************************\n",
      "[Compiling module jit_g.55] Very slow compile?  If you want to file a bug, run with envvar XLA_FLAGS=--xla_dump_to=/tmp/foo and attach the results.\n",
      "********************************\n",
      "2022-07-11 13:36:06.824249: E external/org_tensorflow/tensorflow/compiler/xla/service/slow_operation_alarm.cc:131] The operation took 2m42.219342983s\n",
      "\n",
      "********************************\n",
      "[Compiling module jit_g.55] Very slow compile?  If you want to file a bug, run with envvar XLA_FLAGS=--xla_dump_to=/tmp/foo and attach the results.\n",
      "********************************\n"
     ]
    },
    {
     "name": "stdout",
     "output_type": "stream",
     "text": [
      "iteration 1000, objective 2.738e+03, relative change 1.814e-12                                                                                                                                                                                                                       \n",
      "maximum iteration 1000 reached with relative change in objective function 1.8e-12\n",
      "[1.91375019 0.88355532 0.33872951]\n"
     ]
    }
   ],
   "source": [
    "n_trees = 20\n",
    "\n",
    "model = Model(params)\n",
    "model.simulate(T, n_trees, seed, 25, 50)\n",
    "θ_inferred_20 = model.fit()\n",
    "print(θ_inferred_20)"
   ]
  },
  {
   "cell_type": "code",
   "execution_count": 9,
   "id": "c3ee4331",
   "metadata": {},
   "outputs": [
    {
     "name": "stdout",
     "output_type": "stream",
     "text": [
      "initial objective 3.659908e+03\n"
     ]
    },
    {
     "name": "stderr",
     "output_type": "stream",
     "text": [
      "2022-07-11 13:54:03.510382: E external/org_tensorflow/tensorflow/compiler/xla/service/slow_operation_alarm.cc:62] \n",
      "********************************\n",
      "[Compiling module jit_g.63] Very slow compile?  If you want to file a bug, run with envvar XLA_FLAGS=--xla_dump_to=/tmp/foo and attach the results.\n",
      "********************************\n",
      "2022-07-11 13:55:09.682038: E external/org_tensorflow/tensorflow/compiler/xla/service/slow_operation_alarm.cc:131] The operation took 3m6.171785254s\n",
      "\n",
      "********************************\n",
      "[Compiling module jit_g.63] Very slow compile?  If you want to file a bug, run with envvar XLA_FLAGS=--xla_dump_to=/tmp/foo and attach the results.\n",
      "********************************\n"
     ]
    },
    {
     "name": "stdout",
     "output_type": "stream",
     "text": [
      "iteration 1000, objective 3.505e+03, relative change 3.065e-12                                                                                                                                                                                                                                                                                      \n",
      "maximum iteration 1000 reached with relative change in objective function 3.1e-12\n",
      "[1.79559724 0.92181355 0.07556602]\n"
     ]
    }
   ],
   "source": [
    "n_trees = 25\n",
    "\n",
    "model = Model(params)\n",
    "model.simulate(T, n_trees, seed, 25, 50)\n",
    "θ_inferred_20 = model.fit()\n",
    "print(θ_inferred_20)"
   ]
  },
  {
   "cell_type": "code",
   "execution_count": 10,
   "id": "636f1473",
   "metadata": {},
   "outputs": [
    {
     "name": "stdout",
     "output_type": "stream",
     "text": [
      "initial objective 4.360671e+03\n"
     ]
    },
    {
     "name": "stderr",
     "output_type": "stream",
     "text": [
      "2022-07-11 14:09:23.661127: E external/org_tensorflow/tensorflow/compiler/xla/service/slow_operation_alarm.cc:131] The operation took 5m28.165372962s\n",
      "\n",
      "********************************\n",
      "[Compiling module jit_g.67] Very slow compile?  If you want to file a bug, run with envvar XLA_FLAGS=--xla_dump_to=/tmp/foo and attach the results.\n",
      "********************************\n"
     ]
    },
    {
     "name": "stdout",
     "output_type": "stream",
     "text": [
      "iteration 1000, objective 4.172e+03, relative change 5.734e-13                                                                                                                                                                                                                                               \n",
      "maximum iteration 1000 reached with relative change in objective function 5.7e-13\n",
      "[1.81807761 0.91196913 0.14246649]\n"
     ]
    }
   ],
   "source": [
    "n_trees = 30\n",
    "\n",
    "model = Model(params)\n",
    "model.simulate(T, n_trees, seed, 25, 50)\n",
    "θ_inferred_20 = model.fit()\n",
    "print(θ_inferred_20)"
   ]
  },
  {
   "cell_type": "code",
   "execution_count": 5,
   "id": "f91ecced",
   "metadata": {},
   "outputs": [
    {
     "name": "stdout",
     "output_type": "stream",
     "text": [
      "tree 0\n",
      "tree 1\n",
      "tree 2\n",
      "tree 3\n",
      "tree 4\n",
      "tree 5\n",
      "tree 6\n",
      "tree 7\n",
      "tree 8\n",
      "tree 9\n",
      "tree 10\n",
      "tree 11\n",
      "tree 12\n",
      "tree 13\n",
      "tree 14\n",
      "initial objective 2.152560e+03\n",
      "iteration 1000, objective 2.062e+03, relative change 4.142e-12                                               \n",
      "maximum iteration 1000 reached with relative change in objective function 4.1e-12\n",
      "[2.02520291 0.79738333 0.45918894]\n"
     ]
    }
   ],
   "source": [
    "n_trees = 15\n",
    "\n",
    "model = Model(params)\n",
    "model.simulate(T, n_trees, seed, 25, 50)\n",
    "θ_inferred_20 = model.fit()\n",
    "print(θ_inferred_20)"
   ]
  },
  {
   "cell_type": "code",
   "execution_count": 4,
   "id": "55f68fb3",
   "metadata": {},
   "outputs": [],
   "source": [
    "import matplotlib.pyplot as plt"
   ]
  },
  {
   "cell_type": "code",
   "execution_count": 3,
   "id": "ca3980e1",
   "metadata": {},
   "outputs": [
    {
     "name": "stderr",
     "output_type": "stream",
     "text": [
      "WARNING:absl:No GPU/TPU found, falling back to CPU. (Set TF_CPP_MIN_LOG_LEVEL=0 and rerun for more info.)\n"
     ]
    }
   ],
   "source": [
    "n_trees = np.array([5, 10, 15, 20, 25, 30])\n",
    "\n",
    "θ0_array = np.array([1.6388081, 1.88627638, 2.02520291, 1.91375019, 1.79559724, 1.81807761])\n",
    "θ1_array = np.array([1.2004421, 1.01029, 0.79738333, 0.88355532, 0.92181355, 0.91196913])\n",
    "θ2_array = np.array([-0.42645465, 0.22986859, 0.45918894, 0.33872951, 0.07556602, 0.14246649])\n",
    "\n",
    "θ_inferred_5 = np.array([1.6388081, 1.2004421, -0.42645465])\n",
    "θ_inferred_10 = np.array([1.88627638, 1.01029, 0.22986859])\n",
    "θ_inferred_15 = np.array([2.02520291, 0.79738333, 0.45918894])\n",
    "θ_inferred_20 = np.array([1.91375019, 0.88355532, 0.33872951])\n",
    "θ_inferred_25 = np.array([1.79559724, 0.92181355, 0.07556602])\n",
    "θ_inferred_30 = np.array([1.81807761, 0.91196913, 0.14246649])\n",
    "\n"
   ]
  },
  {
   "cell_type": "code",
   "execution_count": 17,
   "id": "2b4b7dfc",
   "metadata": {},
   "outputs": [
    {
     "data": {
      "image/png": "[encoded data removed]",
      "text/plain": [
       "<Figure size 720x216 with 3 Axes>"
      ]
     },
     "metadata": {
      "needs_background": "light"
     },
     "output_type": "display_data"
    }
   ],
   "source": [
    "plt.figure(figsize=(10, 3))\n",
    "\n",
    "plt.subplot(131)\n",
    "plt.plot(n_trees, θ0_array)\n",
    "plt.xlabel(r\"n_trees\")\n",
    "plt.ylabel(r\"$\\theta_0$\")\n",
    "\n",
    "plt.subplot(132)\n",
    "plt.plot(n_trees, θ1_array)\n",
    "plt.xlabel(r\"n_trees\")\n",
    "plt.ylabel(r\"$\\theta_1$\")\n",
    "\n",
    "plt.subplot(133)\n",
    "plt.plot(n_trees, θ2_array)\n",
    "plt.xlabel(r\"n_trees\")\n",
    "plt.ylabel(r\"$\\theta_2$\")\n",
    "\n",
    "plt.tight_layout()\n",
    "plt.show()"
   ]
  },
  {
   "cell_type": "code",
   "execution_count": 18,
   "id": "9d17f152",
   "metadata": {},
   "outputs": [],
   "source": [
    "# relative change\n",
    "change = np.array([1.163e-10, 3.562e-12, 4.142e-12, 1.814e-12, 3.065e-12, 5.734e-13])"
   ]
  },
  {
   "cell_type": "code",
   "execution_count": 23,
   "id": "a4f7c672",
   "metadata": {},
   "outputs": [
    {
     "data": {
      "text/plain": [
       "Text(0, 0.5, 'log(relative change)')"
      ]
     },
     "execution_count": 23,
     "metadata": {},
     "output_type": "execute_result"
    },
    {
     "data": {
      "image/png": "[encoded data removed]",
      "text/plain": [
       "<Figure size 288x288 with 1 Axes>"
      ]
     },
     "metadata": {
      "needs_background": "light"
     },
     "output_type": "display_data"
    }
   ],
   "source": [
    "plt.figure(figsize=(4, 4))\n",
    "plt.plot(n_trees, np.log(change))\n",
    "plt.xlabel(r\"n_trees\")\n",
    "plt.ylabel(r\"log(relative change)\")\n"
   ]
  },
  {
   "cell_type": "code",
   "execution_count": 9,
   "id": "4a73d10a",
   "metadata": {},
   "outputs": [],
   "source": [
    "def λ_(x: float, θ):\n",
    "        r\"\"\"Birth rate of phenotype x\n",
    "\n",
    "        Args:\n",
    "            x: phenotype\n",
    "\n",
    "        Returns:\n",
    "            float: birth rate\n",
    "        \"\"\"\n",
    "        return θ[0] * expit(θ[1] * (x - θ[2]))"
   ]
  },
  {
   "cell_type": "code",
   "execution_count": 14,
   "id": "0c62e758",
   "metadata": {},
   "outputs": [
    {
     "data": {
      "image/png": "[encoded data removed]",
      "text/plain": [
       "<Figure size 288x288 with 1 Axes>"
      ]
     },
     "metadata": {
      "needs_background": "light"
     },
     "output_type": "display_data"
    }
   ],
   "source": [
    "x_array = np.linspace(-10, 10)\n",
    "plt.figure(figsize=(4, 4))\n",
    "plt.plot(x_array, λ_(x_array, θ), label=\"true\")\n",
    "plt.plot(x_array, λ_(x_array, θ_inferred_5), label=\"inferred 5\")\n",
    "plt.plot(x_array, λ_(x_array, θ_inferred_10), label=\"inferred 10\")\n",
    "plt.plot(x_array, λ_(x_array, θ_inferred_15), label=\"inferred 15\")\n",
    "plt.plot(x_array, λ_(x_array, θ_inferred_20), label=\"inferred 20\")\n",
    "plt.plot(x_array, λ_(x_array, θ_inferred_25), label=\"inferred 25\")\n",
    "plt.plot(x_array, λ_(x_array, θ_inferred_30), label=\"inferred 30\")\n",
    "plt.xlabel(r\"$x$\")\n",
    "plt.ylabel(r\"$\\lambda_\\theta(x)$\")\n",
    "plt.xlim(-10, 10)\n",
    "plt.legend()\n",
    "plt.show()"
   ]
  }
 ],
 "metadata": {
  "kernelspec": {
   "display_name": "Python 3 (ipykernel)",
   "language": "python",
   "name": "python3"
  }
 },
 "nbformat": 4,
 "nbformat_minor": 5
}
